{
 "cells": [
  {
   "cell_type": "markdown",
   "metadata": {},
   "source": [
    "# sys"
   ]
  },
  {
   "cell_type": "code",
   "execution_count": 1,
   "metadata": {},
   "outputs": [],
   "source": [
    "import sys"
   ]
  },
  {
   "cell_type": "code",
   "execution_count": 2,
   "metadata": {},
   "outputs": [
    {
     "data": {
      "text/plain": [
       "sys.version_info(major=3, minor=8, micro=5, releaselevel='final', serial=0)"
      ]
     },
     "execution_count": 2,
     "metadata": {},
     "output_type": "execute_result"
    }
   ],
   "source": [
    "sys.version_info"
   ]
  },
  {
   "cell_type": "code",
   "execution_count": 3,
   "metadata": {},
   "outputs": [
    {
     "data": {
      "text/plain": [
       "True"
      ]
     },
     "execution_count": 3,
     "metadata": {},
     "output_type": "execute_result"
    }
   ],
   "source": [
    "sys.version_info.minor == 8"
   ]
  },
  {
   "cell_type": "markdown",
   "metadata": {},
   "source": [
    "# logging"
   ]
  },
  {
   "cell_type": "markdown",
   "metadata": {},
   "source": [
    "see stdlib_logging.py"
   ]
  },
  {
   "cell_type": "code",
   "execution_count": 4,
   "metadata": {},
   "outputs": [
    {
     "name": "stdout",
     "output_type": "stream",
     "text": [
      "Logging to C:\\Users\\Jeremy\\test.log\n"
     ]
    }
   ],
   "source": [
    "import os\n",
    "import platform\n",
    "import logging\n",
    "\n",
    "if platform.platform().startswith('Windows'):\n",
    "\tlogging_file = os.path.join(os.getenv('HOMEDRIVE'),\n",
    "\t\t\t\t\t\t\t\tos.getenv('HOMEPATH'),\n",
    "\t\t\t\t\t\t\t\t'test.log')\n",
    "else:\n",
    "\tlogging_file = os.path.join(os.getenv('HOME'),\n",
    "\t\t\t\t\t\t\t\t'test.log')\n",
    "\n",
    "print('Logging to', logging_file)\n",
    "\n",
    "logging.basicConfig(\n",
    "\tlevel=logging.DEBUG,\n",
    "\tformat='%(asctime)s : %(levelname)s : %(message)s',\n",
    "\tfilename=logging_file,\n",
    "\tfilemode='w',\n",
    ")\n",
    "\n",
    "logging.debug(\"Start of the program\")\n",
    "logging.info(\"Doing something\")\n",
    "logging.warning(\"Dying now\")"
   ]
  },
  {
   "cell_type": "markdown",
   "metadata": {},
   "source": [
    "# More:\n",
    "\n",
    "http://pymotw.com/2/contents.html"
   ]
  }
 ],
 "metadata": {
  "kernelspec": {
   "display_name": "Python 3",
   "language": "python",
   "name": "python3"
  },
  "language_info": {
   "codemirror_mode": {
    "name": "ipython",
    "version": 3
   },
   "file_extension": ".py",
   "mimetype": "text/x-python",
   "name": "python",
   "nbconvert_exporter": "python",
   "pygments_lexer": "ipython3",
   "version": "3.8.5"
  }
 },
 "nbformat": 4,
 "nbformat_minor": 4
}
