{
 "cells": [
  {
   "cell_type": "code",
   "execution_count": 1,
   "metadata": {
    "collapsed": true
   },
   "outputs": [],
   "source": [
    "# list filtering syntax\n",
    "# [maaping-expression for element in source-list if filter-expression]"
   ]
  },
  {
   "cell_type": "code",
   "execution_count": 2,
   "metadata": {
    "collapsed": true
   },
   "outputs": [],
   "source": [
    "# introducing List Filtering"
   ]
  },
  {
   "cell_type": "code",
   "execution_count": 4,
   "metadata": {
    "collapsed": false
   },
   "outputs": [],
   "source": [
    "li = [\"a\", \"mpi\", \"foo\", \"b\", \"c\", \"b\", \"d\", \"d\"]"
   ]
  },
  {
   "cell_type": "code",
   "execution_count": 5,
   "metadata": {
    "collapsed": false
   },
   "outputs": [
    {
     "data": {
      "text/plain": [
       "['mpi', 'foo']"
      ]
     },
     "execution_count": 5,
     "metadata": {},
     "output_type": "execute_result"
    }
   ],
   "source": [
    "[elem for elem in li if len(elem) > 1]"
   ]
  },
  {
   "cell_type": "code",
   "execution_count": 6,
   "metadata": {
    "collapsed": false
   },
   "outputs": [
    {
     "data": {
      "text/plain": [
       "['a', 'mpi', 'foo', 'c', 'd', 'd']"
      ]
     },
     "execution_count": 6,
     "metadata": {},
     "output_type": "execute_result"
    }
   ],
   "source": [
    "[elem for elem in li if elem != \"b\"]"
   ]
  },
  {
   "cell_type": "code",
   "execution_count": 7,
   "metadata": {
    "collapsed": false
   },
   "outputs": [
    {
     "data": {
      "text/plain": [
       "['a', 'mpi', 'foo', 'c']"
      ]
     },
     "execution_count": 7,
     "metadata": {},
     "output_type": "execute_result"
    }
   ],
   "source": [
    "[elem for elem in li if li.count(elem) == 1]"
   ]
  },
  {
   "cell_type": "code",
   "execution_count": 8,
   "metadata": {
    "collapsed": false
   },
   "outputs": [
    {
     "name": "stdout",
     "output_type": "stream",
     "text": [
      "__call__   x.__call__(...) <==> x(...)\n",
      "__class__  <attribute '__doc__' of 'builtin_function_or_method' objects>\n",
      "__cmp__    x.__cmp__(y) <==> cmp(x,y)\n",
      "__delattr__ x.__delattr__('name') <==> del x.name\n",
      "__eq__     x.__eq__(y) <==> x==y\n",
      "__format__ default object formatter\n",
      "__ge__     x.__ge__(y) <==> x>=y\n",
      "__getattribute__ x.__getattribute__('name') <==> x.name\n",
      "__gt__     x.__gt__(y) <==> x>y\n",
      "__hash__   x.__hash__() <==> hash(x)\n",
      "__init__   x.__init__(...) initializes x; see help(type(x)) for signature\n",
      "__le__     x.__le__(y) <==> x<=y\n",
      "__lt__     x.__lt__(y) <==> x<y\n",
      "__ne__     x.__ne__(y) <==> x!=y\n",
      "__new__    T.__new__(S, ...) -> a new object with type S, a subtype of T\n",
      "__reduce__ helper for pickle\n",
      "__reduce_ex__ helper for pickle\n",
      "__repr__   x.__repr__() <==> repr(x)\n",
      "__setattr__ x.__setattr__('name', value) <==> x.name = value\n",
      "__sizeof__ __sizeof__() -> int size of object in memory, in bytes\n",
      "__str__    x.__str__() <==> str(x)\n",
      "__subclasshook__ Abstract classes can override this to customize issubclass(). This is invoked early on by abc.ABCMeta.__subclasscheck__(). It should return True, False or NotImplemented. If it returns NotImplemented, the normal algorithm is used. Otherwise, it overrides the normal algorithm (and the outcome is cached).\n"
     ]
    }
   ],
   "source": [
    "from apihelper import info\n",
    "\n",
    "info(dir)"
   ]
  },
  {
   "cell_type": "code",
   "execution_count": null,
   "metadata": {
    "collapsed": true
   },
   "outputs": [],
   "source": []
  }
 ],
 "metadata": {
  "kernelspec": {
   "display_name": "Python 2",
   "language": "python",
   "name": "python2"
  },
  "language_info": {
   "codemirror_mode": {
    "name": "ipython",
    "version": 2
   },
   "file_extension": ".py",
   "mimetype": "text/x-python",
   "name": "python",
   "nbconvert_exporter": "python",
   "pygments_lexer": "ipython2",
   "version": "2.7.13"
  }
 },
 "nbformat": 4,
 "nbformat_minor": 2
}
