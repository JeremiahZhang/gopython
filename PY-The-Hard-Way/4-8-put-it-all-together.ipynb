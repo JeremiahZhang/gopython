{
 "cells": [
  {
   "cell_type": "markdown",
   "metadata": {
    "collapsed": true
   },
   "source": [
    "# Getting a doc string Dynamically "
   ]
  },
  {
   "cell_type": "code",
   "execution_count": 1,
   "metadata": {
    "collapsed": true
   },
   "outputs": [],
   "source": [
    "import apihelper"
   ]
  },
  {
   "cell_type": "code",
   "execution_count": 2,
   "metadata": {
    "collapsed": true
   },
   "outputs": [],
   "source": [
    "obj = apihelper"
   ]
  },
  {
   "cell_type": "code",
   "execution_count": 3,
   "metadata": {
    "collapsed": true
   },
   "outputs": [],
   "source": [
    "method = \"info\""
   ]
  },
  {
   "cell_type": "code",
   "execution_count": 5,
   "metadata": {
    "collapsed": false
   },
   "outputs": [
    {
     "data": {
      "text/plain": [
       "<function apihelper.info>"
      ]
     },
     "execution_count": 5,
     "metadata": {},
     "output_type": "execute_result"
    }
   ],
   "source": [
    "getattr(obj, method)"
   ]
  },
  {
   "cell_type": "code",
   "execution_count": 6,
   "metadata": {
    "collapsed": false
   },
   "outputs": [
    {
     "name": "stdout",
     "output_type": "stream",
     "text": [
      " Print methods and doc strings.\n",
      "\n",
      "\tTakes module, class, list, dictionary, or string.\n"
     ]
    }
   ],
   "source": [
    "print getattr(obj, method).__doc__"
   ]
  },
  {
   "cell_type": "code",
   "execution_count": 7,
   "metadata": {
    "collapsed": true
   },
   "outputs": [],
   "source": [
    "li = []"
   ]
  },
  {
   "cell_type": "code",
   "execution_count": 8,
   "metadata": {
    "collapsed": true
   },
   "outputs": [],
   "source": [
    "obj_li = li"
   ]
  },
  {
   "cell_type": "code",
   "execution_count": 11,
   "metadata": {
    "collapsed": false
   },
   "outputs": [
    {
     "name": "stdout",
     "output_type": "stream",
     "text": [
      "__add__    x.__add__(y) <==> x+y\n",
      "__class__  list() -> new empty list list(iterable) -> new list initialized from iterable's items\n",
      "__contains__ x.__contains__(y) <==> y in x\n",
      "__delattr__ x.__delattr__('name') <==> del x.name\n",
      "__delitem__ x.__delitem__(y) <==> del x[y]\n",
      "__delslice__ x.__delslice__(i, j) <==> del x[i:j] Use of negative indices is not supported.\n",
      "__eq__     x.__eq__(y) <==> x==y\n",
      "__format__ default object formatter\n",
      "__ge__     x.__ge__(y) <==> x>=y\n",
      "__getattribute__ x.__getattribute__('name') <==> x.name\n",
      "__getitem__ x.__getitem__(y) <==> x[y]\n",
      "__getslice__ x.__getslice__(i, j) <==> x[i:j] Use of negative indices is not supported.\n",
      "__gt__     x.__gt__(y) <==> x>y\n",
      "__iadd__   x.__iadd__(y) <==> x+=y\n",
      "__imul__   x.__imul__(y) <==> x*=y\n",
      "__init__   x.__init__(...) initializes x; see help(type(x)) for signature\n",
      "__iter__   x.__iter__() <==> iter(x)\n",
      "__le__     x.__le__(y) <==> x<=y\n",
      "__len__    x.__len__() <==> len(x)\n",
      "__lt__     x.__lt__(y) <==> x<y\n",
      "__mul__    x.__mul__(n) <==> x*n\n",
      "__ne__     x.__ne__(y) <==> x!=y\n",
      "__new__    T.__new__(S, ...) -> a new object with type S, a subtype of T\n",
      "__reduce__ helper for pickle\n",
      "__reduce_ex__ helper for pickle\n",
      "__repr__   x.__repr__() <==> repr(x)\n",
      "__reversed__ L.__reversed__() -- return a reverse iterator over the list\n",
      "__rmul__   x.__rmul__(n) <==> n*x\n",
      "__setattr__ x.__setattr__('name', value) <==> x.name = value\n",
      "__setitem__ x.__setitem__(i, y) <==> x[i]=y\n",
      "__setslice__ x.__setslice__(i, j, y) <==> x[i:j]=y Use of negative indices is not supported.\n",
      "__sizeof__ L.__sizeof__() -- size of L in memory, in bytes\n",
      "__str__    x.__str__() <==> str(x)\n",
      "__subclasshook__ Abstract classes can override this to customize issubclass(). This is invoked early on by abc.ABCMeta.__subclasscheck__(). It should return True, False or NotImplemented. If it returns NotImplemented, the normal algorithm is used. Otherwise, it overrides the normal algorithm (and the outcome is cached).\n",
      "append     L.append(object) -- append object to end\n",
      "count      L.count(value) -> integer -- return number of occurrences of value\n",
      "extend     L.extend(iterable) -- extend list by appending elements from the iterable\n",
      "index      L.index(value, [start, [stop]]) -> integer -- return first index of value. Raises ValueError if the value is not present.\n",
      "insert     L.insert(index, object) -- insert object before index\n",
      "pop        L.pop([index]) -> item -- remove and return item at index (default last). Raises IndexError if list is empty or index is out of range.\n",
      "remove     L.remove(value) -- remove first occurrence of value. Raises ValueError if the value is not present.\n",
      "reverse    L.reverse() -- reverse *IN PLACE*\n",
      "sort       L.sort(cmp=None, key=None, reverse=False) -- stable sort *IN PLACE*; cmp(x, y) -> -1, 0, 1\n"
     ]
    }
   ],
   "source": [
    "getattr(obj, method)(li)"
   ]
  },
  {
   "cell_type": "code",
   "execution_count": 12,
   "metadata": {
    "collapsed": true
   },
   "outputs": [],
   "source": [
    "method_li = \"append\""
   ]
  },
  {
   "cell_type": "code",
   "execution_count": 13,
   "metadata": {
    "collapsed": false
   },
   "outputs": [
    {
     "data": {
      "text/plain": [
       "<function append>"
      ]
     },
     "execution_count": 13,
     "metadata": {},
     "output_type": "execute_result"
    }
   ],
   "source": [
    "getattr(obj_li, method_li)"
   ]
  },
  {
   "cell_type": "code",
   "execution_count": 14,
   "metadata": {
    "collapsed": false
   },
   "outputs": [
    {
     "name": "stdout",
     "output_type": "stream",
     "text": [
      "L.append(object) -- append object to end\n"
     ]
    }
   ],
   "source": [
    "print getattr(obj_li, method_li).__doc__"
   ]
  },
  {
   "cell_type": "markdown",
   "metadata": {},
   "source": [
    "# Why Use str on a doc string? "
   ]
  },
  {
   "cell_type": "code",
   "execution_count": 15,
   "metadata": {
    "collapsed": true
   },
   "outputs": [],
   "source": [
    "def foo(): print 2"
   ]
  },
  {
   "cell_type": "code",
   "execution_count": 16,
   "metadata": {
    "collapsed": false
   },
   "outputs": [
    {
     "name": "stdout",
     "output_type": "stream",
     "text": [
      "2\n"
     ]
    }
   ],
   "source": [
    "foo()"
   ]
  },
  {
   "cell_type": "code",
   "execution_count": 17,
   "metadata": {
    "collapsed": true
   },
   "outputs": [],
   "source": [
    "foo.__doc__"
   ]
  },
  {
   "cell_type": "code",
   "execution_count": 18,
   "metadata": {
    "collapsed": false
   },
   "outputs": [
    {
     "data": {
      "text/plain": [
       "True"
      ]
     },
     "execution_count": 18,
     "metadata": {},
     "output_type": "execute_result"
    }
   ],
   "source": [
    "foo.__doc__ == None"
   ]
  },
  {
   "cell_type": "code",
   "execution_count": 19,
   "metadata": {
    "collapsed": false
   },
   "outputs": [
    {
     "data": {
      "text/plain": [
       "'None'"
      ]
     },
     "execution_count": 19,
     "metadata": {},
     "output_type": "execute_result"
    }
   ],
   "source": [
    "str(foo.__doc__)"
   ]
  },
  {
   "cell_type": "markdown",
   "metadata": {},
   "source": [
    "# introducing ljust"
   ]
  },
  {
   "cell_type": "code",
   "execution_count": 20,
   "metadata": {
    "collapsed": true
   },
   "outputs": [],
   "source": [
    "s = \"buildConnectionString\""
   ]
  },
  {
   "cell_type": "code",
   "execution_count": 21,
   "metadata": {
    "collapsed": false
   },
   "outputs": [
    {
     "data": {
      "text/plain": [
       "'buildConnectionString         '"
      ]
     },
     "execution_count": 21,
     "metadata": {},
     "output_type": "execute_result"
    }
   ],
   "source": [
    "s.ljust(30)"
   ]
  },
  {
   "cell_type": "code",
   "execution_count": 22,
   "metadata": {
    "collapsed": false
   },
   "outputs": [
    {
     "data": {
      "text/plain": [
       "'buildConnectionString'"
      ]
     },
     "execution_count": 22,
     "metadata": {},
     "output_type": "execute_result"
    }
   ],
   "source": [
    "s.ljust(20)"
   ]
  },
  {
   "cell_type": "markdown",
   "metadata": {},
   "source": [
    "# print a List"
   ]
  },
  {
   "cell_type": "code",
   "execution_count": 24,
   "metadata": {
    "collapsed": true
   },
   "outputs": [],
   "source": [
    "li = [\"a\", \"b\", \"c\"]"
   ]
  },
  {
   "cell_type": "code",
   "execution_count": 25,
   "metadata": {
    "collapsed": false
   },
   "outputs": [
    {
     "name": "stdout",
     "output_type": "stream",
     "text": [
      "a\n",
      "b\n",
      "c\n"
     ]
    }
   ],
   "source": [
    "print \"\\n\".join(li)"
   ]
  },
  {
   "cell_type": "code",
   "execution_count": 27,
   "metadata": {
    "collapsed": false
   },
   "outputs": [
    {
     "data": {
      "text/plain": [
       "['__add__',\n",
       " '__class__',\n",
       " '__contains__',\n",
       " '__delattr__',\n",
       " '__delitem__',\n",
       " '__delslice__',\n",
       " '__doc__',\n",
       " '__eq__',\n",
       " '__format__',\n",
       " '__ge__',\n",
       " '__getattribute__',\n",
       " '__getitem__',\n",
       " '__getslice__',\n",
       " '__gt__',\n",
       " '__hash__',\n",
       " '__iadd__',\n",
       " '__imul__',\n",
       " '__init__',\n",
       " '__iter__',\n",
       " '__le__',\n",
       " '__len__',\n",
       " '__lt__',\n",
       " '__mul__',\n",
       " '__ne__',\n",
       " '__new__',\n",
       " '__reduce__',\n",
       " '__reduce_ex__',\n",
       " '__repr__',\n",
       " '__reversed__',\n",
       " '__rmul__',\n",
       " '__setattr__',\n",
       " '__setitem__',\n",
       " '__setslice__',\n",
       " '__sizeof__',\n",
       " '__str__',\n",
       " '__subclasshook__',\n",
       " 'append',\n",
       " 'count',\n",
       " 'extend',\n",
       " 'index',\n",
       " 'insert',\n",
       " 'pop',\n",
       " 'remove',\n",
       " 'reverse',\n",
       " 'sort']"
      ]
     },
     "execution_count": 27,
     "metadata": {},
     "output_type": "execute_result"
    }
   ],
   "source": [
    "dir(list)"
   ]
  },
  {
   "cell_type": "code",
   "execution_count": 28,
   "metadata": {
    "collapsed": true
   },
   "outputs": [],
   "source": [
    "from apihelper import info"
   ]
  },
  {
   "cell_type": "code",
   "execution_count": 29,
   "metadata": {
    "collapsed": true
   },
   "outputs": [],
   "source": [
    "li = []"
   ]
  },
  {
   "cell_type": "code",
   "execution_count": 30,
   "metadata": {
    "collapsed": false
   },
   "outputs": [
    {
     "name": "stdout",
     "output_type": "stream",
     "text": [
      "__add__    x.__add__(y) <==> x+y\n",
      "__class__  list() -> new empty list list(iterable) -> new list initialized from iterable's items\n",
      "__contains__ x.__contains__(y) <==> y in x\n",
      "__delattr__ x.__delattr__('name') <==> del x.name\n",
      "__delitem__ x.__delitem__(y) <==> del x[y]\n",
      "__delslice__ x.__delslice__(i, j) <==> del x[i:j] Use of negative indices is not supported.\n",
      "__eq__     x.__eq__(y) <==> x==y\n",
      "__format__ default object formatter\n",
      "__ge__     x.__ge__(y) <==> x>=y\n",
      "__getattribute__ x.__getattribute__('name') <==> x.name\n",
      "__getitem__ x.__getitem__(y) <==> x[y]\n",
      "__getslice__ x.__getslice__(i, j) <==> x[i:j] Use of negative indices is not supported.\n",
      "__gt__     x.__gt__(y) <==> x>y\n",
      "__iadd__   x.__iadd__(y) <==> x+=y\n",
      "__imul__   x.__imul__(y) <==> x*=y\n",
      "__init__   x.__init__(...) initializes x; see help(type(x)) for signature\n",
      "__iter__   x.__iter__() <==> iter(x)\n",
      "__le__     x.__le__(y) <==> x<=y\n",
      "__len__    x.__len__() <==> len(x)\n",
      "__lt__     x.__lt__(y) <==> x<y\n",
      "__mul__    x.__mul__(n) <==> x*n\n",
      "__ne__     x.__ne__(y) <==> x!=y\n",
      "__new__    T.__new__(S, ...) -> a new object with type S, a subtype of T\n",
      "__reduce__ helper for pickle\n",
      "__reduce_ex__ helper for pickle\n",
      "__repr__   x.__repr__() <==> repr(x)\n",
      "__reversed__ L.__reversed__() -- return a reverse iterator over the list\n",
      "__rmul__   x.__rmul__(n) <==> n*x\n",
      "__setattr__ x.__setattr__('name', value) <==> x.name = value\n",
      "__setitem__ x.__setitem__(i, y) <==> x[i]=y\n",
      "__setslice__ x.__setslice__(i, j, y) <==> x[i:j]=y Use of negative indices is not supported.\n",
      "__sizeof__ L.__sizeof__() -- size of L in memory, in bytes\n",
      "__str__    x.__str__() <==> str(x)\n",
      "__subclasshook__ Abstract classes can override this to customize issubclass(). This is invoked early on by abc.ABCMeta.__subclasscheck__(). It should return True, False or NotImplemented. If it returns NotImplemented, the normal algorithm is used. Otherwise, it overrides the normal algorithm (and the outcome is cached).\n",
      "append     L.append(object) -- append object to end\n",
      "count      L.count(value) -> integer -- return number of occurrences of value\n",
      "extend     L.extend(iterable) -- extend list by appending elements from the iterable\n",
      "index      L.index(value, [start, [stop]]) -> integer -- return first index of value. Raises ValueError if the value is not present.\n",
      "insert     L.insert(index, object) -- insert object before index\n",
      "pop        L.pop([index]) -> item -- remove and return item at index (default last). Raises IndexError if list is empty or index is out of range.\n",
      "remove     L.remove(value) -- remove first occurrence of value. Raises ValueError if the value is not present.\n",
      "reverse    L.reverse() -- reverse *IN PLACE*\n",
      "sort       L.sort(cmp=None, key=None, reverse=False) -- stable sort *IN PLACE*; cmp(x, y) -> -1, 0, 1\n"
     ]
    }
   ],
   "source": [
    "info(li)"
   ]
  },
  {
   "cell_type": "markdown",
   "metadata": {},
   "source": [
    "> summary\n",
    "\n",
    "- Defining and calling functions with optional and named arguments\n",
    "- Using str to coerce any arbitrary value into a string representation\n",
    "- Using getattr to get references to functions and other attributes dynamically\n",
    "- Extending the list comprehension syntax to do list filtering\n",
    "- Recognizing the and-or trick and using it safely\n",
    "- Defining lambda functions\n",
    "- Assigning functions to variables and calling the function by referencing the variable. I can't emphasize this enough, because this mode of thought is vital to advancing your understanding of Python. You'll see more complex applications of this concept throughout this book.\n",
    "\n"
   ]
  },
  {
   "cell_type": "code",
   "execution_count": null,
   "metadata": {
    "collapsed": true
   },
   "outputs": [],
   "source": []
  }
 ],
 "metadata": {
  "kernelspec": {
   "display_name": "Python 2",
   "language": "python",
   "name": "python2"
  },
  "language_info": {
   "codemirror_mode": {
    "name": "ipython",
    "version": 2
   },
   "file_extension": ".py",
   "mimetype": "text/x-python",
   "name": "python",
   "nbconvert_exporter": "python",
   "pygments_lexer": "ipython2",
   "version": "2.7.13"
  }
 },
 "nbformat": 4,
 "nbformat_minor": 2
}
