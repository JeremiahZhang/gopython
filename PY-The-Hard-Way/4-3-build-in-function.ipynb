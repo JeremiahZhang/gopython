{
 "cells": [
  {
   "cell_type": "code",
   "execution_count": 3,
   "metadata": {
    "collapsed": false
   },
   "outputs": [
    {
     "data": {
      "text/plain": [
       "int"
      ]
     },
     "execution_count": 3,
     "metadata": {},
     "output_type": "execute_result"
    }
   ],
   "source": [
    "type(1)"
   ]
  },
  {
   "cell_type": "code",
   "execution_count": 4,
   "metadata": {
    "collapsed": true
   },
   "outputs": [],
   "source": [
    "li = []"
   ]
  },
  {
   "cell_type": "code",
   "execution_count": 5,
   "metadata": {
    "collapsed": false
   },
   "outputs": [
    {
     "data": {
      "text/plain": [
       "list"
      ]
     },
     "execution_count": 5,
     "metadata": {},
     "output_type": "execute_result"
    }
   ],
   "source": [
    "type(li)"
   ]
  },
  {
   "cell_type": "markdown",
   "metadata": {},
   "source": [
    "the str function"
   ]
  },
  {
   "cell_type": "code",
   "execution_count": 6,
   "metadata": {
    "collapsed": false
   },
   "outputs": [
    {
     "data": {
      "text/plain": [
       "'1'"
      ]
     },
     "execution_count": 6,
     "metadata": {},
     "output_type": "execute_result"
    }
   ],
   "source": [
    "str(1)"
   ]
  },
  {
   "cell_type": "code",
   "execution_count": 7,
   "metadata": {
    "collapsed": true
   },
   "outputs": [],
   "source": [
    "horseman = [\"war\", \"pestilence\", \"famine\"]"
   ]
  },
  {
   "cell_type": "code",
   "execution_count": 8,
   "metadata": {
    "collapsed": false
   },
   "outputs": [
    {
     "data": {
      "text/plain": [
       "['war', 'pestilence', 'famine']"
      ]
     },
     "execution_count": 8,
     "metadata": {},
     "output_type": "execute_result"
    }
   ],
   "source": [
    "horseman"
   ]
  },
  {
   "cell_type": "code",
   "execution_count": 9,
   "metadata": {
    "collapsed": true
   },
   "outputs": [],
   "source": [
    "horseman.append(\"Powerbuilder\")"
   ]
  },
  {
   "cell_type": "code",
   "execution_count": 10,
   "metadata": {
    "collapsed": false
   },
   "outputs": [
    {
     "data": {
      "text/plain": [
       "\"['war', 'pestilence', 'famine', 'Powerbuilder']\""
      ]
     },
     "execution_count": 10,
     "metadata": {},
     "output_type": "execute_result"
    }
   ],
   "source": [
    "str(horseman)"
   ]
  },
  {
   "cell_type": "code",
   "execution_count": 11,
   "metadata": {
    "collapsed": false
   },
   "outputs": [
    {
     "data": {
      "text/plain": [
       "'None'"
      ]
     },
     "execution_count": 11,
     "metadata": {},
     "output_type": "execute_result"
    }
   ],
   "source": [
    "str(None)"
   ]
  },
  {
   "cell_type": "markdown",
   "metadata": {},
   "source": [
    "introducing dir"
   ]
  },
  {
   "cell_type": "code",
   "execution_count": 12,
   "metadata": {
    "collapsed": false
   },
   "outputs": [
    {
     "data": {
      "text/plain": [
       "['__add__',\n",
       " '__class__',\n",
       " '__contains__',\n",
       " '__delattr__',\n",
       " '__delitem__',\n",
       " '__delslice__',\n",
       " '__doc__',\n",
       " '__eq__',\n",
       " '__format__',\n",
       " '__ge__',\n",
       " '__getattribute__',\n",
       " '__getitem__',\n",
       " '__getslice__',\n",
       " '__gt__',\n",
       " '__hash__',\n",
       " '__iadd__',\n",
       " '__imul__',\n",
       " '__init__',\n",
       " '__iter__',\n",
       " '__le__',\n",
       " '__len__',\n",
       " '__lt__',\n",
       " '__mul__',\n",
       " '__ne__',\n",
       " '__new__',\n",
       " '__reduce__',\n",
       " '__reduce_ex__',\n",
       " '__repr__',\n",
       " '__reversed__',\n",
       " '__rmul__',\n",
       " '__setattr__',\n",
       " '__setitem__',\n",
       " '__setslice__',\n",
       " '__sizeof__',\n",
       " '__str__',\n",
       " '__subclasshook__',\n",
       " 'append',\n",
       " 'count',\n",
       " 'extend',\n",
       " 'index',\n",
       " 'insert',\n",
       " 'pop',\n",
       " 'remove',\n",
       " 'reverse',\n",
       " 'sort']"
      ]
     },
     "execution_count": 12,
     "metadata": {},
     "output_type": "execute_result"
    }
   ],
   "source": [
    "dir(li)"
   ]
  },
  {
   "cell_type": "code",
   "execution_count": 13,
   "metadata": {
    "collapsed": true
   },
   "outputs": [],
   "source": [
    "d = {}"
   ]
  },
  {
   "cell_type": "code",
   "execution_count": 15,
   "metadata": {
    "collapsed": false
   },
   "outputs": [
    {
     "data": {
      "text/plain": [
       "['__class__',\n",
       " '__cmp__',\n",
       " '__contains__',\n",
       " '__delattr__',\n",
       " '__delitem__',\n",
       " '__doc__',\n",
       " '__eq__',\n",
       " '__format__',\n",
       " '__ge__',\n",
       " '__getattribute__',\n",
       " '__getitem__',\n",
       " '__gt__',\n",
       " '__hash__',\n",
       " '__init__',\n",
       " '__iter__',\n",
       " '__le__',\n",
       " '__len__',\n",
       " '__lt__',\n",
       " '__ne__',\n",
       " '__new__',\n",
       " '__reduce__',\n",
       " '__reduce_ex__',\n",
       " '__repr__',\n",
       " '__setattr__',\n",
       " '__setitem__',\n",
       " '__sizeof__',\n",
       " '__str__',\n",
       " '__subclasshook__',\n",
       " 'clear',\n",
       " 'copy',\n",
       " 'fromkeys',\n",
       " 'get',\n",
       " 'has_key',\n",
       " 'items',\n",
       " 'iteritems',\n",
       " 'iterkeys',\n",
       " 'itervalues',\n",
       " 'keys',\n",
       " 'pop',\n",
       " 'popitem',\n",
       " 'setdefault',\n",
       " 'update',\n",
       " 'values',\n",
       " 'viewitems',\n",
       " 'viewkeys',\n",
       " 'viewvalues']"
      ]
     },
     "execution_count": 15,
     "metadata": {},
     "output_type": "execute_result"
    }
   ],
   "source": [
    "dir(d)"
   ]
  },
  {
   "cell_type": "code",
   "execution_count": 16,
   "metadata": {
    "collapsed": true
   },
   "outputs": [],
   "source": [
    "# introducing callable"
   ]
  },
  {
   "cell_type": "code",
   "execution_count": 17,
   "metadata": {
    "collapsed": true
   },
   "outputs": [],
   "source": [
    "import string"
   ]
  },
  {
   "cell_type": "code",
   "execution_count": 18,
   "metadata": {
    "collapsed": false
   },
   "outputs": [
    {
     "data": {
      "text/plain": [
       "'!\"#$%&\\'()*+,-./:;<=>?@[\\\\]^_`{|}~'"
      ]
     },
     "execution_count": 18,
     "metadata": {},
     "output_type": "execute_result"
    }
   ],
   "source": [
    "string.punctuation"
   ]
  },
  {
   "cell_type": "code",
   "execution_count": 19,
   "metadata": {
    "collapsed": false
   },
   "outputs": [
    {
     "data": {
      "text/plain": [
       "<function string.join>"
      ]
     },
     "execution_count": 19,
     "metadata": {},
     "output_type": "execute_result"
    }
   ],
   "source": [
    "string.join"
   ]
  },
  {
   "cell_type": "code",
   "execution_count": 20,
   "metadata": {
    "collapsed": false
   },
   "outputs": [
    {
     "data": {
      "text/plain": [
       "False"
      ]
     },
     "execution_count": 20,
     "metadata": {},
     "output_type": "execute_result"
    }
   ],
   "source": [
    "callable(string.punctuation)"
   ]
  },
  {
   "cell_type": "code",
   "execution_count": 21,
   "metadata": {
    "collapsed": false
   },
   "outputs": [
    {
     "data": {
      "text/plain": [
       "True"
      ]
     },
     "execution_count": 21,
     "metadata": {},
     "output_type": "execute_result"
    }
   ],
   "source": [
    "callable(string.join)"
   ]
  },
  {
   "cell_type": "code",
   "execution_count": 22,
   "metadata": {
    "collapsed": false
   },
   "outputs": [
    {
     "name": "stdout",
     "output_type": "stream",
     "text": [
      "join(list [,sep]) -> string\n",
      "\n",
      "    Return a string composed of the words in list, with\n",
      "    intervening occurrences of sep.  The default separator is a\n",
      "    single space.\n",
      "\n",
      "    (joinfields and join are synonymous)\n",
      "\n",
      "    \n"
     ]
    }
   ],
   "source": [
    "print string.join.__doc__"
   ]
  },
  {
   "cell_type": "code",
   "execution_count": 23,
   "metadata": {
    "collapsed": false
   },
   "outputs": [
    {
     "ename": "NameError",
     "evalue": "name 'info' is not defined",
     "output_type": "error",
     "traceback": [
      "\u001b[0;31m---------------------------------------------------------------------------\u001b[0m",
      "\u001b[0;31mNameError\u001b[0m                                 Traceback (most recent call last)",
      "\u001b[0;32m<ipython-input-23-de07bb18e49e>\u001b[0m in \u001b[0;36m<module>\u001b[0;34m()\u001b[0m\n\u001b[0;32m----> 1\u001b[0;31m \u001b[0mtype\u001b[0m\u001b[1;33m(\u001b[0m\u001b[0minfo\u001b[0m\u001b[1;33m)\u001b[0m\u001b[1;33m\u001b[0m\u001b[0m\n\u001b[0m",
      "\u001b[0;31mNameError\u001b[0m: name 'info' is not defined"
     ]
    }
   ],
   "source": [
    "type(info)"
   ]
  },
  {
   "cell_type": "code",
   "execution_count": 24,
   "metadata": {
    "collapsed": false
   },
   "outputs": [
    {
     "ename": "ImportError",
     "evalue": "No module named info",
     "output_type": "error",
     "traceback": [
      "\u001b[0;31m---------------------------------------------------------------------------\u001b[0m",
      "\u001b[0;31mImportError\u001b[0m                               Traceback (most recent call last)",
      "\u001b[0;32m<ipython-input-24-4a26eeee075d>\u001b[0m in \u001b[0;36m<module>\u001b[0;34m()\u001b[0m\n\u001b[0;32m----> 1\u001b[0;31m \u001b[1;32mimport\u001b[0m \u001b[0minfo\u001b[0m\u001b[1;33m\u001b[0m\u001b[0m\n\u001b[0m",
      "\u001b[0;31mImportError\u001b[0m: No module named info"
     ]
    }
   ],
   "source": [
    "import info"
   ]
  },
  {
   "cell_type": "code",
   "execution_count": 25,
   "metadata": {
    "collapsed": true
   },
   "outputs": [],
   "source": [
    "# build-in attributes and functions"
   ]
  },
  {
   "cell_type": "code",
   "execution_count": 26,
   "metadata": {
    "collapsed": true
   },
   "outputs": [],
   "source": [
    "from apihelper import info"
   ]
  },
  {
   "cell_type": "code",
   "execution_count": 27,
   "metadata": {
    "collapsed": true
   },
   "outputs": [],
   "source": [
    "import __builtin__"
   ]
  },
  {
   "cell_type": "code",
   "execution_count": 28,
   "metadata": {
    "collapsed": false
   },
   "outputs": [
    {
     "name": "stdout",
     "output_type": "stream",
     "text": [
      "ArithmeticError      Base class for arithmetic errors.\n",
      "AssertionError       Assertion failed.\n",
      "AttributeError       Attribute not found.\n",
      "BaseException        Common base class for all exceptions\n",
      "BufferError          Buffer error.\n",
      "BytesWarning         Base class for warnings about bytes and buffer related problems, mostly related to conversion from str or comparing to str.\n",
      "DeprecationWarning   Base class for warnings about deprecated features.\n",
      "EOFError             Read beyond end of file.\n",
      "EnvironmentError     Base class for I/O related errors.\n",
      "Exception            Common base class for all non-exit exceptions.\n",
      "FloatingPointError   Floating point operation failed.\n",
      "FutureWarning        Base class for warnings about constructs that will change semantically in the future.\n",
      "GeneratorExit        Request that a generator exit.\n",
      "IOError              I/O operation failed.\n",
      "ImportError          Import can't find module, or can't find name in module.\n",
      "ImportWarning        Base class for warnings about probable mistakes in module imports\n",
      "IndentationError     Improper indentation.\n",
      "IndexError           Sequence index out of range.\n",
      "KeyError             Mapping key not found.\n",
      "KeyboardInterrupt    Program interrupted by user.\n",
      "LookupError          Base class for lookup errors.\n",
      "MemoryError          Out of memory.\n",
      "NameError            Name not found globally.\n",
      "NotImplementedError  Method or function hasn't been implemented yet.\n",
      "OSError              OS system call failed.\n",
      "OverflowError        Result too large to be represented.\n",
      "PendingDeprecationWarning Base class for warnings about features which will be deprecated in the future.\n",
      "ReferenceError       Weak ref proxy used after referent went away.\n",
      "RuntimeError         Unspecified run-time error.\n",
      "RuntimeWarning       Base class for warnings about dubious runtime behavior.\n",
      "StandardError        Base class for all standard Python exceptions that do not represent interpreter exiting.\n",
      "StopIteration        Signal the end from iterator.next().\n",
      "SyntaxError          Invalid syntax.\n",
      "SyntaxWarning        Base class for warnings about dubious syntax.\n",
      "SystemError          Internal error in the Python interpreter. Please report this to the Python maintainer, along with the traceback, the Python version, and the hardware/OS platform and version.\n",
      "SystemExit           Request to exit from the interpreter.\n",
      "TabError             Improper mixture of spaces and tabs.\n",
      "TypeError            Inappropriate argument type.\n",
      "UnboundLocalError    Local name referenced but not bound to a value.\n",
      "UnicodeDecodeError   Unicode decoding error.\n",
      "UnicodeEncodeError   Unicode encoding error.\n",
      "UnicodeError         Unicode related error.\n",
      "UnicodeTranslateError Unicode translation error.\n",
      "UnicodeWarning       Base class for warnings about Unicode related problems, mostly related to conversion problems.\n",
      "UserWarning          Base class for warnings generated by user code.\n",
      "ValueError           Inappropriate argument value (of correct type).\n",
      "Warning              Base class for warning categories.\n",
      "WindowsError         MS-Windows OS system call failed.\n",
      "ZeroDivisionError    Second argument to a division or modulo operation was zero.\n",
      "__import__           __import__(name, globals={}, locals={}, fromlist=[], level=-1) -> module Import a module. Because this function is meant for use by the Python interpreter and not for general use it is better to use importlib.import_module() to programmatically import a module. The globals argument is only used to determine the context; they are not modified. The locals argument is unused. The fromlist should be a list of names to emulate ``from name import ...'', or an empty list to emulate ``import name''. When importing a module from a package, note that __import__('A.B', ...) returns package A when fromlist is empty, but its submodule B when fromlist is not empty. Level is used to determine whether to perform absolute or relative imports. -1 is the original strategy of attempting both absolute and relative imports, 0 is absolute, a positive number is the number of parent directories to search relative to the current module.\n",
      "abs                  abs(number) -> number Return the absolute value of the argument.\n",
      "all                  all(iterable) -> bool Return True if bool(x) is True for all values x in the iterable. If the iterable is empty, return True.\n",
      "any                  any(iterable) -> bool Return True if bool(x) is True for any x in the iterable. If the iterable is empty, return False.\n",
      "apply                apply(object[, args[, kwargs]]) -> value Call a callable object with positional arguments taken from the tuple args, and keyword arguments taken from the optional dictionary kwargs. Note that classes are callable, as are instances with a __call__() method. Deprecated since release 2.3. Instead, use the extended call syntax: function(*args, **keywords).\n",
      "basestring           Type basestring cannot be instantiated; it is the base for str and unicode.\n",
      "bin                  bin(number) -> string Return the binary representation of an integer or long integer.\n",
      "bool                 bool(x) -> bool Returns True when the argument x is true, False otherwise. The builtins True and False are the only two instances of the class bool. The class bool is a subclass of the class int, and cannot be subclassed.\n",
      "buffer               buffer(object [, offset[, size]]) Create a new buffer object which references the given object. The buffer will reference a slice of the target object from the start of the object (or at the specified offset). The slice will extend to the end of the target object (or with the specified size).\n",
      "bytearray            bytearray(iterable_of_ints) -> bytearray. bytearray(string, encoding[, errors]) -> bytearray. bytearray(bytes_or_bytearray) -> mutable copy of bytes_or_bytearray. bytearray(memory_view) -> bytearray. Construct a mutable bytearray object from: - an iterable yielding integers in range(256) - a text string encoded using the specified encoding - a bytes or a bytearray object - any object implementing the buffer API. bytearray(int) -> bytearray. Construct a zero-initialized bytearray of the given length.\n",
      "bytes                str(object='') -> string Return a nice string representation of the object. If the argument is a string, the return value is the same object.\n",
      "callable             callable(object) -> bool Return whether the object is callable (i.e., some kind of function). Note that classes are callable, as are instances with a __call__() method.\n",
      "chr                  chr(i) -> character Return a string of one character with ordinal i; 0 <= i < 256.\n",
      "classmethod          classmethod(function) -> method Convert a function to be a class method. A class method receives the class as implicit first argument, just like an instance method receives the instance. To declare a class method, use this idiom: class C: @classmethod def f(cls, arg1, arg2, ...): ... It can be called either on the class (e.g. C.f()) or on an instance (e.g. C().f()). The instance is ignored except for its class. If a class method is called for a derived class, the derived class object is passed as the implied first argument. Class methods are different than C++ or Java static methods. If you want those, see the staticmethod builtin.\n",
      "cmp                  cmp(x, y) -> integer Return negative if x<y, zero if x==y, positive if x>y.\n",
      "coerce               coerce(x, y) -> (x1, y1) Return a tuple consisting of the two numeric arguments converted to a common type, using the same rules as used by arithmetic operations. If coercion is not possible, raise TypeError.\n",
      "compile              compile(source, filename, mode[, flags[, dont_inherit]]) -> code object Compile the source string (a Python module, statement or expression) into a code object that can be executed by the exec statement or eval(). The filename will be used for run-time error messages. The mode must be 'exec' to compile a module, 'single' to compile a single (interactive) statement, or 'eval' to compile an expression. The flags argument, if present, controls which future statements influence the compilation of the code. The dont_inherit argument, if non-zero, stops the compilation inheriting the effects of any future statements in effect in the code calling compile; if absent or zero these statements do influence the compilation, in addition to any features explicitly specified.\n",
      "complex              complex(real[, imag]) -> complex number Create a complex number from a real part and an optional imaginary part. This is equivalent to (real + imag*1j) where imag defaults to 0.\n",
      "copyright            interactive prompt objects for printing the license text, a list of contributors and the copyright notice.\n",
      "credits              interactive prompt objects for printing the license text, a list of contributors and the copyright notice.\n",
      "delattr              delattr(object, name) Delete a named attribute on an object; delattr(x, 'y') is equivalent to ``del x.y''.\n",
      "dict                 dict() -> new empty dictionary dict(mapping) -> new dictionary initialized from a mapping object's (key, value) pairs dict(iterable) -> new dictionary initialized as if via: d = {} for k, v in iterable: d[k] = v dict(**kwargs) -> new dictionary initialized with the name=value pairs in the keyword argument list. For example: dict(one=1, two=2)\n",
      "dir                  dir([object]) -> list of strings If called without an argument, return the names in the current scope. Else, return an alphabetized list of names comprising (some of) the attributes of the given object, and of attributes reachable from it. If the object supplies a method named __dir__, it will be used; otherwise the default dir() logic is used and returns: for a module object: the module's attributes. for a class object: its attributes, and recursively the attributes of its bases. for any other object: its attributes, its class's attributes, and recursively the attributes of its class's base classes.\n",
      "divmod               divmod(x, y) -> (quotient, remainder) Return the tuple (x//y, x%y). Invariant: div*y + mod == x.\n",
      "dreload              **deprecated** import reload explicitly from `IPython.lib.deepreload` to use it\n",
      "enumerate            enumerate(iterable[, start]) -> iterator for index, value of iterable Return an enumerate object. iterable must be another object that supports iteration. The enumerate object yields pairs containing a count (from start, which defaults to zero) and a value yielded by the iterable argument. enumerate is useful for obtaining an indexed list: (0, seq[0]), (1, seq[1]), (2, seq[2]), ...\n",
      "eval                 eval(source[, globals[, locals]]) -> value Evaluate the source in the context of globals and locals. The source may be a string representing a Python expression or a code object as returned by compile(). The globals must be a dictionary and locals can be any mapping, defaulting to the current globals and locals. If only globals is given, locals defaults to it.\n",
      "execfile             execfile(filename[, globals[, locals]]) Read and execute a Python script from a file. The globals and locals are dictionaries, defaulting to the current globals and locals. If only globals is given, locals defaults to it.\n",
      "file                 file(name[, mode[, buffering]]) -> file object Open a file. The mode can be 'r', 'w' or 'a' for reading (default), writing or appending. The file will be created if it doesn't exist when opened for writing or appending; it will be truncated when opened for writing. Add a 'b' to the mode for binary files. Add a '+' to the mode to allow simultaneous reading and writing. If the buffering argument is given, 0 means unbuffered, 1 means line buffered, and larger numbers specify the buffer size. The preferred way to open a file is with the builtin open() function. Add a 'U' to mode to open the file for input with universal newline support. Any line ending in the input file will be seen as a '\\n' in Python. Also, a file so opened gains the attribute 'newlines'; the value for this attribute is one of None (no newline read yet), '\\r', '\\n', '\\r\\n' or a tuple containing all the newline types seen. 'U' cannot be combined with 'w' or '+' mode.\n",
      "filter               filter(function or None, sequence) -> list, tuple, or string Return those items of sequence for which function(item) is true. If function is None, return the items that are true. If sequence is a tuple or string, return the same type, else return a list.\n",
      "float                float(x) -> floating point number Convert a string or number to a floating point number, if possible.\n",
      "format               format(value[, format_spec]) -> string Returns value.__format__(format_spec) format_spec defaults to \"\"\n",
      "frozenset            frozenset() -> empty frozenset object frozenset(iterable) -> frozenset object Build an immutable unordered collection of unique elements.\n",
      "get_ipython          Return the currently running IPython instance.\n",
      "getattr              getattr(object, name[, default]) -> value Get a named attribute from an object; getattr(x, 'y') is equivalent to x.y. When a default argument is given, it is returned when the attribute doesn't exist; without it, an exception is raised in that case.\n",
      "globals              globals() -> dictionary Return the dictionary containing the current scope's global variables.\n",
      "hasattr              hasattr(object, name) -> bool Return whether the object has an attribute with the given name. (This is done by calling getattr(object, name) and catching exceptions.)\n",
      "hash                 hash(object) -> integer Return a hash value for the object. Two objects with the same value have the same hash value. The reverse is not necessarily true, but likely.\n",
      "help                 Define the builtin 'help'. This is a wrapper around pydoc.help (with a twist).\n",
      "hex                  hex(number) -> string Return the hexadecimal representation of an integer or long integer.\n",
      "id                   id(object) -> integer Return the identity of an object. This is guaranteed to be unique among simultaneously existing objects. (Hint: it's the object's memory address.)\n",
      "input                None\n",
      "int                  int(x=0) -> int or long int(x, base=10) -> int or long Convert a number or string to an integer, or return 0 if no arguments are given. If x is floating point, the conversion truncates towards zero. If x is outside the integer range, the function returns a long instead. If x is not a number or if base is given, then x must be a string or Unicode object representing an integer literal in the given base. The literal can be preceded by '+' or '-' and be surrounded by whitespace. The base defaults to 10. Valid bases are 0 and 2-36. Base 0 means to interpret the base from the string as an integer literal. >>> int('0b100', base=0) 4\n",
      "intern               intern(string) -> string ``Intern'' the given string. This enters the string in the (global) table of interned strings whose purpose is to speed up dictionary lookups. Return the string itself or the previously interned string object with the same value.\n",
      "isinstance           isinstance(object, class-or-type-or-tuple) -> bool Return whether an object is an instance of a class or of a subclass thereof. With a type as second argument, return whether that is the object's type. The form using a tuple, isinstance(x, (A, B, ...)), is a shortcut for isinstance(x, A) or isinstance(x, B) or ... (etc.).\n",
      "issubclass           issubclass(C, B) -> bool Return whether class C is a subclass (i.e., a derived class) of class B. When using a tuple as the second argument issubclass(X, (A, B, ...)), is a shortcut for issubclass(X, A) or issubclass(X, B) or ... (etc.).\n",
      "iter                 iter(collection) -> iterator iter(callable, sentinel) -> iterator Get an iterator from an object. In the first form, the argument must supply its own iterator, or be a sequence. In the second form, the callable is called until it returns the sentinel.\n",
      "len                  len(object) -> integer Return the number of items of a sequence or collection.\n",
      "license              interactive prompt objects for printing the license text, a list of contributors and the copyright notice.\n",
      "list                 list() -> new empty list list(iterable) -> new list initialized from iterable's items\n",
      "locals               locals() -> dictionary Update and return a dictionary containing the current scope's local variables.\n",
      "long                 long(x=0) -> long long(x, base=10) -> long Convert a number or string to a long integer, or return 0L if no arguments are given. If x is floating point, the conversion truncates towards zero. If x is not a number or if base is given, then x must be a string or Unicode object representing an integer literal in the given base. The literal can be preceded by '+' or '-' and be surrounded by whitespace. The base defaults to 10. Valid bases are 0 and 2-36. Base 0 means to interpret the base from the string as an integer literal. >>> int('0b100', base=0) 4L\n",
      "map                  map(function, sequence[, sequence, ...]) -> list Return a list of the results of applying the function to the items of the argument sequence(s). If more than one sequence is given, the function is called with an argument list consisting of the corresponding item of each sequence, substituting None for missing values when not all sequences have the same length. If the function is None, return a list of the items of the sequence (or a list of tuples if more than one sequence).\n",
      "max                  max(iterable[, key=func]) -> value max(a, b, c, ...[, key=func]) -> value With a single iterable argument, return its largest item. With two or more arguments, return the largest argument.\n",
      "memoryview           memoryview(object) Create a new memoryview object which references the given object.\n",
      "min                  min(iterable[, key=func]) -> value min(a, b, c, ...[, key=func]) -> value With a single iterable argument, return its smallest item. With two or more arguments, return the smallest argument.\n",
      "next                 next(iterator[, default]) Return the next item from the iterator. If default is given and the iterator is exhausted, it is returned instead of raising StopIteration.\n",
      "object               The most base type\n",
      "oct                  oct(number) -> string Return the octal representation of an integer or long integer.\n",
      "open                 open(name[, mode[, buffering]]) -> file object Open a file using the file() type, returns a file object. This is the preferred way to open a file. See file.__doc__ for further information.\n",
      "ord                  ord(c) -> integer Return the integer ordinal of a one-character string.\n",
      "pow                  pow(x, y[, z]) -> number With two arguments, equivalent to x**y. With three arguments, equivalent to (x**y) % z, but may be more efficient (e.g. for longs).\n",
      "print                print(value, ..., sep=' ', end='\\n', file=sys.stdout) Prints the values to a stream, or to sys.stdout by default. Optional keyword arguments: file: a file-like object (stream); defaults to the current sys.stdout. sep: string inserted between values, default a space. end: string appended after the last value, default a newline.\n",
      "property             property(fget=None, fset=None, fdel=None, doc=None) -> property attribute fget is a function to be used for getting an attribute value, and likewise fset is a function for setting, and fdel a function for del'ing, an attribute. Typical use is to define a managed attribute x: class C(object): def getx(self): return self._x def setx(self, value): self._x = value def delx(self): del self._x x = property(getx, setx, delx, \"I'm the 'x' property.\") Decorators make defining new properties or modifying existing ones easy: class C(object): @property def x(self): \"I am the 'x' property.\" return self._x @x.setter def x(self, value): self._x = value @x.deleter def x(self): del self._x\n",
      "range                range(stop) -> list of integers range(start, stop[, step]) -> list of integers Return a list containing an arithmetic progression of integers. range(i, j) returns [i, i+1, i+2, ..., j-1]; start (!) defaults to 0. When step is given, it specifies the increment (or decrement). For example, range(4) returns [0, 1, 2, 3]. The end point is omitted! These are exactly the valid indices for a list of 4 elements.\n",
      "raw_input            Forward raw_input to frontends Raises ------ StdinNotImplentedError if active frontend doesn't support stdin.\n",
      "reduce               reduce(function, sequence[, initial]) -> value Apply a function of two arguments cumulatively to the items of a sequence, from left to right, so as to reduce the sequence to a single value. For example, reduce(lambda x, y: x+y, [1, 2, 3, 4, 5]) calculates ((((1+2)+3)+4)+5). If initial is present, it is placed before the items of the sequence in the calculation, and serves as a default when the sequence is empty.\n",
      "reload               reload(module) -> module Reload the module. The module must have been successfully imported before.\n",
      "repr                 repr(object) -> string Return the canonical string representation of the object. For most object types, eval(repr(object)) == object.\n",
      "reversed             reversed(sequence) -> reverse iterator over values of the sequence Return a reverse iterator\n",
      "round                round(number[, ndigits]) -> floating point number Round a number to a given precision in decimal digits (default 0 digits). This always returns a floating point number. Precision may be negative.\n",
      "set                  set() -> new empty set object set(iterable) -> new set object Build an unordered collection of unique elements.\n",
      "setattr              setattr(object, name, value) Set a named attribute on an object; setattr(x, 'y', v) is equivalent to ``x.y = v''.\n",
      "slice                slice(stop) slice(start, stop[, step]) Create a slice object. This is used for extended slicing (e.g. a[0:10:2]).\n",
      "sorted               sorted(iterable, cmp=None, key=None, reverse=False) --> new sorted list\n",
      "staticmethod         staticmethod(function) -> method Convert a function to be a static method. A static method does not receive an implicit first argument. To declare a static method, use this idiom: class C: @staticmethod def f(arg1, arg2, ...): ... It can be called either on the class (e.g. C.f()) or on an instance (e.g. C().f()). The instance is ignored except for its class. Static methods in Python are similar to those found in Java or C++. For a more advanced concept, see the classmethod builtin.\n",
      "str                  str(object='') -> string Return a nice string representation of the object. If the argument is a string, the return value is the same object.\n",
      "sum                  sum(sequence[, start]) -> value Return the sum of a sequence of numbers (NOT strings) plus the value of parameter 'start' (which defaults to 0). When the sequence is empty, return start.\n",
      "super                super(type, obj) -> bound super object; requires isinstance(obj, type) super(type) -> unbound super object super(type, type2) -> bound super object; requires issubclass(type2, type) Typical use to call a cooperative superclass method: class C(B): def meth(self, arg): super(C, self).meth(arg)\n",
      "tuple                tuple() -> empty tuple tuple(iterable) -> tuple initialized from iterable's items If the argument is a tuple, the return value is the same object.\n",
      "type                 type(object) -> the object's type type(name, bases, dict) -> a new type\n",
      "unichr               unichr(i) -> Unicode character Return a Unicode string of one character with ordinal i; 0 <= i <= 0x10ffff.\n",
      "unicode              unicode(object='') -> unicode object unicode(string[, encoding[, errors]]) -> unicode object Create a new Unicode object from the given encoded string. encoding defaults to the current default string encoding. errors can be 'strict', 'replace' or 'ignore' and defaults to 'strict'.\n",
      "vars                 vars([object]) -> dictionary Without arguments, equivalent to locals(). With an argument, equivalent to object.__dict__.\n",
      "xrange               xrange(stop) -> xrange object xrange(start, stop[, step]) -> xrange object Like range(), but instead of returning a list, returns an object that generates the numbers in the range on demand. For looping, this is slightly faster than range() and more memory efficient.\n",
      "zip                  zip(seq1 [, seq2 [...]]) -> [(seq1[0], seq2[0] ...), (...)] Return a list of tuples, where each tuple contains the i-th element from each of the argument sequences. The returned list is truncated in length to the length of the shortest argument sequence.\n"
     ]
    }
   ],
   "source": [
    "info(__builtin__, 20)"
   ]
  },
  {
   "cell_type": "code",
   "execution_count": 29,
   "metadata": {
    "collapsed": false
   },
   "outputs": [
    {
     "name": "stdout",
     "output_type": "stream",
     "text": [
      "__add__    x.__add__(y) <==> x+y\n",
      "__class__  list() -> new empty list list(iterable) -> new list initialized from iterable's items\n",
      "__contains__ x.__contains__(y) <==> y in x\n",
      "__delattr__ x.__delattr__('name') <==> del x.name\n",
      "__delitem__ x.__delitem__(y) <==> del x[y]\n",
      "__delslice__ x.__delslice__(i, j) <==> del x[i:j] Use of negative indices is not supported.\n",
      "__eq__     x.__eq__(y) <==> x==y\n",
      "__format__ default object formatter\n",
      "__ge__     x.__ge__(y) <==> x>=y\n",
      "__getattribute__ x.__getattribute__('name') <==> x.name\n",
      "__getitem__ x.__getitem__(y) <==> x[y]\n",
      "__getslice__ x.__getslice__(i, j) <==> x[i:j] Use of negative indices is not supported.\n",
      "__gt__     x.__gt__(y) <==> x>y\n",
      "__iadd__   x.__iadd__(y) <==> x+=y\n",
      "__imul__   x.__imul__(y) <==> x*=y\n",
      "__init__   x.__init__(...) initializes x; see help(type(x)) for signature\n",
      "__iter__   x.__iter__() <==> iter(x)\n",
      "__le__     x.__le__(y) <==> x<=y\n",
      "__len__    x.__len__() <==> len(x)\n",
      "__lt__     x.__lt__(y) <==> x<y\n",
      "__mul__    x.__mul__(n) <==> x*n\n",
      "__ne__     x.__ne__(y) <==> x!=y\n",
      "__new__    T.__new__(S, ...) -> a new object with type S, a subtype of T\n",
      "__reduce__ helper for pickle\n",
      "__reduce_ex__ helper for pickle\n",
      "__repr__   x.__repr__() <==> repr(x)\n",
      "__reversed__ L.__reversed__() -- return a reverse iterator over the list\n",
      "__rmul__   x.__rmul__(n) <==> n*x\n",
      "__setattr__ x.__setattr__('name', value) <==> x.name = value\n",
      "__setitem__ x.__setitem__(i, y) <==> x[i]=y\n",
      "__setslice__ x.__setslice__(i, j, y) <==> x[i:j]=y Use of negative indices is not supported.\n",
      "__sizeof__ L.__sizeof__() -- size of L in memory, in bytes\n",
      "__str__    x.__str__() <==> str(x)\n",
      "__subclasshook__ Abstract classes can override this to customize issubclass(). This is invoked early on by abc.ABCMeta.__subclasscheck__(). It should return True, False or NotImplemented. If it returns NotImplemented, the normal algorithm is used. Otherwise, it overrides the normal algorithm (and the outcome is cached).\n",
      "append     L.append(object) -- append object to end\n",
      "count      L.count(value) -> integer -- return number of occurrences of value\n",
      "extend     L.extend(iterable) -- extend list by appending elements from the iterable\n",
      "index      L.index(value, [start, [stop]]) -> integer -- return first index of value. Raises ValueError if the value is not present.\n",
      "insert     L.insert(index, object) -- insert object before index\n",
      "pop        L.pop([index]) -> item -- remove and return item at index (default last). Raises IndexError if list is empty or index is out of range.\n",
      "remove     L.remove(value) -- remove first occurrence of value. Raises ValueError if the value is not present.\n",
      "reverse    L.reverse() -- reverse *IN PLACE*\n",
      "sort       L.sort(cmp=None, key=None, reverse=False) -- stable sort *IN PLACE*; cmp(x, y) -> -1, 0, 1\n"
     ]
    }
   ],
   "source": [
    "info(li)"
   ]
  },
  {
   "cell_type": "code",
   "execution_count": null,
   "metadata": {
    "collapsed": true
   },
   "outputs": [],
   "source": []
  }
 ],
 "metadata": {
  "kernelspec": {
   "display_name": "Python 2",
   "language": "python",
   "name": "python2"
  },
  "language_info": {
   "codemirror_mode": {
    "name": "ipython",
    "version": 2
   },
   "file_extension": ".py",
   "mimetype": "text/x-python",
   "name": "python",
   "nbconvert_exporter": "python",
   "pygments_lexer": "ipython2",
   "version": "2.7.13"
  }
 },
 "nbformat": 4,
 "nbformat_minor": 2
}
