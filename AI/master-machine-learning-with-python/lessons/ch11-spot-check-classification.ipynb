{
 "cells": [
  {
   "cell_type": "markdown",
   "metadata": {},
   "source": [
    "# Alogorithms \n",
    "\n",
    "- Linear\n",
    "    - Logistic Regression\n",
    "    - Linear Discriminant Analysis\n",
    "- Nonlinear\n",
    "    - k-Nearest Neighbors\n",
    "    - Naive Bayes\n",
    "    - Classification and Regression Trees\n",
    "    - Support Vector Machines"
   ]
  },
  {
   "cell_type": "code",
   "execution_count": 3,
   "metadata": {
    "collapsed": false
   },
   "outputs": [
    {
     "name": "stdout",
     "output_type": "stream",
     "text": [
      "0.76951469583\n"
     ]
    }
   ],
   "source": [
    "# Load CSV using Pandas from URL\n",
    "from pandas import read_csv\n",
    "\n",
    "from sklearn.model_selection import KFold \n",
    "from sklearn.model_selection import cross_val_score\n",
    "from sklearn.linear_model import LogisticRegression\n",
    "\n",
    "url = \"https://archive.ics.uci.edu/ml/machine-learning-databases/pima-indians-diabetes/pima-indians-diabetes.data\"\n",
    "names = ['preg ','plas', 'pres', 'skin', 'test', 'mass', 'pedi', 'age', 'class']\n",
    "\n",
    "df = read_csv(url, names=names)\n",
    "\n",
    "# 特征和类别分开\n",
    "X = df.iloc[:, 0:8]\n",
    "Y = df.iloc[:, 8]\n",
    "\n",
    "kfold = KFold(n_splits=10, random_state=42)\n",
    "\n",
    "model_log_reg = LogisticRegression()\n",
    "results_log_reg = cross_val_score(model_log_reg, X, Y, cv=kfold)\n",
    "\n",
    "print(results_log_reg.mean())"
   ]
  },
  {
   "cell_type": "code",
   "execution_count": 4,
   "metadata": {
    "collapsed": false
   },
   "outputs": [
    {
     "name": "stdout",
     "output_type": "stream",
     "text": [
      "0.773462064252\n"
     ]
    }
   ],
   "source": [
    "# Linear Discriminat Analysis\n",
    "from sklearn.discriminant_analysis import LinearDiscriminantAnalysis\n",
    "\n",
    "model_LDA = LinearDiscriminantAnalysis()\n",
    "results_LDA = cross_val_score(model_LDA, X, Y, cv=kfold)\n",
    "\n",
    "print(results_LDA.mean())"
   ]
  },
  {
   "cell_type": "markdown",
   "metadata": {},
   "source": [
    "# Nonlinear ML Algorithms"
   ]
  },
  {
   "cell_type": "code",
   "execution_count": 5,
   "metadata": {
    "collapsed": false
   },
   "outputs": [
    {
     "name": "stdout",
     "output_type": "stream",
     "text": [
      "0.726555023923\n"
     ]
    }
   ],
   "source": [
    "# k-nearest neighbors\n",
    "from sklearn.neighbors import KNeighborsClassifier\n",
    "\n",
    "model_KNN = KNeighborsClassifier()\n",
    "results_KNN = cross_val_score(model_KNN, X, Y, cv=kfold)\n",
    "\n",
    "print(results_KNN.mean())"
   ]
  },
  {
   "cell_type": "code",
   "execution_count": 7,
   "metadata": {
    "collapsed": false
   },
   "outputs": [
    {
     "name": "stdout",
     "output_type": "stream",
     "text": [
      "0.75517771702\n"
     ]
    }
   ],
   "source": [
    "# Naive Bayes\n",
    "from sklearn.naive_bayes import GaussianNB\n",
    "\n",
    "model_GNB = GaussianNB()\n",
    "results_GNB = cross_val_score(model_GNB, X, Y, cv=kfold)\n",
    "\n",
    "print(results_GNB.mean())"
   ]
  },
  {
   "cell_type": "code",
   "execution_count": 8,
   "metadata": {
    "collapsed": false
   },
   "outputs": [
    {
     "name": "stdout",
     "output_type": "stream",
     "text": [
      "0.691370471634\n"
     ]
    }
   ],
   "source": [
    "# Classification and Regression Trees\n",
    "from sklearn.tree import DecisionTreeClassifier\n",
    "\n",
    "model_DTC = DecisionTreeClassifier()\n",
    "results_DTC = cross_val_score(model_DTC, X, Y, cv=kfold)\n",
    "\n",
    "print(results_DTC.mean())"
   ]
  },
  {
   "cell_type": "code",
   "execution_count": 10,
   "metadata": {
    "collapsed": false
   },
   "outputs": [
    {
     "name": "stdout",
     "output_type": "stream",
     "text": [
      "0.651025290499\n"
     ]
    }
   ],
   "source": [
    "# Support Vectors Machines\n",
    "from sklearn.svm import SVC\n",
    "\n",
    "model_SVC = SVC()\n",
    "results_SVC = cross_val_score(model_SVC, X, Y, cv=kfold)\n",
    "print(results_SVC.mean())"
   ]
  },
  {
   "cell_type": "code",
   "execution_count": null,
   "metadata": {
    "collapsed": true
   },
   "outputs": [],
   "source": []
  }
 ],
 "metadata": {
  "kernelspec": {
   "display_name": "Python 2",
   "language": "python",
   "name": "python2"
  },
  "language_info": {
   "codemirror_mode": {
    "name": "ipython",
    "version": 2
   },
   "file_extension": ".py",
   "mimetype": "text/x-python",
   "name": "python",
   "nbconvert_exporter": "python",
   "pygments_lexer": "ipython2",
   "version": "2.7.13"
  }
 },
 "nbformat": 4,
 "nbformat_minor": 2
}
