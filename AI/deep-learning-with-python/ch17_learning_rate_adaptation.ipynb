{
 "cells": [
  {
   "cell_type": "markdown",
   "metadata": {},
   "source": [
    "# Chapter 17 Lift performance with learning rate schedules"
   ]
  },
  {
   "cell_type": "markdown",
   "metadata": {},
   "source": [
    "数据来源:\n",
    "\n",
    "[UCI Machine Learning Repository: Ionosphere Data Set](https://archive.ics.uci.edu/ml/datasets/Ionosphere)"
   ]
  },
  {
   "cell_type": "markdown",
   "metadata": {},
   "source": [
    "# 1 Time based learning rate schedule"
   ]
  },
  {
   "cell_type": "code",
   "execution_count": 1,
   "metadata": {
    "collapsed": false
   },
   "outputs": [
    {
     "name": "stderr",
     "output_type": "stream",
     "text": [
      "Using Theano backend.\n",
      "D:\\ProgramData\\Anaconda2\\lib\\site-packages\\ipykernel\\__main__.py:31: UserWarning: Update your `Dense` call to the Keras 2 API: `Dense(34, activation=\"relu\", kernel_initializer=\"normal\", input_dim=34)`\n",
      "D:\\ProgramData\\Anaconda2\\lib\\site-packages\\ipykernel\\__main__.py:32: UserWarning: Update your `Dense` call to the Keras 2 API: `Dense(1, activation=\"sigmoid\", kernel_initializer=\"normal\")`\n",
      "D:\\ProgramData\\Anaconda2\\lib\\site-packages\\keras\\models.py:844: UserWarning: The `nb_epoch` argument in `fit` has been renamed `epochs`.\n",
      "  warnings.warn('The `nb_epoch` argument in `fit` '\n"
     ]
    },
    {
     "name": "stdout",
     "output_type": "stream",
     "text": [
      "Train on 280 samples, validate on 71 samples\n",
      "Epoch 1/50\n",
      "0s - loss: 0.6795 - acc: 0.5714 - val_loss: 0.5736 - val_acc: 1.0000\n",
      "Epoch 2/50\n",
      "0s - loss: 0.6210 - acc: 0.6536 - val_loss: 0.4218 - val_acc: 0.9718\n",
      "Epoch 3/50\n",
      "0s - loss: 0.5366 - acc: 0.8071 - val_loss: 0.3994 - val_acc: 0.9577\n",
      "Epoch 4/50\n",
      "0s - loss: 0.4385 - acc: 0.8536 - val_loss: 0.2090 - val_acc: 0.9859\n",
      "Epoch 5/50\n",
      "0s - loss: 0.3715 - acc: 0.8786 - val_loss: 0.3761 - val_acc: 0.8732\n",
      "Epoch 6/50\n",
      "0s - loss: 0.3039 - acc: 0.9036 - val_loss: 0.1843 - val_acc: 0.9718\n",
      "Epoch 7/50\n",
      "0s - loss: 0.2585 - acc: 0.9214 - val_loss: 0.1359 - val_acc: 0.9718\n",
      "Epoch 8/50\n",
      "0s - loss: 0.2339 - acc: 0.9179 - val_loss: 0.0901 - val_acc: 0.9859\n",
      "Epoch 9/50\n",
      "0s - loss: 0.2164 - acc: 0.9179 - val_loss: 0.1165 - val_acc: 0.9718\n",
      "Epoch 10/50\n",
      "0s - loss: 0.1946 - acc: 0.9321 - val_loss: 0.1200 - val_acc: 0.9718\n",
      "Epoch 11/50\n",
      "0s - loss: 0.1838 - acc: 0.9321 - val_loss: 0.0940 - val_acc: 0.9718\n",
      "Epoch 12/50\n",
      "0s - loss: 0.1653 - acc: 0.9429 - val_loss: 0.1308 - val_acc: 0.9718\n",
      "Epoch 13/50\n",
      "0s - loss: 0.1560 - acc: 0.9500 - val_loss: 0.0785 - val_acc: 1.0000\n",
      "Epoch 14/50\n",
      "0s - loss: 0.1432 - acc: 0.9500 - val_loss: 0.0761 - val_acc: 1.0000\n",
      "Epoch 15/50\n",
      "0s - loss: 0.1449 - acc: 0.9500 - val_loss: 0.0750 - val_acc: 1.0000\n",
      "Epoch 16/50\n",
      "0s - loss: 0.1356 - acc: 0.9536 - val_loss: 0.0725 - val_acc: 1.0000\n",
      "Epoch 17/50\n",
      "0s - loss: 0.1248 - acc: 0.9571 - val_loss: 0.0537 - val_acc: 1.0000\n",
      "Epoch 18/50\n",
      "0s - loss: 0.1224 - acc: 0.9643 - val_loss: 0.0892 - val_acc: 1.0000\n",
      "Epoch 19/50\n",
      "0s - loss: 0.1229 - acc: 0.9643 - val_loss: 0.0984 - val_acc: 1.0000\n",
      "Epoch 20/50\n",
      "0s - loss: 0.1178 - acc: 0.9643 - val_loss: 0.0697 - val_acc: 1.0000\n",
      "Epoch 21/50\n",
      "0s - loss: 0.1072 - acc: 0.9643 - val_loss: 0.0580 - val_acc: 1.0000\n",
      "Epoch 22/50\n",
      "0s - loss: 0.0999 - acc: 0.9714 - val_loss: 0.0753 - val_acc: 1.0000\n",
      "Epoch 23/50\n",
      "0s - loss: 0.0958 - acc: 0.9714 - val_loss: 0.0310 - val_acc: 1.0000\n",
      "Epoch 24/50\n",
      "0s - loss: 0.1096 - acc: 0.9643 - val_loss: 0.0839 - val_acc: 1.0000\n",
      "Epoch 25/50\n",
      "0s - loss: 0.0900 - acc: 0.9607 - val_loss: 0.0378 - val_acc: 1.0000\n",
      "Epoch 26/50\n",
      "0s - loss: 0.0905 - acc: 0.9714 - val_loss: 0.0535 - val_acc: 1.0000\n",
      "Epoch 27/50\n",
      "0s - loss: 0.0862 - acc: 0.9786 - val_loss: 0.0533 - val_acc: 1.0000\n",
      "Epoch 28/50\n",
      "0s - loss: 0.0844 - acc: 0.9750 - val_loss: 0.0508 - val_acc: 1.0000\n",
      "Epoch 29/50\n",
      "0s - loss: 0.0854 - acc: 0.9714 - val_loss: 0.0349 - val_acc: 1.0000\n",
      "Epoch 30/50\n",
      "0s - loss: 0.0795 - acc: 0.9750 - val_loss: 0.0536 - val_acc: 1.0000\n",
      "Epoch 31/50\n",
      "0s - loss: 0.0768 - acc: 0.9786 - val_loss: 0.0538 - val_acc: 1.0000\n",
      "Epoch 32/50\n",
      "0s - loss: 0.0752 - acc: 0.9786 - val_loss: 0.0519 - val_acc: 1.0000\n",
      "Epoch 33/50\n",
      "0s - loss: 0.0720 - acc: 0.9786 - val_loss: 0.0447 - val_acc: 1.0000\n",
      "Epoch 34/50\n",
      "0s - loss: 0.0711 - acc: 0.9786 - val_loss: 0.0455 - val_acc: 1.0000\n",
      "Epoch 35/50\n",
      "0s - loss: 0.0698 - acc: 0.9786 - val_loss: 0.0473 - val_acc: 1.0000\n",
      "Epoch 36/50\n",
      "0s - loss: 0.0669 - acc: 0.9857 - val_loss: 0.0379 - val_acc: 1.0000\n",
      "Epoch 37/50\n",
      "0s - loss: 0.0665 - acc: 0.9786 - val_loss: 0.0379 - val_acc: 1.0000\n",
      "Epoch 38/50\n",
      "0s - loss: 0.0653 - acc: 0.9786 - val_loss: 0.0444 - val_acc: 1.0000\n",
      "Epoch 39/50\n",
      "0s - loss: 0.0638 - acc: 0.9821 - val_loss: 0.0333 - val_acc: 1.0000\n",
      "Epoch 40/50\n",
      "0s - loss: 0.0625 - acc: 0.9821 - val_loss: 0.0471 - val_acc: 1.0000\n",
      "Epoch 41/50\n",
      "0s - loss: 0.0599 - acc: 0.9857 - val_loss: 0.0354 - val_acc: 1.0000\n",
      "Epoch 42/50\n",
      "0s - loss: 0.0602 - acc: 0.9857 - val_loss: 0.0355 - val_acc: 1.0000\n",
      "Epoch 43/50\n",
      "0s - loss: 0.0591 - acc: 0.9821 - val_loss: 0.0448 - val_acc: 1.0000\n",
      "Epoch 44/50\n",
      "0s - loss: 0.0604 - acc: 0.9857 - val_loss: 0.0285 - val_acc: 1.0000\n",
      "Epoch 45/50\n",
      "0s - loss: 0.0592 - acc: 0.9857 - val_loss: 0.0394 - val_acc: 1.0000\n",
      "Epoch 46/50\n",
      "0s - loss: 0.0559 - acc: 0.9857 - val_loss: 0.0383 - val_acc: 1.0000\n",
      "Epoch 47/50\n",
      "0s - loss: 0.0551 - acc: 0.9857 - val_loss: 0.0379 - val_acc: 1.0000\n",
      "Epoch 48/50\n",
      "0s - loss: 0.0541 - acc: 0.9857 - val_loss: 0.0347 - val_acc: 1.0000\n",
      "Epoch 49/50\n",
      "0s - loss: 0.0532 - acc: 0.9857 - val_loss: 0.0332 - val_acc: 1.0000\n",
      "Epoch 50/50\n",
      "0s - loss: 0.0523 - acc: 0.9857 - val_loss: 0.0329 - val_acc: 1.0000\n"
     ]
    },
    {
     "data": {
      "text/plain": [
       "<keras.callbacks.History at 0x10f626d8>"
      ]
     },
     "execution_count": 1,
     "metadata": {},
     "output_type": "execute_result"
    }
   ],
   "source": [
    "# Time based learning rate schedule\n",
    "\n",
    "import pandas as pd\n",
    "\n",
    "import numpy as np\n",
    "\n",
    "from keras.models import Sequential\n",
    "from keras.layers import Dense\n",
    "from keras.optimizers import SGD\n",
    "\n",
    "from sklearn.preprocessing import LabelEncoder\n",
    "\n",
    "# random seed\n",
    "seed = 7\n",
    "np.random.seed(seed)\n",
    "# load dataset\n",
    "url = \"https://archive.ics.uci.edu/ml/machine-learning-databases/ionosphere/ionosphere.data\"\n",
    "df = pd.read_csv(url, header=None)\n",
    "dataset = df.values\n",
    "\n",
    "# Input X  and output Y \n",
    "X = dataset[:, 0:34].astype(float)\n",
    "Y = dataset[:, 34]\n",
    "# Encode class values as integers\n",
    "encoder = LabelEncoder()\n",
    "encoder.fit(Y)\n",
    "Y = encoder.transform(Y)\n",
    "\n",
    "# Create Model\n",
    "model = Sequential()\n",
    "model.add(Dense(34, input_dim=34, init='normal', activation='relu'))\n",
    "model.add(Dense(1, init='normal', activation='sigmoid'))\n",
    "# Compile model\n",
    "epochs = 50\n",
    "learning_rate = 0.1\n",
    "decay_rate = learning_rate / epochs\n",
    "momentum = 0.8\n",
    "sgd = SGD(lr=learning_rate, momentum=momentum, decay=decay_rate, nesterov=False)\n",
    "model.compile(loss='binary_crossentropy', optimizer=sgd, metrics=['accuracy'])\n",
    "# Fit model\n",
    "model.fit(X, Y, validation_split=0.2, nb_epoch=epochs, batch_size=28, verbose=2)"
   ]
  },
  {
   "cell_type": "markdown",
   "metadata": {},
   "source": [
    "50次迭代后, 模型在训练集上的分类准确率为 98.57%, 在验证集上的准确率为 100%"
   ]
  },
  {
   "cell_type": "markdown",
   "metadata": {},
   "source": [
    "# 2 Drop Based Learning Rate Schedule"
   ]
  },
  {
   "cell_type": "code",
   "execution_count": 2,
   "metadata": {
    "collapsed": false
   },
   "outputs": [
    {
     "name": "stderr",
     "output_type": "stream",
     "text": [
      "D:\\ProgramData\\Anaconda2\\lib\\site-packages\\ipykernel\\__main__.py:21: UserWarning: Update your `Dense` call to the Keras 2 API: `Dense(34, activation=\"relu\", kernel_initializer=\"normal\", input_dim=34)`\n",
      "D:\\ProgramData\\Anaconda2\\lib\\site-packages\\ipykernel\\__main__.py:22: UserWarning: Update your `Dense` call to the Keras 2 API: `Dense(1, activation=\"sigmoid\", kernel_initializer=\"normal\")`\n"
     ]
    },
    {
     "name": "stdout",
     "output_type": "stream",
     "text": [
      "Train on 280 samples, validate on 71 samples\n",
      "Epoch 1/50\n",
      "0s - loss: 0.6776 - acc: 0.5643 - val_loss: 0.5365 - val_acc: 1.0000\n",
      "Epoch 2/50\n",
      "0s - loss: 0.5997 - acc: 0.6929 - val_loss: 0.3771 - val_acc: 0.9718\n",
      "Epoch 3/50\n",
      "0s - loss: 0.4603 - acc: 0.8500 - val_loss: 0.3597 - val_acc: 0.9296\n",
      "Epoch 4/50\n",
      "0s - loss: 0.3272 - acc: 0.8643 - val_loss: 0.1223 - val_acc: 0.9859\n",
      "Epoch 5/50\n",
      "0s - loss: 0.2776 - acc: 0.8750 - val_loss: 0.2721 - val_acc: 0.9437\n",
      "Epoch 6/50\n",
      "0s - loss: 0.2262 - acc: 0.9321 - val_loss: 0.1930 - val_acc: 0.9718\n",
      "Epoch 7/50\n",
      "0s - loss: 0.1926 - acc: 0.9321 - val_loss: 0.0877 - val_acc: 1.0000\n",
      "Epoch 8/50\n",
      "0s - loss: 0.1588 - acc: 0.9393 - val_loss: 0.0440 - val_acc: 1.0000\n",
      "Epoch 9/50\n",
      "0s - loss: 0.1433 - acc: 0.9607 - val_loss: 0.0527 - val_acc: 1.0000\n",
      "Epoch 10/50\n",
      "0s - loss: 0.1207 - acc: 0.9571 - val_loss: 0.0731 - val_acc: 1.0000\n",
      "Epoch 11/50\n",
      "0s - loss: 0.1129 - acc: 0.9643 - val_loss: 0.0438 - val_acc: 1.0000\n",
      "Epoch 12/50\n",
      "0s - loss: 0.1022 - acc: 0.9714 - val_loss: 0.0701 - val_acc: 1.0000\n",
      "Epoch 13/50\n",
      "0s - loss: 0.0976 - acc: 0.9750 - val_loss: 0.0414 - val_acc: 1.0000\n",
      "Epoch 14/50\n",
      "0s - loss: 0.0911 - acc: 0.9714 - val_loss: 0.0554 - val_acc: 1.0000\n",
      "Epoch 15/50\n",
      "0s - loss: 0.0873 - acc: 0.9714 - val_loss: 0.0356 - val_acc: 1.0000\n",
      "Epoch 16/50\n",
      "0s - loss: 0.0795 - acc: 0.9821 - val_loss: 0.0541 - val_acc: 1.0000\n",
      "Epoch 17/50\n",
      "0s - loss: 0.0780 - acc: 0.9786 - val_loss: 0.0412 - val_acc: 1.0000\n",
      "Epoch 18/50\n",
      "0s - loss: 0.0736 - acc: 0.9786 - val_loss: 0.0409 - val_acc: 1.0000\n",
      "Epoch 19/50\n",
      "0s - loss: 0.0737 - acc: 0.9821 - val_loss: 0.0400 - val_acc: 1.0000\n",
      "Epoch 20/50\n",
      "0s - loss: 0.0678 - acc: 0.9821 - val_loss: 0.0463 - val_acc: 1.0000\n",
      "Epoch 21/50\n",
      "0s - loss: 0.0660 - acc: 0.9821 - val_loss: 0.0333 - val_acc: 1.0000\n",
      "Epoch 22/50\n",
      "0s - loss: 0.0651 - acc: 0.9821 - val_loss: 0.0339 - val_acc: 1.0000\n",
      "Epoch 23/50\n",
      "0s - loss: 0.0708 - acc: 0.9857 - val_loss: 0.0507 - val_acc: 1.0000\n",
      "Epoch 24/50\n",
      "0s - loss: 0.0644 - acc: 0.9821 - val_loss: 0.0259 - val_acc: 1.0000\n",
      "Epoch 25/50\n",
      "0s - loss: 0.0635 - acc: 0.9821 - val_loss: 0.0415 - val_acc: 1.0000\n",
      "Epoch 26/50\n",
      "0s - loss: 0.0589 - acc: 0.9821 - val_loss: 0.0345 - val_acc: 1.0000\n",
      "Epoch 27/50\n",
      "0s - loss: 0.0588 - acc: 0.9821 - val_loss: 0.0320 - val_acc: 1.0000\n",
      "Epoch 28/50\n",
      "0s - loss: 0.0575 - acc: 0.9857 - val_loss: 0.0343 - val_acc: 1.0000\n",
      "Epoch 29/50\n",
      "0s - loss: 0.0591 - acc: 0.9857 - val_loss: 0.0377 - val_acc: 1.0000\n",
      "Epoch 30/50\n",
      "0s - loss: 0.0559 - acc: 0.9857 - val_loss: 0.0267 - val_acc: 1.0000\n",
      "Epoch 31/50\n",
      "0s - loss: 0.0553 - acc: 0.9821 - val_loss: 0.0303 - val_acc: 1.0000\n",
      "Epoch 32/50\n",
      "0s - loss: 0.0535 - acc: 0.9857 - val_loss: 0.0364 - val_acc: 1.0000\n",
      "Epoch 33/50\n",
      "0s - loss: 0.0534 - acc: 0.9857 - val_loss: 0.0358 - val_acc: 1.0000\n",
      "Epoch 34/50\n",
      "0s - loss: 0.0535 - acc: 0.9857 - val_loss: 0.0317 - val_acc: 1.0000\n",
      "Epoch 35/50\n",
      "0s - loss: 0.0527 - acc: 0.9857 - val_loss: 0.0330 - val_acc: 1.0000\n",
      "Epoch 36/50\n",
      "0s - loss: 0.0521 - acc: 0.9857 - val_loss: 0.0357 - val_acc: 1.0000\n",
      "Epoch 37/50\n",
      "0s - loss: 0.0519 - acc: 0.9857 - val_loss: 0.0345 - val_acc: 1.0000\n",
      "Epoch 38/50\n",
      "0s - loss: 0.0512 - acc: 0.9857 - val_loss: 0.0309 - val_acc: 1.0000\n",
      "Epoch 39/50\n",
      "0s - loss: 0.0510 - acc: 0.9857 - val_loss: 0.0307 - val_acc: 1.0000\n",
      "Epoch 40/50\n",
      "0s - loss: 0.0504 - acc: 0.9857 - val_loss: 0.0331 - val_acc: 1.0000\n",
      "Epoch 41/50\n",
      "0s - loss: 0.0501 - acc: 0.9857 - val_loss: 0.0336 - val_acc: 1.0000\n",
      "Epoch 42/50\n",
      "0s - loss: 0.0500 - acc: 0.9857 - val_loss: 0.0337 - val_acc: 1.0000\n",
      "Epoch 43/50\n",
      "0s - loss: 0.0499 - acc: 0.9857 - val_loss: 0.0312 - val_acc: 1.0000\n",
      "Epoch 44/50\n",
      "0s - loss: 0.0498 - acc: 0.9857 - val_loss: 0.0321 - val_acc: 1.0000\n",
      "Epoch 45/50\n",
      "0s - loss: 0.0495 - acc: 0.9857 - val_loss: 0.0326 - val_acc: 1.0000\n",
      "Epoch 46/50\n",
      "0s - loss: 0.0492 - acc: 0.9857 - val_loss: 0.0318 - val_acc: 1.0000\n",
      "Epoch 47/50\n",
      "0s - loss: 0.0490 - acc: 0.9857 - val_loss: 0.0313 - val_acc: 1.0000\n",
      "Epoch 48/50\n",
      "0s - loss: 0.0490 - acc: 0.9857 - val_loss: 0.0329 - val_acc: 1.0000\n",
      "Epoch 49/50\n",
      "0s - loss: 0.0487 - acc: 0.9857 - val_loss: 0.0323 - val_acc: 1.0000\n",
      "Epoch 50/50\n",
      "0s - loss: 0.0484 - acc: 0.9857 - val_loss: 0.0316 - val_acc: 1.0000\n"
     ]
    },
    {
     "data": {
      "text/plain": [
       "<keras.callbacks.History at 0x11963898>"
      ]
     },
     "execution_count": 2,
     "metadata": {},
     "output_type": "execute_result"
    }
   ],
   "source": [
    "# Drop based learning rate decay\n",
    "\n",
    "import math\n",
    "\n",
    "from keras.callbacks import LearningRateScheduler\n",
    "\n",
    "# Learning rate schedule\n",
    "def step_decay(epoch):\n",
    "    initial_lr = 0.1\n",
    "    drop = 0.5\n",
    "    epochs_drop = 10.0\n",
    "    learning_rate = initial_lr * math.pow(drop, math.floor((1+epoch)/epochs_drop))\n",
    "    return learning_rate\n",
    "\n",
    "# Random seed \n",
    "seed = 7\n",
    "np.random.seed(seed)\n",
    "\n",
    "# Create model\n",
    "model = Sequential()\n",
    "model.add((Dense(34, input_dim=34, init='normal', activation='relu')))\n",
    "model.add((Dense(1, init='normal', activation='sigmoid')))\n",
    "# Compile\n",
    "sgd = SGD(lr=0.0, momentum=0.9, decay=0.0, nesterov=False)\n",
    "model.compile(loss='binary_crossentropy', optimizer=sgd, metrics=['accuracy'])\n",
    "\n",
    "# learning schedule callback\n",
    "lrate = LearningRateScheduler(step_decay)\n",
    "callbacks_list = [lrate]\n",
    "\n",
    "# Fit model\n",
    "model.fit(X, Y, validation_split=0.2, nb_epoch=50, batch_size=28,\n",
    "         callbacks=callbacks_list, verbose=2)"
   ]
  },
  {
   "cell_type": "markdown",
   "metadata": {},
   "source": [
    "50次迭代后, 模型在训练集上的分类准确率为 98.57%, 在验证集上的准确率为 100%"
   ]
  },
  {
   "cell_type": "markdown",
   "metadata": {},
   "source": [
    "# 关于 momentum"
   ]
  },
  {
   "cell_type": "code",
   "execution_count": null,
   "metadata": {
    "collapsed": true
   },
   "outputs": [],
   "source": [
    "# Vanilla update weight\n",
    "x += - learning_rate * dx\n",
    "\n",
    "# Momentum update\n",
    "v = mu * v - learning_rate * dx # integrate velocity\n",
    "x += v # integrate position"
   ]
  },
  {
   "cell_type": "markdown",
   "metadata": {},
   "source": [
    "learning rate 一般起始值为 0.1"
   ]
  },
  {
   "cell_type": "code",
   "execution_count": null,
   "metadata": {
    "collapsed": true
   },
   "outputs": [],
   "source": []
  }
 ],
 "metadata": {
  "kernelspec": {
   "display_name": "Python 2",
   "language": "python",
   "name": "python2"
  },
  "language_info": {
   "codemirror_mode": {
    "name": "ipython",
    "version": 2
   },
   "file_extension": ".py",
   "mimetype": "text/x-python",
   "name": "python",
   "nbconvert_exporter": "python",
   "pygments_lexer": "ipython2",
   "version": "2.7.13"
  }
 },
 "nbformat": 4,
 "nbformat_minor": 2
}
