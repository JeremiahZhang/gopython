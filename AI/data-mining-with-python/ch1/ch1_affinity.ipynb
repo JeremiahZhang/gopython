{
 "cells": [
  {
   "cell_type": "code",
   "execution_count": 11,
   "metadata": {
    "collapsed": false
   },
   "outputs": [
    {
     "name": "stdout",
     "output_type": "stream",
     "text": [
      "This dataset has 100 samples and 5 features\n"
     ]
    }
   ],
   "source": [
    "import numpy as np\n",
    "dataset_filename = \"affinity_dataset.txt\"\n",
    "X = np.loadtxt(dataset_filename)\n",
    "n_samples, n_features = X.shape\n",
    "print(\"This dataset has {0} samples and {1} features\".format(n_samples, n_features))"
   ]
  },
  {
   "cell_type": "code",
   "execution_count": 12,
   "metadata": {
    "collapsed": false,
    "scrolled": true
   },
   "outputs": [
    {
     "name": "stdout",
     "output_type": "stream",
     "text": [
      "[[ 0.  0.  1.  1.  1.]\n",
      " [ 1.  1.  0.  1.  0.]\n",
      " [ 1.  0.  1.  1.  0.]\n",
      " [ 0.  0.  1.  1.  1.]\n",
      " [ 0.  1.  0.  0.  1.]]\n"
     ]
    }
   ],
   "source": [
    "print(X[:5])"
   ]
  },
  {
   "cell_type": "code",
   "execution_count": 13,
   "metadata": {
    "collapsed": false
   },
   "outputs": [],
   "source": [
    "# The names of the features\n",
    "features = [\"bread\", \"milk\", \"cheese\", \"apples\", \"bananas\"]"
   ]
  },
  {
   "cell_type": "markdown",
   "metadata": {},
   "source": [
    "Support and Confidence\n",
    "\n",
    "Support is the number of times that a rule occurs in a dataset, which is computed by simply counting the number of samples that the rule is valid for.\n",
    "\n",
    "While the support measures how often a rule exists, confidence measures how accurate they are when they can be used. It can be compulated by determining the percentage of times the rule applies when the premise applies."
   ]
  },
  {
   "cell_type": "code",
   "execution_count": 14,
   "metadata": {
    "collapsed": false
   },
   "outputs": [
    {
     "name": "stdout",
     "output_type": "stream",
     "text": [
      "36 people bought apples.\n"
     ]
    }
   ],
   "source": [
    "# Rule: if a person buys apples, they also buy bananas\n",
    "# First, how many rows contain our premise: that a person is buying apples\n",
    "num_apple_purchases = 0\n",
    "for sample in X:\n",
    "    if sample[3]:\n",
    "        num_apple_purchases += 1\n",
    "print \"{0} people bought apples.\".format(num_apple_purchases)"
   ]
  },
  {
   "cell_type": "code",
   "execution_count": 15,
   "metadata": {
    "collapsed": false
   },
   "outputs": [
    {
     "name": "stdout",
     "output_type": "stream",
     "text": [
      "21 cases of the rule being valid were discovered\n",
      "15 cases of the rule being invalid were discovered\n"
     ]
    }
   ],
   "source": [
    "rule_valid = 0\n",
    "rule_invalid = 0\n",
    "for sample in X:\n",
    "    if sample[3]:\n",
    "        if sample[4]:\n",
    "            rule_valid += 1\n",
    "        else:\n",
    "            rule_invalid += 1\n",
    "\n",
    "print \"{0} cases of the rule being valid were discovered\".format(rule_valid)\n",
    "print \"{0} cases of the rule being invalid were discovered\".format(rule_invalid)"
   ]
  },
  {
   "cell_type": "code",
   "execution_count": 21,
   "metadata": {
    "collapsed": false
   },
   "outputs": [
    {
     "name": "stdout",
     "output_type": "stream",
     "text": [
      "confidence 0.583333333333\n",
      "The support is 21 and the confidence is 0.583.\n",
      "As a percentage, that is 58.3%\n"
     ]
    }
   ],
   "source": [
    "# Now we have\n",
    "support = rule_valid\n",
    "confidence = float(rule_valid) / float(num_apple_purchases)\n",
    "\n",
    "print \"confidence {0}\".format(confidence)\n",
    "print(\"The support is {0} and the confidence is {1:.3f}.\".format(support, confidence))\n",
    "\n",
    "print(\"As a percentage, that is {0:.1f}%\".format(100*confidence))"
   ]
  },
  {
   "cell_type": "code",
   "execution_count": 26,
   "metadata": {
    "collapsed": false
   },
   "outputs": [],
   "source": [
    "from collections import defaultdict\n",
    "# Now compute for all possible rules\n",
    "valid_rules = defaultdict(int)\n",
    "invalid_rules = defaultdict(int)\n",
    "num_occurences = defaultdict(int)\n",
    "\n",
    "for sample in X:\n",
    "    for premise in range(n_features):\n",
    "        if sample[premise] == 0: continue\n",
    "            # Record that the premise was bought in another transaction\n",
    "        num_occurences[premise] += 1\n",
    "        for conclusion in range(n_features):\n",
    "            if premise == conclusion:\n",
    "                continue\n",
    "            if sample[conclusion] == 1:\n",
    "                valid_rules[(premise, conclusion)] += 1\n",
    "            else:\n",
    "                invalid_rules[(premise, conclusion)] += 1\n",
    "\n",
    "support = valid_rules\n",
    "confidence = defaultdict(float)\n",
    "\n",
    "for premise, conclusion in valid_rules.keys():\n",
    "    confidence[(premise, conclusion)] = float(valid_rules[(premise, conclusion)]) / num_occurences[premise]"
   ]
  },
  {
   "cell_type": "code",
   "execution_count": 27,
   "metadata": {
    "collapsed": false
   },
   "outputs": [
    {
     "name": "stdout",
     "output_type": "stream",
     "text": [
      "Rule: If a person buys bread they will also buy milk\n",
      "- Confidence: 0.519\n",
      "- Support: 14\n",
      "\n",
      "Rule: If a person buys milk they will also buy cheese\n",
      "- Confidence: 0.152\n",
      "- Support: 7\n",
      "\n",
      "Rule: If a person buys apples they will also buy cheese\n",
      "- Confidence: 0.694\n",
      "- Support: 25\n",
      "\n",
      "Rule: If a person buys milk they will also buy apples\n",
      "- Confidence: 0.196\n",
      "- Support: 9\n",
      "\n",
      "Rule: If a person buys bread they will also buy apples\n",
      "- Confidence: 0.185\n",
      "- Support: 5\n",
      "\n",
      "Rule: If a person buys apples they will also buy bread\n",
      "- Confidence: 0.139\n",
      "- Support: 5\n",
      "\n",
      "Rule: If a person buys apples they will also buy bananas\n",
      "- Confidence: 0.583\n",
      "- Support: 21\n",
      "\n",
      "Rule: If a person buys apples they will also buy milk\n",
      "- Confidence: 0.250\n",
      "- Support: 9\n",
      "\n",
      "Rule: If a person buys milk they will also buy bananas\n",
      "- Confidence: 0.413\n",
      "- Support: 19\n",
      "\n",
      "Rule: If a person buys cheese they will also buy bananas\n",
      "- Confidence: 0.659\n",
      "- Support: 27\n",
      "\n",
      "Rule: If a person buys cheese they will also buy bread\n",
      "- Confidence: 0.098\n",
      "- Support: 4\n",
      "\n",
      "Rule: If a person buys cheese they will also buy apples\n",
      "- Confidence: 0.610\n",
      "- Support: 25\n",
      "\n",
      "Rule: If a person buys cheese they will also buy milk\n",
      "- Confidence: 0.171\n",
      "- Support: 7\n",
      "\n",
      "Rule: If a person buys bananas they will also buy apples\n",
      "- Confidence: 0.356\n",
      "- Support: 21\n",
      "\n",
      "Rule: If a person buys bread they will also buy bananas\n",
      "- Confidence: 0.630\n",
      "- Support: 17\n",
      "\n",
      "Rule: If a person buys bananas they will also buy cheese\n",
      "- Confidence: 0.458\n",
      "- Support: 27\n",
      "\n",
      "Rule: If a person buys milk they will also buy bread\n",
      "- Confidence: 0.304\n",
      "- Support: 14\n",
      "\n",
      "Rule: If a person buys bananas they will also buy milk\n",
      "- Confidence: 0.322\n",
      "- Support: 19\n",
      "\n",
      "Rule: If a person buys bread they will also buy cheese\n",
      "- Confidence: 0.148\n",
      "- Support: 4\n",
      "\n",
      "Rule: If a person buys bananas they will also buy bread\n",
      "- Confidence: 0.288\n",
      "- Support: 17\n",
      "\n"
     ]
    }
   ],
   "source": [
    "for premise, conclusion in confidence:\n",
    "    premise_name = features[premise]\n",
    "    conclusion_name = features[conclusion]\n",
    "    \n",
    "    print(\"Rule: If a person buys {0} they will also buy {1}\".format(premise_name, conclusion_name))\n",
    "    print(\"- Confidence: {0:.3f}\".format(confidence[(premise, conclusion)]))\n",
    "    print(\"- Support: {0}\".format(valid_rules[(premise, conclusion)]))\n",
    "    print(\"\")"
   ]
  },
  {
   "cell_type": "code",
   "execution_count": 28,
   "metadata": {
    "collapsed": true
   },
   "outputs": [],
   "source": [
    "def print_rule(premise, conclusion, support, confidence, features):\n",
    "    premise_name = features[premise]\n",
    "    conclusion_name = features[conclusion]\n",
    "    \n",
    "    print(\"Rule: If a person buys {0} they will also buy {1}\".format(premise_name, conclusion_name))\n",
    "    print(\"- Confidence: {0:.3f}\".format(confidence[(premise, conclusion)]))\n",
    "    print(\"- Support: {0}\".format(valid_rules[(premise, conclusion)]))\n",
    "    print(\"\")  "
   ]
  },
  {
   "cell_type": "code",
   "execution_count": 29,
   "metadata": {
    "collapsed": false
   },
   "outputs": [
    {
     "name": "stdout",
     "output_type": "stream",
     "text": [
      "Rule: If a person buys milk they will also buy apples\n",
      "- Confidence: 0.196\n",
      "- Support: 9\n",
      "\n"
     ]
    }
   ],
   "source": [
    "premise = 1\n",
    "conclusion = 3\n",
    "print_rule(premise, conclusion, support, confidence, features)"
   ]
  },
  {
   "cell_type": "code",
   "execution_count": 30,
   "metadata": {
    "collapsed": false
   },
   "outputs": [
    {
     "name": "stdout",
     "output_type": "stream",
     "text": [
      "[((0, 1), 14),\n",
      " ((1, 2), 7),\n",
      " ((3, 2), 25),\n",
      " ((1, 3), 9),\n",
      " ((3, 0), 5),\n",
      " ((4, 1), 19),\n",
      " ((3, 1), 9),\n",
      " ((1, 4), 19),\n",
      " ((0, 2), 4),\n",
      " ((2, 0), 4),\n",
      " ((2, 3), 25),\n",
      " ((2, 1), 7),\n",
      " ((4, 3), 21),\n",
      " ((0, 4), 17),\n",
      " ((1, 0), 14),\n",
      " ((4, 2), 27),\n",
      " ((0, 3), 5),\n",
      " ((3, 4), 21),\n",
      " ((2, 4), 27),\n",
      " ((4, 0), 17)]\n"
     ]
    }
   ],
   "source": [
    "# Sort by support\n",
    "from pprint import pprint\n",
    "pprint(list(support.items()))"
   ]
  },
  {
   "cell_type": "code",
   "execution_count": 37,
   "metadata": {
    "collapsed": false
   },
   "outputs": [
    {
     "name": "stdout",
     "output_type": "stream",
     "text": [
      "[((4, 2), 27), ((2, 4), 27), ((3, 2), 25), ((2, 3), 25), ((4, 3), 21), ((3, 4), 21), ((4, 1), 19), ((1, 4), 19), ((0, 4), 17), ((4, 0), 17), ((0, 1), 14), ((1, 0), 14), ((1, 3), 9), ((3, 1), 9), ((1, 2), 7), ((2, 1), 7), ((3, 0), 5), ((0, 3), 5), ((0, 2), 4), ((2, 0), 4)]\n"
     ]
    }
   ],
   "source": [
    "from operator import itemgetter\n",
    "sorted_support = sorted(support.items(), key=itemgetter(1), reverse=True)\n",
    "print sorted_support"
   ]
  },
  {
   "cell_type": "code",
   "execution_count": 33,
   "metadata": {
    "collapsed": false
   },
   "outputs": [
    {
     "name": "stdout",
     "output_type": "stream",
     "text": [
      "Rule #1\n",
      "Rule: If a person buys bananas they will also buy cheese\n",
      "- Confidence: 0.458\n",
      "- Support: 27\n",
      "\n",
      "Rule #2\n",
      "Rule: If a person buys cheese they will also buy bananas\n",
      "- Confidence: 0.659\n",
      "- Support: 27\n",
      "\n",
      "Rule #3\n",
      "Rule: If a person buys apples they will also buy cheese\n",
      "- Confidence: 0.694\n",
      "- Support: 25\n",
      "\n",
      "Rule #4\n",
      "Rule: If a person buys cheese they will also buy apples\n",
      "- Confidence: 0.610\n",
      "- Support: 25\n",
      "\n",
      "Rule #5\n",
      "Rule: If a person buys bananas they will also buy apples\n",
      "- Confidence: 0.356\n",
      "- Support: 21\n",
      "\n"
     ]
    }
   ],
   "source": [
    "for index in range(5):\n",
    "    print(\"Rule #{0}\".format(index + 1))\n",
    "    (premise, conclusion) = sorted_support[index][0]\n",
    "    print_rule(premise, conclusion, support, confidence, features)"
   ]
  },
  {
   "cell_type": "code",
   "execution_count": 38,
   "metadata": {
    "collapsed": true
   },
   "outputs": [],
   "source": [
    "sorted_confidence = sorted(confidence.items(), key=itemgetter(1), reverse=True)"
   ]
  },
  {
   "cell_type": "code",
   "execution_count": 39,
   "metadata": {
    "collapsed": false
   },
   "outputs": [
    {
     "name": "stdout",
     "output_type": "stream",
     "text": [
      "Rule #1\n",
      "Rule: If a person buys apples they will also buy cheese\n",
      "- Confidence: 0.694\n",
      "- Support: 25\n",
      "\n",
      "Rule #2\n",
      "Rule: If a person buys cheese they will also buy bananas\n",
      "- Confidence: 0.659\n",
      "- Support: 27\n",
      "\n",
      "Rule #3\n",
      "Rule: If a person buys bread they will also buy bananas\n",
      "- Confidence: 0.630\n",
      "- Support: 17\n",
      "\n",
      "Rule #4\n",
      "Rule: If a person buys cheese they will also buy apples\n",
      "- Confidence: 0.610\n",
      "- Support: 25\n",
      "\n",
      "Rule #5\n",
      "Rule: If a person buys apples they will also buy bananas\n",
      "- Confidence: 0.583\n",
      "- Support: 21\n",
      "\n"
     ]
    }
   ],
   "source": [
    "for index in range(5):\n",
    "    print(\"Rule #{0}\".format(index + 1))\n",
    "    premise, conclusion = sorted_confidence[index][0]\n",
    "    print_rule(premise, conclusion, support, confidence, features)"
   ]
  },
  {
   "cell_type": "code",
   "execution_count": 40,
   "metadata": {
    "collapsed": false
   },
   "outputs": [
    {
     "data": {
      "text/plain": [
       "[3, 2, 5, 1]"
      ]
     },
     "execution_count": 40,
     "metadata": {},
     "output_type": "execute_result"
    }
   ],
   "source": [
    "# Example of using itemgetter() to retrieve specific fields from a tuple record\n",
    "inventory = [('apple', 3), ('banana', 2), ('pear', 5), ('orange', 1)]\n",
    "getcount = itemgetter(1)\n",
    "map(getcount, inventory)"
   ]
  },
  {
   "cell_type": "code",
   "execution_count": 41,
   "metadata": {
    "collapsed": false
   },
   "outputs": [
    {
     "data": {
      "text/plain": [
       "[('pear', 5), ('apple', 3), ('banana', 2), ('orange', 1)]"
      ]
     },
     "execution_count": 41,
     "metadata": {},
     "output_type": "execute_result"
    }
   ],
   "source": [
    "sorted(inventory, key=getcount, reverse=True)"
   ]
  },
  {
   "cell_type": "code",
   "execution_count": null,
   "metadata": {
    "collapsed": true
   },
   "outputs": [],
   "source": []
  }
 ],
 "metadata": {
  "kernelspec": {
   "display_name": "Python 2",
   "language": "python",
   "name": "python2"
  },
  "language_info": {
   "codemirror_mode": {
    "name": "ipython",
    "version": 2
   },
   "file_extension": ".py",
   "mimetype": "text/x-python",
   "name": "python",
   "nbconvert_exporter": "python",
   "pygments_lexer": "ipython2",
   "version": "2.7.13"
  }
 },
 "nbformat": 4,
 "nbformat_minor": 2
}
