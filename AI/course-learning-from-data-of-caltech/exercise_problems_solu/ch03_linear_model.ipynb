{
 "cells": [
  {
   "cell_type": "code",
   "execution_count": null,
   "metadata": {
    "collapsed": true
   },
   "outputs": [],
   "source": [
    "# Chapter 3 Solutions: Exercises and Problems"
   ]
  },
  {
   "cell_type": "markdown",
   "metadata": {},
   "source": [
    "#  Exercises"
   ]
  },
  {
   "cell_type": "markdown",
   "metadata": {},
   "source": [
    "## 3.1 \n",
    "\n",
    "> Will PLA ever stop updating if the data is not linearly separable\n",
    "\n",
    "No, PLA will not stop."
   ]
  },
  {
   "cell_type": "markdown",
   "metadata": {},
   "source": [
    "## 3.2 Page 80\n",
    "\n",
    "Need to programming with Python to solve it."
   ]
  },
  {
   "cell_type": "markdown",
   "metadata": {},
   "source": [
    "## 3.3 Page 87\n",
    "\n",
    "hat matrix $$H = X(X^T X)^{-1} X^T$$, 训练样本所构成的矩阵 $$X_{N,d+1}$$\n",
    "\n",
    "for (a)\n",
    "\n",
    "$$H^T = (X(X^T X)^{-1} X^T)^T = (X^T)^T((X^T X)^{-1})^T (X)^T = X(X^T X)^{-1} X^T = H$$"
   ]
  },
  {
   "cell_type": "markdown",
   "metadata": {},
   "source": [
    "for (b)\n",
    "\n",
    "将 $$H^K$$ 展开 \n",
    "\n",
    "$$\\begin{align}\n",
    "H^K &= X(X^T X)^{-1} X^T X(X^T X)^{-1} X^T X(X^T X)^{-1} X^T ...X(X^T X)^{-1} X^T \\\\\n",
    "    &= X(X^T X)^{-1} X^T \\\\\n",
    "    &= H\n",
    "\\end{align}$$"
   ]
  },
  {
   "cell_type": "markdown",
   "metadata": {},
   "source": [
    "for (c)\n",
    "\n",
    "$$(I - H)^2 =(I - H)(I - H) = I - 2H + H^2 = I - H$$\n",
    "\n",
    "$$(I-H)^K = (I-H)(I-H)...(I-H) = I - H$$"
   ]
  },
  {
   "cell_type": "markdown",
   "metadata": {},
   "source": [
    "for (d)\n",
    "\n",
    "$$\\begin{align}\n",
    "trace(H) &= trace(X(X^T X)^{-1} X^T) \\\\\n",
    "         &= trace(X^TX (X^T X)^{-1}) \\\\\n",
    "         &= trace(I_{d+1,d+1}) \\\\\n",
    "         &= d+1\n",
    "\\end{align}$$\n",
    "\n",
    "hint: $$trace(AB) = trace(BA)$$"
   ]
  },
  {
   "cell_type": "markdown",
   "metadata": {},
   "source": [
    "## 3.4 Page87-88"
   ]
  },
  {
   "cell_type": "markdown",
   "metadata": {},
   "source": [
    "关键: \n",
    "\n",
    "- noise target $$y = {w^*}^Tx + \\epsilon$$ 产生数据集, $$\\boldsymbol {y = XW^* + \\epsilon}$$\n",
    "- 误差 $$\\epsilon$$ 的期望 $$\\Bbb E(\\epsilon) = 0$$, 方差 $$\\Bbb E(\\epsilon^2) = \\sigma^2$$\n",
    "- 数据集 $$D = \\{ (x_1, y_1), (x_2, y_2), ..., (x_N, y_N) \\}$$\n",
    "- 每个样本数据的y, 都要噪声在里面, 其噪声向量为 $$\\boldsymbol \\epsilon = [ \\epsilon_1, \\epsilon_2, ..., \\epsilon_N]^T$$\n",
    "- $$X^T X$$ 可逆, 数据样本矩阵 $$X_{(N, d+1)}$$"
   ]
  },
  {
   "cell_type": "markdown",
   "metadata": {},
   "source": [
    "for a:\n",
    "\n",
    "in-sample estimate 训练假设集在数据集D上输出向量 \n",
    "\n",
    "$$\\hat {\\boldsymbol y}_{N,1} = Xw_{lin} = X(H \\boldsymbol y) = \\boldsymbol {XW^* + H \\epsilon}$$"
   ]
  },
  {
   "cell_type": "markdown",
   "metadata": {},
   "source": [
    "for b\n",
    "\n",
    "$$\\begin{align}\n",
    "\\boldsymbol {\\hat y - y} &=  \\boldsymbol {XW^* + H \\epsilon - XW^* + \\epsilon} \\\\\n",
    "            &= \\boldsymbol { H \\epsilon -  I \\epsilon} \\\\\n",
    "            &=  \\boldsymbol {(H-I) \\epsilon}\n",
    "\\end{align}$$"
   ]
  },
  {
   "cell_type": "markdown",
   "metadata": {},
   "source": [
    "for c\n",
    "\n",
    "每个测试样本的 error 向量为:\n",
    "\n",
    "$$\\boldsymbol {E = E_{(N,1)} = {\\hat y - y}} $$\n",
    "\n",
    "in sample error $$E_{in}(w_{lin})$$ 为上面向量内积的 1/N\n",
    "\n",
    "$$\\begin{align}\n",
    "E_{in}(w_{lin}) &= \\frac{1}{N} E^T E \\\\\n",
    "                &= \\frac{1}{N} (\\epsilon^T (H-I)^T (H-I) \\epsilon) \\\\\n",
    "                &= \\frac{1}{N}(\\epsilon^T (I-H) \\epsilon)\n",
    "\\end{align}$$"
   ]
  },
  {
   "cell_type": "markdown",
   "metadata": {},
   "source": [
    "for (d)\n",
    "\n",
    "then\n",
    "\n",
    "$$\\begin{align}\n",
    "\\Bbb E_D \\left[ E_{in}(w_{lin})\\right] &= \\frac{1}{N} \\Bbb E_D[\\epsilon^T (I-H) \\epsilon] \\\\\n",
    "        &= \\frac{1}{N} (\\Bbb E_D[\\epsilon^T \\epsilon] - \\Bbb E_D[\\epsilon^T H \\epsilon]) \\\\  \n",
    "        &= \\sigma^2 (1 - \\frac{d+1}{N})\n",
    "\\end{align}$$"
   ]
  },
  {
   "cell_type": "markdown",
   "metadata": {},
   "source": [
    "(1): \n",
    "\n",
    "$$\\begin{align}\n",
    "\\Bbb E_D[\\epsilon^T \\epsilon] &= \\Bbb E_D[\\epsilon_1^2 + \\epsilon_2^2 + \\cdots + \\epsilon_N^2] \\\\\n",
    "        &= \\Bbb E_D[\\epsilon_1^2] + \\cdots + \\Bbb E_D[\\epsilon_N^2] \\\\\n",
    "        &= N \\sigma^2\n",
    "\\end{align}$$\n",
    "\n",
    "因为$$\\epsilon_1, ..., \\epsilon_N$$ 相互独立."
   ]
  },
  {
   "cell_type": "markdown",
   "metadata": {},
   "source": [
    "(2) :\n",
    "\n",
    "$$\\begin{align}\n",
    "\\Bbb E_D[\\epsilon^T H \\epsilon] & = \\Bbb E_D \\left[ \\sum_{i=1}^{N} H_{ii} \\epsilon_i^2 + \\sum_{i \\neq j}^{N}H_{ij} \\epsilon_i \\epsilon_j \\right] \\\\\n",
    "    &= \\Bbb E_D[\\sum_{i=1}^{N} H_{ii} \\epsilon_i^2] + \\Bbb E_D[\\sum_{i \\neq j}^{N}H_{ij} \\epsilon_i \\epsilon_j] \\\\\n",
    "    &= trace(\\boldsymbol H) \\sigma^2 + 0 \\\\\n",
    "    &= \\sigma^2 (d+1)\n",
    "\\end{align}$$"
   ]
  },
  {
   "cell_type": "markdown",
   "metadata": {},
   "source": [
    "for (e)\n",
    "\n",
    "\n",
    "关键部分参考:\n",
    "\n",
    "[Exercise 3.4 - LFD Book Forum](http://book.caltech.edu/bookforum/showthread.php?t=4353) Sweater Monkey 对 $$\\hat y$$的表示\n",
    "\n",
    "题目:\n",
    "\n",
    "$$D_{test} = {(x_1, y_1'), (x_2, y_2'), ..., (x_N, y_N')}$$ 关键是y帽的表示.\n",
    "\n",
    "这时候的误差向量为 $$\\boldsymbol{\\epsilon'} = [\\epsilon_1', \\epsilon_2', ..., \\epsilon_N']^T$$, 各误差元素相互独立.\n",
    "\n",
    "在测试集上的输入结果向量, 因为体重提到 输入空间向量X相同. \n",
    "\n",
    "$$\\boldsymbol {\\hat y = XW^* + H \\epsilon}$$\n",
    "\n",
    "训练集上样本误差组成的向量为:\n",
    "\n",
    "$$\\begin{align}\n",
    "\\boldsymbol {\\hat y - y'} &=  \\boldsymbol {XW^* + H \\epsilon - XW^* + \\epsilon'} \\\\\n",
    "            &= \\boldsymbol { H \\epsilon -  I \\epsilon'} \\\\\n",
    "\\end{align}$$\n",
    "\n",
    "每个测试样本的 error 向量为:\n",
    "\n",
    "$$\\boldsymbol {E = E_{(N,1)} = {\\hat y - y}} $$"
   ]
  },
  {
   "cell_type": "markdown",
   "metadata": {},
   "source": [
    "in sample error $$E_{in}(w_{lin})$$ 为上面向量内积的 1/N\n",
    "\n",
    "$$\\begin{align}\n",
    "E_{in}(w_{lin}) &= \\frac{1}{N} E^T E \\\\\n",
    "                &= \\frac{1}{N} (H \\epsilon -  I \\epsilon')^T (H \\epsilon -  I \\epsilon') \\\\\n",
    "                &= \\frac{1}{N}(\\epsilon^T H \\epsilon - 2\\epsilon'^T H \\epsilon + \\epsilon'^T \\epsilon')\n",
    "\\end{align}$$"
   ]
  },
  {
   "cell_type": "markdown",
   "metadata": {},
   "source": [
    "$$\\begin{align}\n",
    "\\Bbb E_D \\left[ E_{in}(w_{lin})\\right] &= \\frac{1}{N} \\Bbb E_D[\\epsilon^T H \\epsilon - 2\\epsilon'^T H \\epsilon + \\epsilon'^T \\epsilon'] \\\\\n",
    "        &= \\frac{1}{N} (\\Bbb E_D[\\epsilon^T H \\epsilon] - 0 + \\Bbb E_D[\\epsilon'^T\\epsilon']) \\\\  \n",
    "        &= \\sigma^2 (1 + \\frac{d+1}{N})\n",
    "\\end{align}$$"
   ]
  },
  {
   "cell_type": "markdown",
   "metadata": {},
   "source": [
    "其中: \n",
    "\n",
    "$$ \\Bbb E_D[\\epsilon^T H \\epsilon] = \\sigma^2 (d+1)$$  上面得出\n",
    "\n",
    "因为 误差项相互独立, 那么中间项\n",
    "\n",
    "$$\\Bbb E_D[2\\epsilon'^T H \\epsilon] = 0$$\n",
    "\n",
    "而第三项\n",
    "\n",
    "$$\\Bbb E_D[\\epsilon'^T\\epsilon']) = N \\sigma^2$$"
   ]
  },
  {
   "cell_type": "markdown",
   "metadata": {
    "collapsed": true
   },
   "source": [
    "## 3.5\n",
    "\n",
    "画图咯"
   ]
  },
  {
   "cell_type": "code",
   "execution_count": 1,
   "metadata": {
    "collapsed": true
   },
   "outputs": [],
   "source": [
    "import matplotlib.pyplot as plt\n",
    "import numpy as np\n",
    "\n",
    "%matplotlib inline"
   ]
  },
  {
   "cell_type": "code",
   "execution_count": 2,
   "metadata": {
    "collapsed": false
   },
   "outputs": [
    {
     "data": {
      "text/plain": [
       "<matplotlib.legend.Legend at 0x9127240>"
      ]
     },
     "execution_count": 2,
     "metadata": {},
     "output_type": "execute_result"
    },
    {
     "data": {
      "image/png": "[encoded data removed]",
      "text/plain": [
       "<matplotlib.figure.Figure at 0x9064c50>"
      ]
     },
     "metadata": {},
     "output_type": "display_data"
    }
   ],
   "source": [
    "s = np.arange(-10, 10, 0.1)\n",
    "\n",
    "tanh_s = (np.exp(s) - np.exp(-s)) / (np.exp(s) + np.exp(-s))\n",
    "sigmoid_s = np.exp(s) / (1 + np.exp(s))\n",
    "\n",
    "plt.figure(1)\n",
    "plt.plot(s, tanh_s, 'r', s, sigmoid_s, 'g')\n",
    "plt.legend(['tanh_s', 'sigmoid_s'])"
   ]
  },
  {
   "cell_type": "markdown",
   "metadata": {},
   "source": [
    "从上图中可以看出, 压缩 tanh 函数, 得到 sigmoid 函数. "
   ]
  },
  {
   "cell_type": "markdown",
   "metadata": {},
   "source": [
    "for (b)\n",
    "\n",
    "当 \\s\\ 非常大时, tanh 趋近 -1 和 1.\n",
    "\n",
    "当 \\s\\ 非常小时, tanh 不能收敛."
   ]
  },
  {
   "cell_type": "markdown",
   "metadata": {
    "collapsed": true
   },
   "source": [
    "## 3.6\n",
    "\n",
    "for a\n",
    "\n",
    "参考以前笔记 [线性分类(Logistic Regression) · Anifacc](https://anifacc.github.io/machinelearning/2017/06/14/classification-logistic-regression/)\n",
    "\n",
    "推导可得到\n",
    "\n",
    "$$\\begin{align}\n",
    "l(w) &= \\ln L(w) \\\\\n",
    "          &= \\sum_{i=1}^{m} [y^i =+1] \\ln h_{w}(x^i) + [y^i=-1]ln(1-h_{w}(x^i))\n",
    "\\end{align}$$"
   ]
  },
  {
   "cell_type": "markdown",
   "metadata": {},
   "source": [
    "上面的 [] 为题目中的 取 0, 1 符号. \n",
    "\n",
    "极大似然估计, 是似然函数最大, 其 ln 值也最大, 因为 ln 函数是递增的, 那么就相当于最小化\n",
    "题目中的 $$E_{in}(w)$$"
   ]
  },
  {
   "cell_type": "markdown",
   "metadata": {},
   "source": [
    "for b\n",
    "\n",
    "将 sigmoid 函数带入就可以了."
   ]
  },
  {
   "cell_type": "markdown",
   "metadata": {},
   "source": [
    "## 3.7\n",
    "\n"
   ]
  },
  {
   "cell_type": "markdown",
   "metadata": {},
   "source": [
    "$$E_{in}(w) = \\frac{1}{N} \\sum_{n=1}^{N} \\ln \\left(1 + e^{-y_n w^T x_n} \\right)$$"
   ]
  },
  {
   "cell_type": "markdown",
   "metadata": {},
   "source": [
    "$$\\begin{align}\n",
    "\\triangledown_w E_{in}(w) &= \\frac{1}{N} \\sum_{n=1}^{N} \\frac{1}{1 + e^{-y_n w^T x_n}} e^{-y_n w^T x_n} (-y_n x_n) \\\\\n",
    "        &= \\frac{1}{N} \\sum_{n=1}^{N} - y_n x_n \\theta(-yn w^T x_n)\n",
    "\\end{align}$$"
   ]
  },
  {
   "cell_type": "markdown",
   "metadata": {
    "collapsed": true
   },
   "source": [
    "## 3.8\n",
    "\n",
    "$$\\triangle E_{in} = \\eta \\triangledown E_{in}(w(0))^T \\hat v + O(\\eta^2)$$ \n",
    "\n",
    "$$\\triangle E_{in}$$ 误差量是越大越好,\n",
    "\n",
    "那么 $$\\triangledown E_{in}(w(0))^T \\hat v$$是两个向量的乘积, 只有在它们方向相反的时候, 其乘积为最小的负值. $$\\vec a \\vec b = \\| a \\| \\|b\\| \\cos \\theta$$, 当两向量夹角为 180 °的时候, 向量乘积值为最小的负值.\n",
    "\n",
    "也就是 \n",
    "\n",
    "向量$$\\hat v$$ 的方向与向量 $$\\triangledown E_{in}(w(0))$$方向相反.  即:\n",
    "\n",
    "$$\\hat v = - \\frac{\\triangledown E_{in}(w(0))}{\\| \\triangledown E_{in}(w(0)) \\|}$$"
   ]
  },
  {
   "cell_type": "markdown",
   "metadata": {
    "collapsed": true
   },
   "source": [
    "## 3.9 "
   ]
  },
  {
   "cell_type": "code",
   "execution_count": 3,
   "metadata": {
    "collapsed": true
   },
   "outputs": [],
   "source": [
    "import matplotlib.pyplot as plt\n",
    "import numpy as np\n",
    "\n",
    "%matplotlib inline\n",
    "\n",
    "s = np.arange(-10, 10, 0.1) # array"
   ]
  },
  {
   "cell_type": "code",
   "execution_count": 4,
   "metadata": {
    "collapsed": false
   },
   "outputs": [
    {
     "name": "stdout",
     "output_type": "stream",
     "text": [
      "200\n"
     ]
    }
   ],
   "source": [
    "len_s = s.size\n",
    "\n",
    "print len_s"
   ]
  },
  {
   "cell_type": "code",
   "execution_count": 5,
   "metadata": {
    "collapsed": false
   },
   "outputs": [
    {
     "name": "stdout",
     "output_type": "stream",
     "text": [
      "200\n"
     ]
    }
   ],
   "source": [
    "y = np.ones(len_s)\n",
    "\n",
    "print y.size"
   ]
  },
  {
   "cell_type": "code",
   "execution_count": 6,
   "metadata": {
    "collapsed": true
   },
   "outputs": [],
   "source": [
    "sign_s = np.sign(s)"
   ]
  },
  {
   "cell_type": "markdown",
   "metadata": {},
   "source": [
    "for (a) I just gave up first.\n",
    "\n",
    "for (b) & c \n",
    "\n",
    "参考别人的解答:\n",
    "\n",
    "Here is the answer.[Learning From Data – A Short Course: Exercise 3.9 – Nguyen Thuy Vy](http://www.vynguyen.net/2016/09/16/learning-from-data-a-short-course-exercise-3-9/)"
   ]
  },
  {
   "cell_type": "markdown",
   "metadata": {},
   "source": [
    "从上面的练习中, 可以看出 分类误差要比 线性回归和逻辑回归的误差小."
   ]
  },
  {
   "cell_type": "markdown",
   "metadata": {
    "collapsed": true
   },
   "source": [
    "## 3.10 \n",
    "\n",
    "for (a)  \n",
    "\n",
    "在 PLA 中, 若 $$sign(wx_n)$$ 与 $$y_n$$ 异号: $$y_n w^T x_n < 0$$,\n",
    "\n",
    "则分类错误, 那么需要修正权重\n",
    "\n",
    "$$w(t+1) \\leftarrow w(t) + y x$$"
   ]
  },
  {
   "cell_type": "markdown",
   "metadata": {},
   "source": [
    "在 SGD 中, $$\\eta = 1$$\n",
    "\n",
    "$$e_n(w) = max(0, -y_n w^T x_n) $$"
   ]
  },
  {
   "cell_type": "markdown",
   "metadata": {},
   "source": [
    "因为分类错误, 所以  $$y_n w^T x_n < 0 \\Rightarrow - y_n w^T x_n > 0$$\n",
    "\n",
    "$$e_n(w) =  - y_n w^T x_n < 0$$"
   ]
  },
  {
   "cell_type": "markdown",
   "metadata": {},
   "source": [
    "$$\\triangledown_w e_n(w) = -y_n x_n$$\n",
    "\n",
    "$$w(t+1) \\leftarrow w(t) - \\eta \\triangledown_w e_n(w) = w(t) + y_n x_n$$"
   ]
  },
  {
   "cell_type": "markdown",
   "metadata": {},
   "source": [
    "与 PLA 的相同\n",
    "\n",
    "for part b"
   ]
  },
  {
   "cell_type": "markdown",
   "metadata": {},
   "source": [
    "参考书中 逻辑回归 的 权重迭代为:\n",
    "\n",
    "$$w(t+1) \\leftarrow w(t) - \\eta  \\triangledown_w e_n(w) $$"
   ]
  },
  {
   "cell_type": "markdown",
   "metadata": {},
   "source": [
    " 书本 P98 \n",
    " \n",
    " $$\\triangledown_w e_n(w) = - y_n x_n \\frac{1}{1 + e^{y_n w^T x_n}}$$"
   ]
  },
  {
   "cell_type": "markdown",
   "metadata": {},
   "source": [
    "这就得到\n",
    "\n",
    "$$w(t+1) \\leftarrow w(t) + y_n x_n \\frac{\\eta}{1 + e^{y_n w^T x_n}}$$\n",
    "\n",
    "若 w 足够大, 则 上面迭代公式变为:\n",
    "\n",
    "$$w(t+1) \\leftarrow w(t) + \\eta y_n x_n$$"
   ]
  },
  {
   "cell_type": "markdown",
   "metadata": {},
   "source": [
    "而 PLA的权重迭代为: \n",
    "    \n",
    "$$w(t+1) \\leftarrow w(t) + y_n x_n$$"
   ]
  },
  {
   "cell_type": "markdown",
   "metadata": {},
   "source": [
    "看这样 SGD 和 PLA 最小化 E_in 非常相似."
   ]
  },
  {
   "cell_type": "code",
   "execution_count": null,
   "metadata": {
    "collapsed": true
   },
   "outputs": [],
   "source": []
  }
 ],
 "metadata": {
  "kernelspec": {
   "display_name": "Python 2",
   "language": "python",
   "name": "python2"
  },
  "language_info": {
   "codemirror_mode": {
    "name": "ipython",
    "version": 2
   },
   "file_extension": ".py",
   "mimetype": "text/x-python",
   "name": "python",
   "nbconvert_exporter": "python",
   "pygments_lexer": "ipython2",
   "version": "2.7.13"
  }
 },
 "nbformat": 4,
 "nbformat_minor": 2
}
