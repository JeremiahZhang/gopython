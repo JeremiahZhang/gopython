{
 "cells": [
  {
   "cell_type": "markdown",
   "metadata": {},
   "source": [
    "# Chapter 3 Solutions: Exercises and Problems"
   ]
  },
  {
   "cell_type": "markdown",
   "metadata": {},
   "source": [
    "#  Exercises"
   ]
  },
  {
   "cell_type": "markdown",
   "metadata": {},
   "source": [
    "## 3.1 \n",
    "\n",
    "> Will PLA ever stop updating if the data is not linearly separable\n",
    "\n",
    "No, PLA will not stop."
   ]
  },
  {
   "cell_type": "markdown",
   "metadata": {},
   "source": [
    "## 3.2 Page 80\n",
    "\n",
    "Need to programming with Python to solve it."
   ]
  },
  {
   "cell_type": "markdown",
   "metadata": {},
   "source": [
    "## 3.3 Page 87\n",
    "\n",
    "hat matrix $$H = X(X^T X)^{-1} X^T$$, 训练样本所构成的矩阵 $$X_{N,d+1}$$\n",
    "\n",
    "for (a)\n",
    "\n",
    "$$H^T = (X(X^T X)^{-1} X^T)^T = (X^T)^T((X^T X)^{-1})^T (X)^T = X(X^T X)^{-1} X^T = H$$"
   ]
  },
  {
   "cell_type": "markdown",
   "metadata": {},
   "source": [
    "for (b)\n",
    "\n",
    "将 $$H^K$$ 展开 \n",
    "\n",
    "$$\\begin{align}\n",
    "H^K &= X(X^T X)^{-1} X^T X(X^T X)^{-1} X^T X(X^T X)^{-1} X^T ...X(X^T X)^{-1} X^T \\\\\n",
    "    &= X(X^T X)^{-1} X^T \\\\\n",
    "    &= H\n",
    "\\end{align}$$"
   ]
  },
  {
   "cell_type": "markdown",
   "metadata": {},
   "source": [
    "for (c)\n",
    "\n",
    "$$(I - H)^2 =(I - H)(I - H) = I - 2H + H^2 = I - H$$\n",
    "\n",
    "$$(I-H)^K = (I-H)(I-H)...(I-H) = I - H$$"
   ]
  },
  {
   "cell_type": "markdown",
   "metadata": {},
   "source": [
    "for (d)\n",
    "\n",
    "$$\\begin{align}\n",
    "trace(H) &= trace(X(X^T X)^{-1} X^T) \\\\\n",
    "         &= trace(X^TX (X^T X)^{-1}) \\\\\n",
    "         &= trace(I_{d+1,d+1}) \\\\\n",
    "         &= d+1\n",
    "\\end{align}$$\n",
    "\n",
    "hint: $$trace(AB) = trace(BA)$$"
   ]
  },
  {
   "cell_type": "markdown",
   "metadata": {},
   "source": [
    "## 3.4 Page87-88"
   ]
  },
  {
   "cell_type": "markdown",
   "metadata": {},
   "source": [
    "关键: \n",
    "\n",
    "- noise target $$y = {w^*}^Tx + \\epsilon$$ 产生数据集, $$\\boldsymbol {y = XW^* + \\epsilon}$$\n",
    "- 误差 $$\\epsilon$$ 的期望 $$\\Bbb E(\\epsilon) = 0$$, 方差 $$\\Bbb E(\\epsilon^2) = \\sigma^2$$\n",
    "- 数据集 $$D = \\{ (x_1, y_1), (x_2, y_2), ..., (x_N, y_N) \\}$$\n",
    "- 每个样本数据的y, 都要噪声在里面, 其噪声向量为 $$\\boldsymbol \\epsilon = [ \\epsilon_1, \\epsilon_2, ..., \\epsilon_N]^T$$\n",
    "- $$X^T X$$ 可逆, 数据样本矩阵 $$X_{(N, d+1)}$$"
   ]
  },
  {
   "cell_type": "markdown",
   "metadata": {},
   "source": [
    "for a:\n",
    "\n",
    "in-sample estimate 训练假设集在数据集D上输出向量 \n",
    "\n",
    "$$\\hat {\\boldsymbol y}_{N,1} = Xw_{lin} = X(H \\boldsymbol y) = \\boldsymbol {XW^* + H \\epsilon}$$"
   ]
  },
  {
   "cell_type": "markdown",
   "metadata": {},
   "source": [
    "for b\n",
    "\n",
    "$$\\begin{align}\n",
    "\\boldsymbol {\\hat y - y} &=  \\boldsymbol {XW^* + H \\epsilon - XW^* + \\epsilon} \\\\\n",
    "            &= \\boldsymbol { H \\epsilon -  I \\epsilon} \\\\\n",
    "            &=  \\boldsymbol {(H-I) \\epsilon}\n",
    "\\end{align}$$"
   ]
  },
  {
   "cell_type": "markdown",
   "metadata": {},
   "source": [
    "for c\n",
    "\n",
    "每个测试样本的 error 向量为:\n",
    "\n",
    "$$\\boldsymbol {E = E_{(N,1)} = {\\hat y - y}} $$\n",
    "\n",
    "in sample error $$E_{in}(w_{lin})$$ 为上面向量内积的 1/N\n",
    "\n",
    "$$\\begin{align}\n",
    "E_{in}(w_{lin}) &= \\frac{1}{N} E^T E \\\\\n",
    "                &= \\frac{1}{N} (\\epsilon^T (H-I)^T (H-I) \\epsilon) \\\\\n",
    "                &= \\frac{1}{N}(\\epsilon^T (I-H) \\epsilon)\n",
    "\\end{align}$$"
   ]
  },
  {
   "cell_type": "markdown",
   "metadata": {},
   "source": [
    "for (d)\n",
    "\n",
    "then\n",
    "\n",
    "$$\\begin{align}\n",
    "\\Bbb E_D \\left[ E_{in}(w_{lin})\\right] &= \\frac{1}{N} \\Bbb E_D[\\epsilon^T (I-H) \\epsilon] \\\\\n",
    "        &= \\frac{1}{N} (\\Bbb E_D[\\epsilon^T \\epsilon] - \\Bbb E_D[\\epsilon^T H \\epsilon]) \\\\  \n",
    "        &= \\sigma^2 (1 - \\frac{d+1}{N})\n",
    "\\end{align}$$"
   ]
  },
  {
   "cell_type": "markdown",
   "metadata": {},
   "source": [
    "(1): \n",
    "\n",
    "$$\\begin{align}\n",
    "\\Bbb E_D[\\epsilon^T \\epsilon] &= \\Bbb E_D[\\epsilon_1^2 + \\epsilon_2^2 + \\cdots + \\epsilon_N^2] \\\\\n",
    "        &= \\Bbb E_D[\\epsilon_1^2] + \\cdots + \\Bbb E_D[\\epsilon_N^2] \\\\\n",
    "        &= N \\sigma^2\n",
    "\\end{align}$$\n",
    "\n",
    "因为$$\\epsilon_1, ..., \\epsilon_N$$ 相互独立."
   ]
  },
  {
   "cell_type": "markdown",
   "metadata": {},
   "source": [
    "(2) :\n",
    "\n",
    "$$\\begin{align}\n",
    "\\Bbb E_D[\\epsilon^T H \\epsilon] & = \\Bbb E_D \\left[ \\sum_{i=1}^{N} H_{ii} \\epsilon_i^2 + \\sum_{i \\neq j}^{N}H_{ij} \\epsilon_i \\epsilon_j \\right] \\\\\n",
    "    &= \\Bbb E_D[\\sum_{i=1}^{N} H_{ii} \\epsilon_i^2] + \\Bbb E_D[\\sum_{i \\neq j}^{N}H_{ij} \\epsilon_i \\epsilon_j] \\\\\n",
    "    &= trace(\\boldsymbol H) \\sigma^2 + 0 \\\\\n",
    "    &= \\sigma^2 (d+1)\n",
    "\\end{align}$$"
   ]
  },
  {
   "cell_type": "markdown",
   "metadata": {},
   "source": [
    "for (e)\n",
    "\n",
    "\n",
    "关键部分参考:\n",
    "\n",
    "[Exercise 3.4 - LFD Book Forum](http://book.caltech.edu/bookforum/showthread.php?t=4353) Sweater Monkey 对 $$\\hat y$$的表示\n",
    "\n",
    "题目:\n",
    "\n",
    "$$D_{test} = {(x_1, y_1'), (x_2, y_2'), ..., (x_N, y_N')}$$ 关键是y帽的表示.\n",
    "\n",
    "这时候的误差向量为 $$\\boldsymbol{\\epsilon'} = [\\epsilon_1', \\epsilon_2', ..., \\epsilon_N']^T$$, 各误差元素相互独立.\n",
    "\n",
    "在测试集上的输入结果向量, 因为体重提到 输入空间向量X相同. \n",
    "\n",
    "$$\\boldsymbol {\\hat y = XW^* + H \\epsilon}$$\n",
    "\n",
    "训练集上样本误差组成的向量为:\n",
    "\n",
    "$$\\begin{align}\n",
    "\\boldsymbol {\\hat y - y'} &=  \\boldsymbol {XW^* + H \\epsilon - XW^* + \\epsilon'} \\\\\n",
    "            &= \\boldsymbol { H \\epsilon -  I \\epsilon'} \\\\\n",
    "\\end{align}$$\n",
    "\n",
    "每个测试样本的 error 向量为:\n",
    "\n",
    "$$\\boldsymbol {E = E_{(N,1)} = {\\hat y - y}} $$"
   ]
  },
  {
   "cell_type": "markdown",
   "metadata": {},
   "source": [
    "in sample error $$E_{in}(w_{lin})$$ 为上面向量内积的 1/N\n",
    "\n",
    "$$\\begin{align}\n",
    "E_{in}(w_{lin}) &= \\frac{1}{N} E^T E \\\\\n",
    "                &= \\frac{1}{N} (H \\epsilon -  I \\epsilon')^T (H \\epsilon -  I \\epsilon') \\\\\n",
    "                &= \\frac{1}{N}(\\epsilon^T H \\epsilon - 2\\epsilon'^T H \\epsilon + \\epsilon'^T \\epsilon')\n",
    "\\end{align}$$"
   ]
  },
  {
   "cell_type": "markdown",
   "metadata": {},
   "source": [
    "$$\\begin{align}\n",
    "\\Bbb E_D \\left[ E_{in}(w_{lin})\\right] &= \\frac{1}{N} \\Bbb E_D[\\epsilon^T H \\epsilon - 2\\epsilon'^T H \\epsilon + \\epsilon'^T \\epsilon'] \\\\\n",
    "        &= \\frac{1}{N} (\\Bbb E_D[\\epsilon^T H \\epsilon] - 0 + \\Bbb E_D[\\epsilon'^T\\epsilon']) \\\\  \n",
    "        &= \\sigma^2 (1 + \\frac{d+1}{N})\n",
    "\\end{align}$$"
   ]
  },
  {
   "cell_type": "markdown",
   "metadata": {},
   "source": [
    "其中: \n",
    "\n",
    "$$ \\Bbb E_D[\\epsilon^T H \\epsilon] = \\sigma^2 (d+1)$$  上面得出\n",
    "\n",
    "因为 误差项相互独立, 那么中间项\n",
    "\n",
    "$$\\Bbb E_D[2\\epsilon'^T H \\epsilon] = 0$$\n",
    "\n",
    "而第三项\n",
    "\n",
    "$$\\Bbb E_D[\\epsilon'^T\\epsilon']) = N \\sigma^2$$"
   ]
  },
  {
   "cell_type": "code",
   "execution_count": null,
   "metadata": {
    "collapsed": true
   },
   "outputs": [],
   "source": []
  }
 ],
 "metadata": {
  "kernelspec": {
   "display_name": "Python 2",
   "language": "python",
   "name": "python2"
  },
  "language_info": {
   "codemirror_mode": {
    "name": "ipython",
    "version": 2
   },
   "file_extension": ".py",
   "mimetype": "text/x-python",
   "name": "python",
   "nbconvert_exporter": "python",
   "pygments_lexer": "ipython2",
   "version": "2.7.13"
  }
 },
 "nbformat": 4,
 "nbformat_minor": 2
}
