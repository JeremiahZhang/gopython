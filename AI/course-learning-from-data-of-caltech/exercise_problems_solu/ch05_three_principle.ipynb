{
 "cells": [
  {
   "cell_type": "markdown",
   "metadata": {},
   "source": [
    "# Exercises of Chapter 5"
   ]
  },
  {
   "cell_type": "markdown",
   "metadata": {},
   "source": [
    "## ex 5.1\n",
    "\n",
    "(1): \n",
    "\n",
    "- H_1: 2^1\n",
    "- H_{100}: 2^100\n",
    "\n",
    "(2): \n",
    "\n",
    "H_1: one bit\n",
    "\n",
    "\n",
    "(3):\n",
    "\n",
    "H_{100}: 7 bits"
   ]
  },
  {
   "cell_type": "markdown",
   "metadata": {},
   "source": [
    "## ex5.2\n",
    "\n",
    "(a):\n",
    "\n",
    "2^5=32\n",
    "\n",
    "(b):\n",
    "\n",
    "32\n",
    "\n",
    "(c):\n",
    "\n",
    "2^4 = 16\n",
    "\n",
    "(d):\n",
    "\n",
    "2^5 + 2^4 + 2^3 + 2^ 2 + 2^ 1 + 1 = 32 + 16 + 8 + 4 + 2 = 62\n",
    "\n",
    "(e): \n",
    "\n",
    "50 - 62 * 0.5 = 50 - 31 = 19$\n",
    "\n",
    "(f): \n",
    "\n",
    "..."
   ]
  },
  {
   "cell_type": "markdown",
   "metadata": {},
   "source": [
    "## ex5.3\n",
    "\n",
    "a little. the place that they sample."
   ]
  },
  {
   "cell_type": "markdown",
   "metadata": {},
   "source": [
    "## ex 5.4 \n",
    "\n",
    "(a)\n",
    "\n",
    "如果我们先看了一下数据, 那么, 再用感知器的时候, vc维数就不再是以前的 vc维数啦. 前面的章节练习中有讲过.\n",
    "\n",
    "(b)\n",
    "\n",
    "d_{vc} 改变, 会变大."
   ]
  },
  {
   "cell_type": "markdown",
   "metadata": {},
   "source": [
    "## ex5.5\n",
    "\n",
    "(a)\n",
    "\n",
    "500 + 500 + 500 = 1500\n",
    "\n",
    "(b)\n",
    "\n",
    "1500 / 500 = 3"
   ]
  },
  {
   "cell_type": "code",
   "execution_count": null,
   "metadata": {
    "collapsed": true
   },
   "outputs": [],
   "source": []
  }
 ],
 "metadata": {
  "kernelspec": {
   "display_name": "Python 2",
   "language": "python",
   "name": "python2"
  },
  "language_info": {
   "codemirror_mode": {
    "name": "ipython",
    "version": 2
   },
   "file_extension": ".py",
   "mimetype": "text/x-python",
   "name": "python",
   "nbconvert_exporter": "python",
   "pygments_lexer": "ipython2",
   "version": "2.7.13"
  }
 },
 "nbformat": 4,
 "nbformat_minor": 2
}
