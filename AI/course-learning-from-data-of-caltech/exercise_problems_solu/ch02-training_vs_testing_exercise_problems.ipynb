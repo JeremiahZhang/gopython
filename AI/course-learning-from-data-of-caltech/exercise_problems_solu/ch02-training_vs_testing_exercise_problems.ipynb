{
 "cells": [
  {
   "cell_type": "markdown",
   "metadata": {},
   "source": [
    "# Exercise of Chapter 2"
   ]
  },
  {
   "cell_type": "markdown",
   "metadata": {},
   "source": [
    "## ex 1.1\n",
    "\n",
    "**Positive rays** 的增长函数$$m_{\\cal H}(N) = N + 1$$. 如果 N = 2, $$m_{\\cal H}(2) = 3 < 2^2 = 4$$, 那么 break point $$k=2$$. 数据样本数为1个时, Positive rays的假设集能shatter这个数据样本点, 但是不能shatter2个数据样本点. 为什么呢?\n",
    "\n",
    "因为$${\\cal H}(x_1, x_2) = \\{(+1, +1), (-1, +1), (-1, -1)\\}$$. 想想为什么不能产生(+1, -1)?\n",
    "\n",
    "**Positive intervals** 的增长函数$$m_{\\cal H}(N) = \\frac{1}{2} N^2 + \\frac{1}{2} N + 1$$.\n",
    "\n",
    "$$N = 1, m_{\\cal H}(1) = 2 = 2^1 \\\\\n",
    "N =2, m_{\\cal H}(2) = 4 = 2^2 \\\\\n",
    "N =3, m_{\\cal H}(3) = 7 < 2^3 = 8$$\n",
    "\n",
    "因此, 这种情况下的 break point k = 3.\n",
    "\n",
    "**Convet sets**: 没有 break point.\n",
    "\n",
    "**2D 感知器**: break point k = 4.(上文已经讨论过)\n",
    "\n",
    "到现在, 知道假设集的 break point k, 那么我们就可以找到假设集增长函数的边界.即为$$m_{\\cal H}(k) < 2^k$$. (要知道, 如果k是一个假设集的break point, 那么 k+1, k+2, ..., 也是这个假设集的 break point)."
   ]
  },
  {
   "cell_type": "markdown",
   "metadata": {},
   "source": [
    "## ex 1.2\n",
    "\n",
    "**a**:\n",
    "\n",
    "(1): positive rays, break point: k=2, \n",
    "\n",
    "$$m_{\\cal H}(N) = \\sum_{i=0}^{1} \\binom N i = N + 1$$"
   ]
  },
  {
   "cell_type": "markdown",
   "metadata": {},
   "source": [
    "(2): Positive intervals: break point k = 3\n",
    "\n",
    "$$m_{\\cal H}(N) = \\sum_{i=0}^{2} \\binom N i = \\frac{1}{2} N^2 + \\frac{1}{2} N + 1$$"
   ]
  },
  {
   "cell_type": "markdown",
   "metadata": {},
   "source": [
    "(3): Convex set: not break point, $$2^N$$"
   ]
  },
  {
   "cell_type": "markdown",
   "metadata": {},
   "source": [
    "**b**:\n",
    "\n",
    "$$m_{\\cal H}(N) = N + 2^{[N/2]}$$ Is it correct? or does there exist that hypothesis set?\n",
    "\n",
    "If it does, then $$ N + 2^{[N/2]} = \\sum_{i=0}^{k-1} \\binom N i$$\n",
    "\n",
    "We need to find that N. [N/2] is the largest integer <= N/2.\n",
    "\n",
    "Let's check it.\n",
    "\n",
    "If N = 1, then the equation can be established\n",
    "\n",
    "If N = 2, the equation can be established too.\n",
    "\n",
    "but N =3, $$3 + 2^1  = 5 \\neq  \\sum_{i=0}^{k-1} \\binom 3 i = 1 + 3 + 3 + 1$$\n",
    "\n",
    "N = 4, $$4 + 2^2 = 8,\\neq \\sum_{i=0}^{k-1} \\binom 4 i = 1 + 4 + 6 + 4 + 1$$\n",
    "\n",
    "then can I say there does not exist such a hypothesis set statisfied the equation? \n",
    "\n",
    "No, I can not. I have no proof.\n",
    "\n",
    "So, What can I do next?\n",
    "\n",
    "If N is an odd, what does it happen when k=1, 2, ..., N?\n",
    "If N is an even, what does it hapeen when k=1, 2, ..., N?"
   ]
  },
  {
   "cell_type": "markdown",
   "metadata": {},
   "source": [
    "## ex 2.3\n",
    "\n",
    "1) positive rays: $$d_{vc} = k -1 = 2 -1 = 1$$\n",
    "2) positive intervals : $$d_{vc} = k -1 = 3-1 = 2$$\n",
    "3) convex sets: $$d_{vc} = \\infty$$"
   ]
  },
  {
   "cell_type": "markdown",
   "metadata": {},
   "source": [
    "## ex 2.4\n",
    "\n",
    "输入空间维数 d+1维, 其中 1 为 x_0, 感知器的 VC维数为 d+1.\n",
    "\n",
    "**(1)** \n",
    "\n",
    "根据, 只要数据集中存在一个包含d+1点的子集, 感知器能shatter它们, 那么我们就可以得出 $$d_{vc} \\geq d+1$$, 那么我们现在就要找到这 d+1 个点 "
   ]
  },
  {
   "cell_type": "markdown",
   "metadata": {},
   "source": [
    "d+1维的输入空间, 我们可以找出: X\n",
    "\n",
    "$$X = \\begin{bmatrix}\n",
    "1 & 0 & 0 & \\cdots & 0 \\\\\n",
    "1 & 1 & 0 & \\cdots & 0 \\\\\n",
    "\\vdots & \\vdots & \\vdots &\\vdots & \\vdots \\\\\n",
    "1 & 0 & 0 &\\cdots & 1 \\\\\n",
    "\\end{bmatrix}_{d+1, d+1}$$\n",
    "\n",
    "其每一行都是 输入空间中的一个向量, 这d+1个向量线性独立. X 可逆"
   ]
  },
  {
   "cell_type": "markdown",
   "metadata": {},
   "source": [
    "对于所有 y , \n",
    "\n",
    "$$ y = \\begin{bmatrix}\n",
    "y_1 \\\\\n",
    "y_2 \\\\\n",
    "\\vdots \\\\\n",
    "y_{d+1} \n",
    "\\end{bmatrix} = \n",
    "\\begin{bmatrix}\n",
    "\\pm 1 \\\\\n",
    "\\pm 1 \\\\\n",
    "\\vdots \\\\\n",
    "\\pm 1\n",
    "\\end{bmatrix}$$"
   ]
  },
  {
   "cell_type": "markdown",
   "metadata": {},
   "source": [
    "看看我们能不能找到 权重向量 w 使得\n",
    "\n",
    "$$sign(Xw) = y$$, 那么\n",
    "\n",
    "令 \n",
    "$$X w = y \\Rightarrow w = X^{-1} y$$"
   ]
  },
  {
   "cell_type": "markdown",
   "metadata": {},
   "source": [
    "因此得到该权重向量, 因为 X 矩阵可逆.\n",
    "\n",
    "这样我们就知道感知器能shatter 数据集中的 d+1 个点."
   ]
  },
  {
   "cell_type": "markdown",
   "metadata": {},
   "source": [
    "**(2)**: "
   ]
  },
  {
   "cell_type": "markdown",
   "metadata": {},
   "source": [
    "下面要说明的是 $$d_{vc} \\leq d+1$$, 我们只要证明 感知器不能shatter 数据集中任意选出的 d+2 个点."
   ]
  },
  {
   "cell_type": "markdown",
   "metadata": {},
   "source": [
    "这个怎么证明呢, 还是延续上面的证明法:\n",
    "\n",
    "1 任意从数据集中取出 d+2 个点, 组成矩阵 $$X_{d+2, d+2}$$, 其中每一行由数据点 $$x_1, x_2, x_{d+2}$$\n",
    "\n",
    "从线性代数我们可得到 d+1 维的输入空间, 其中任意一个向量可以有d+1个基, 也就是说这 d+2 个向量中, 不是相互独立的. 那么矩阵 $$X_{d+2, d+2}$$ 不可逆.\n",
    "\n",
    "X 不可逆, 也就找不到权重向量或权重向量无解. \n",
    "\n",
    "$$Xw = y, y \\neq 0 \\Rightarrow w$$ 无解"
   ]
  },
  {
   "cell_type": "markdown",
   "metadata": {},
   "source": [
    "# Problems of chapter 2"
   ]
  },
  {
   "cell_type": "markdown",
   "metadata": {},
   "source": [
    "## Prob 2.5\n",
    "\n",
    "参考论坛, 我先是直接N =1, N=2, N=... D=D来计算, 发现难以证明, 查看论坛, 发现[Problem 2.5 - Proof by induction - LFD Book Forum](http://book.caltech.edu/bookforum/showthread.php?t=4039) 不要管N, 而是从D开始\n",
    "\n",
    "> Take care of the small values of D (not just D=1) by inspection. Once you do that, the induction step will become easier. \n",
    "\n",
    "0) D = 0 , then\n",
    "\n",
    "$$\\sum_{i=0}^0 \\binom N i = {N \\choose 0} = 1 \\leq N^0 + 1 = 2$$\n",
    "\n",
    "1)  D=1, then\n",
    "\n",
    "$$\\sum_{i=0}^1 \\binom N i = {N \\choose 0} + {N \\choose 1} = 1 + N \\leq N^1 + 1$$\n",
    "\n",
    "2) 令 D = d - 1不等式成立, 则 \n",
    "\n",
    "$$\\sum_{i=0}^{d-1} \\binom N i \\leq N^{d-1} + 1$$"
   ]
  },
  {
   "cell_type": "markdown",
   "metadata": {},
   "source": [
    "3) D = d时, \n",
    "\n",
    "$$\\begin{align}\n",
    "\\sum_{i=0}^{d} \\binom N i &= \\sum_{i=0}^{d-1} \\binom N i + {N \\choose d} \\\\\n",
    "    &\\leq N^{d-1} + 1 + {N \\choose d} \n",
    "\\end{align}$$"
   ]
  },
  {
   "cell_type": "markdown",
   "metadata": {},
   "source": [
    "如果 $${N \\choose d} \\leq (N-1)N^{d-1}$$ then 得证\n",
    "\n",
    "现在就证明之. 还是使用归纳法.\n",
    "\n",
    "因为 d > 1"
   ]
  },
  {
   "cell_type": "markdown",
   "metadata": {},
   "source": [
    "(1) d = 2时,(N>1), $${N \\choose 1} = N \\leq (N-1)N$$ "
   ]
  },
  {
   "cell_type": "markdown",
   "metadata": {},
   "source": [
    "(2) d =3, $${N \\choose 3} = \\frac{N(N-1)(N-2)}{6} \\leq (N-1)N^2$$"
   ]
  },
  {
   "cell_type": "markdown",
   "metadata": {},
   "source": [
    "(3) 假设 d = m-1时成立, 则 $${N \\choose {m-1}} \\leq (N-1)N^{m-2}$$"
   ]
  },
  {
   "cell_type": "markdown",
   "metadata": {},
   "source": [
    "(4) 当 d = m 时, 有 \n",
    "\n",
    "$$\\begin{align}\n",
    "{N \\choose m} &= \\frac{N!}{m! \\cdot (N-m)!} \\\\\n",
    "        &= \\frac{N! \\cdot (N-m+1)}{m \\cdot (m-1)! \\cdot(N-m+1)!} \\\\\n",
    "        & = \\frac{N-m+1}{m} {N \\choose {m-1}}\n",
    "\\end{align}$$"
   ]
  },
  {
   "cell_type": "markdown",
   "metadata": {},
   "source": [
    "$$\\begin{align}\n",
    "\\frac{N-m+1}{m} - N &= \\frac{(1-m)(N+1)}{d} ; (m>1)  \\\\\n",
    "        &\\leq 0 \\\\\n",
    "        & \\Rightarrow \\\\\n",
    "\\frac{N-m+1}{m} \\leq N\n",
    "\\end{align}$$"
   ]
  },
  {
   "cell_type": "markdown",
   "metadata": {},
   "source": [
    "所以: $${N \\choose m} \\leq N {N \\choose {m-1}} \\leq N \\cdot (N-1)N^{m-2} \\leq (N-1)N^{m-1}$$"
   ]
  },
  {
   "cell_type": "markdown",
   "metadata": {},
   "source": [
    "现在有$${N \\choose d} \\leq (N-1)N^{d-1}$$"
   ]
  },
  {
   "cell_type": "markdown",
   "metadata": {},
   "source": [
    "回到 $$\\begin{align}\n",
    "\\sum_{i=0}^{d} \\binom N i &\\leq N^{d-1} + 1 + {N \\choose d} \\\\\n",
    "        &\\leq N^{d-1} + 1 + (N-1)N^{d-1} = N^d + 1\n",
    "\\end{align}$$\n",
    "\n",
    "得证"
   ]
  },
  {
   "cell_type": "code",
   "execution_count": null,
   "metadata": {
    "collapsed": true
   },
   "outputs": [],
   "source": []
  }
 ],
 "metadata": {
  "kernelspec": {
   "display_name": "Python 2",
   "language": "python",
   "name": "python2"
  },
  "language_info": {
   "codemirror_mode": {
    "name": "ipython",
    "version": 2
   },
   "file_extension": ".py",
   "mimetype": "text/x-python",
   "name": "python",
   "nbconvert_exporter": "python",
   "pygments_lexer": "ipython2",
   "version": "2.7.13"
  }
 },
 "nbformat": 4,
 "nbformat_minor": 2
}
