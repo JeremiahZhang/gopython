{
 "cells": [
  {
   "cell_type": "markdown",
   "metadata": {},
   "source": [
    "# Exercise of Chapter 2"
   ]
  },
  {
   "cell_type": "markdown",
   "metadata": {},
   "source": [
    "## ex 2.1\n",
    "\n",
    "**Positive rays** 的增长函数$$m_{\\cal H}(N) = N + 1$$. 如果 N = 2, $$m_{\\cal H}(2) = 3 < 2^2 = 4$$, 那么 break point $$k=2$$. 数据样本数为1个时, Positive rays的假设集能shatter这个数据样本点, 但是不能shatter2个数据样本点. 为什么呢?\n",
    "\n",
    "因为$${\\cal H}(x_1, x_2) = \\{(+1, +1), (-1, +1), (-1, -1)\\}$$. 想想为什么不能产生(+1, -1)?\n",
    "\n",
    "**Positive intervals** 的增长函数$$m_{\\cal H}(N) = \\frac{1}{2} N^2 + \\frac{1}{2} N + 1$$.\n",
    "\n",
    "$$N = 1, m_{\\cal H}(1) = 2 = 2^1 \\\\\n",
    "N =2, m_{\\cal H}(2) = 4 = 2^2 \\\\\n",
    "N =3, m_{\\cal H}(3) = 7 < 2^3 = 8$$\n",
    "\n",
    "因此, 这种情况下的 break point k = 3.\n",
    "\n",
    "**Convet sets**: 没有 break point.\n",
    "\n",
    "**2D 感知器**: break point k = 4.(上文已经讨论过)\n",
    "\n",
    "到现在, 知道假设集的 break point k, 那么我们就可以找到假设集增长函数的边界.即为$$m_{\\cal H}(k) < 2^k$$. (要知道, 如果k是一个假设集的break point, 那么 k+1, k+2, ..., 也是这个假设集的 break point)."
   ]
  },
  {
   "cell_type": "markdown",
   "metadata": {},
   "source": [
    "## ex 2.2\n",
    "\n",
    "**a**:\n",
    "\n",
    "(1): positive rays, break point: k=2, \n",
    "\n",
    "$$m_{\\cal H}(N) = \\sum_{i=0}^{1} \\binom N i = N + 1$$"
   ]
  },
  {
   "cell_type": "markdown",
   "metadata": {},
   "source": [
    "(2): Positive intervals: break point k = 3\n",
    "\n",
    "$$m_{\\cal H}(N) = \\sum_{i=0}^{2} \\binom N i = \\frac{1}{2} N^2 + \\frac{1}{2} N + 1$$"
   ]
  },
  {
   "cell_type": "markdown",
   "metadata": {},
   "source": [
    "(3): Convex set: not break point, $$2^N$$"
   ]
  },
  {
   "cell_type": "markdown",
   "metadata": {},
   "source": [
    "**b**:\n",
    "\n",
    "$$m_{\\cal H}(N) = N + 2^{[N/2]}$$ Is it correct? or does there exist that hypothesis set?\n",
    "\n",
    "If it does, then $$ N + 2^{[N/2]} = \\sum_{i=0}^{k-1} \\binom N i$$\n",
    "\n",
    "We need to find that N. [N/2] is the largest integer <= N/2.\n",
    "\n",
    "Let's check it.\n",
    "\n",
    "If N = 1, then the equation can be established\n",
    "\n",
    "If N = 2, the equation can be established too.\n",
    "\n",
    "but N =3, $$3 + 2^1  = 5 \\neq  \\sum_{i=0}^{k-1} \\binom 3 i = 1 + 3 + 3 + 1$$\n",
    "\n",
    "N = 4, $$4 + 2^2 = 8,\\neq \\sum_{i=0}^{k-1} \\binom 4 i = 1 + 4 + 6 + 4 + 1$$\n",
    "\n",
    "then can I say there does not exist such a hypothesis set statisfied the equation? \n",
    "\n",
    "No, I can not. I have no proof.\n",
    "\n",
    "So, What can I do next?\n",
    "\n",
    "If N is an odd, what does it happen when k=1, 2, ..., N?\n",
    "If N is an even, what does it hapeen when k=1, 2, ..., N?"
   ]
  },
  {
   "cell_type": "markdown",
   "metadata": {},
   "source": [
    "## ex 2.3\n",
    "\n",
    "1) positive rays: $$d_{vc} = k -1 = 2 -1 = 1$$\n",
    "2) positive intervals : $$d_{vc} = k -1 = 3-1 = 2$$\n",
    "3) convex sets: $$d_{vc} = \\infty$$"
   ]
  },
  {
   "cell_type": "markdown",
   "metadata": {},
   "source": [
    "## ex 2.4\n",
    "\n",
    "输入空间维数 d+1维, 其中 1 为 x_0, 感知器的 VC维数为 d+1.\n",
    "\n",
    "**(1)** \n",
    "\n",
    "根据, 只要数据集中存在一个包含d+1点的子集, 感知器能shatter它们, 那么我们就可以得出 $$d_{vc} \\geq d+1$$, 那么我们现在就要找到这 d+1 个点 "
   ]
  },
  {
   "cell_type": "markdown",
   "metadata": {},
   "source": [
    "d+1维的输入空间, 我们可以找出: X\n",
    "\n",
    "$$X = \\begin{bmatrix}\n",
    "1 & 0 & 0 & \\cdots & 0 \\\\\n",
    "1 & 1 & 0 & \\cdots & 0 \\\\\n",
    "\\vdots & \\vdots & \\vdots &\\vdots & \\vdots \\\\\n",
    "1 & 0 & 0 &\\cdots & 1 \\\\\n",
    "\\end{bmatrix}_{d+1, d+1}$$\n",
    "\n",
    "其每一行都是 输入空间中的一个向量, 这d+1个向量线性独立. X 可逆"
   ]
  },
  {
   "cell_type": "markdown",
   "metadata": {},
   "source": [
    "对于所有 y , \n",
    "\n",
    "$$ y = \\begin{bmatrix}\n",
    "y_1 \\\\\n",
    "y_2 \\\\\n",
    "\\vdots \\\\\n",
    "y_{d+1} \n",
    "\\end{bmatrix} = \n",
    "\\begin{bmatrix}\n",
    "\\pm 1 \\\\\n",
    "\\pm 1 \\\\\n",
    "\\vdots \\\\\n",
    "\\pm 1\n",
    "\\end{bmatrix}$$"
   ]
  },
  {
   "cell_type": "markdown",
   "metadata": {},
   "source": [
    "看看我们能不能找到 权重向量 w 使得\n",
    "\n",
    "$$sign(Xw) = y$$, 那么\n",
    "\n",
    "令 \n",
    "$$X w = y \\Rightarrow w = X^{-1} y$$"
   ]
  },
  {
   "cell_type": "markdown",
   "metadata": {},
   "source": [
    "因此得到该权重向量, 因为 X 矩阵可逆.\n",
    "\n",
    "这样我们就知道感知器能shatter 数据集中的 d+1 个点."
   ]
  },
  {
   "cell_type": "markdown",
   "metadata": {},
   "source": [
    "**(2)**: "
   ]
  },
  {
   "cell_type": "markdown",
   "metadata": {},
   "source": [
    "下面要说明的是 $$d_{vc} \\leq d+1$$, 我们只要证明 感知器不能shatter 数据集中任意选出的 d+2 个点."
   ]
  },
  {
   "cell_type": "markdown",
   "metadata": {},
   "source": [
    "这个怎么证明呢, 还是延续上面的证明法:\n",
    "\n",
    "1 任意从数据集中取出 d+2 个点, 组成矩阵 $$X_{d+2, d+2}$$, 其中每一行由数据点 $$x_1, x_2, x_{d+2}$$\n",
    "\n",
    "从线性代数我们可得到 d+1 维的输入空间, 其中任意一个向量可以有d+1个基, 也就是说这 d+2 个向量中, 不是相互独立的. 那么矩阵 $$X_{d+2, d+2}$$ 不可逆.\n",
    "\n",
    "X 不可逆, 也就找不到权重向量或权重向量无解. \n",
    "\n",
    "$$Xw = y, y \\neq 0 \\Rightarrow w$$ 无解"
   ]
  },
  {
   "cell_type": "markdown",
   "metadata": {},
   "source": [
    "## ex 2.5"
   ]
  },
  {
   "cell_type": "markdown",
   "metadata": {},
   "source": [
    "$$\\Bbb P \\lbrack \\lvert E_{out} - E_{in} \\rvert \\leq  \n",
    "\\sqrt{\\frac{8}{100} \\ln{\\frac{4*(200 + 1)}{\\delta}}} \\rbrack\n",
    "$$ \n",
    "\n",
    "$$\\sqrt{\\frac{8}{100} \\ln{\\frac{4*(200 + 1)}{\\delta}}} \\geq 0.1$$"
   ]
  },
  {
   "cell_type": "markdown",
   "metadata": {},
   "source": [
    "## ex 2.6\n",
    "\n",
    "400 个训练样本, $$E_{in}(g)$$\n",
    "\n",
    "200 个训练样本, $$E_{test}(g)$$\n",
    "\n",
    "**a**: $$\\delta = 0.05, M=1000$$\n",
    "\n",
    "$$E_{out}(g) - E_{in}(g) \\leq  \\sqrt{\\frac{8}{N_{train}} \\ln{\\frac{4((2N_{train})^{d_{vc}}+1)}{\\delta}}}, N_{train}=400$$\n",
    "\n",
    "$$E_{out}(g) - E_{test}(g) \\leq  \\sqrt{\\frac{1}{2N_{test}} \\ln{\\frac{2}{\\delta}}}, N_{test}=200$$"
   ]
  },
  {
   "cell_type": "markdown",
   "metadata": {},
   "source": [
    "VC 维越小, 对于上一个不等式的 VC bound 最小, 为 $$Err_{train} = \\sqrt{\\frac{8}{N_{train}} \\ln {\\frac{4}{\\delta}}} = \\sqrt{\\frac{8}{400}\\ln{80}} = 0.296$$; 以后 VC维 越大, error bar 也越大.\n",
    "\n",
    "而 下一个不等式的 error bar 为. $$Err_{test} = \\sqrt{\\frac{1}{2N_{test}} \\ln {\\frac{2}{\\delta}} }= \\sqrt{\\frac{1}{400}\\ln{40}} = 0.096$$, 这里测试样本数目越大, error bar 差距越小"
   ]
  },
  {
   "cell_type": "markdown",
   "metadata": {},
   "source": [
    "$$Err_{train}^2 - Err_{test}^2 = \\frac{8}{400}\\ln{80} - \\frac{1}{400}\\ln{40} = 0.0784 > 0$$"
   ]
  },
  {
   "cell_type": "markdown",
   "metadata": {},
   "source": [
    "**b** \n",
    "\n",
    "N test 越大, Error 越小, 再多一些, 影响也不大. 不过保留更多的 N_test, N_train= N - N_test, 有可能导致, Err_train < Err_test"
   ]
  },
  {
   "cell_type": "markdown",
   "metadata": {},
   "source": [
    "## ex 2.7\n",
    "\n",
    "$$\\Bbb P[h(x) \\neq f(x)]$$ 为所有 h(x) 不等于 f(x) 事件发生的概率\n",
    "\n",
    "在 N 个训练样本中, 如果有一个 $$h(x_i) \\neq f(x_i)$$, 则 该事件发生一次, 那么如果 N 中存在 m 个样本, 使得  $$h(x_i) \\neq f(x_i)$$, 那么 $$\\Bbb P[h(x) \\neq f(x)] = \\frac{m}{N}$$\n",
    "\n",
    "**(a)** : binary function 0 or 1"
   ]
  },
  {
   "cell_type": "markdown",
   "metadata": {},
   "source": [
    "在该目标函数下, h(x) != f(x) 的情况\n",
    "\n",
    "- f(x) = 0, h(x) = 1; h(x)-f(x) = 1\n",
    "- f(x) = 1, h(x) = 0; h(x)-f(x) = -1\n",
    "\n",
    "若 存在 m 种 不等情况, 则有\n",
    "\n",
    "$$E_{in}(h) = \\frac{1}{N}\\sum_{i=1}^{N}(h(x_i)-f(x_i))^2 = \\frac{m}{N} = \\Bbb P[h(x) \\neq f(x)]$$"
   ]
  },
  {
   "cell_type": "markdown",
   "metadata": {},
   "source": [
    "**b**\n",
    "\n",
    "目标函数为 {+1, -1} 二分类,则\n",
    "\n",
    "h(x) != f(x) 的情况\n",
    "\n",
    "- f(x) = 1, h(x) =-1; h(x)-f(x) = -2\n",
    "- f(x) = -1, h(x) = 1; h(x) - f(x) = 2\n",
    "\n",
    "如果存在 m 种不等情况, 则有\n",
    "\n",
    "$$E_{in}(h) = \\frac{1}{N}\\sum_{i=1}^{N}(h(x_i)-f(x_i))^2 = 4\\frac{m}{N} = 4 \\cdot \\Bbb P[h(x) \\neq f(x)] $$"
   ]
  },
  {
   "cell_type": "markdown",
   "metadata": {},
   "source": [
    "## ex 2.8\n",
    "\n",
    "**a)**\n",
    "\n",
    "一个集合 H 是线性的集合\n",
    "\n",
    "$$h_1, h_2 , ..., h_n \\in H \\Rightarrow a_1 h_1 + a_2 h_2 + ... + a_n h_n \\in H$$\n",
    "\n",
    "可得到\n",
    "\n",
    "$$\\bar g = \\frac{1}{K} \\sum_{k=1}^{K}g_k(x) \\in H$$"
   ]
  },
  {
   "cell_type": "markdown",
   "metadata": {},
   "source": [
    "**b)**\n",
    "\n",
    "$$x^2 -x$$"
   ]
  },
  {
   "cell_type": "markdown",
   "metadata": {},
   "source": [
    "**c**\n",
    "\n",
    "no"
   ]
  },
  {
   "cell_type": "markdown",
   "metadata": {},
   "source": [
    "# Problems of chapter 2"
   ]
  },
  {
   "cell_type": "markdown",
   "metadata": {},
   "source": [
    "## prob 2.1 \n",
    "\n",
    "将数值带入 公式 中即可\n",
    "\n",
    "$$N \\geq \\frac{1}{2 \\epsilon^2} \\ln{\\frac{2M}{\\delta}}$$"
   ]
  },
  {
   "cell_type": "markdown",
   "metadata": {},
   "source": [
    "1. N >= 840;  \n",
    "2. N >= 1761;\n",
    "3. N >= 2683;"
   ]
  },
  {
   "cell_type": "markdown",
   "metadata": {},
   "source": [
    "## prob 2.2\n",
    "\n",
    "break point k = 5, then $$m_{\\cal H}(N) \\leq N^{5-1} + 1$$"
   ]
  },
  {
   "cell_type": "markdown",
   "metadata": {},
   "source": [
    "## prob 2.3\n",
    "\n",
    "(a) $$M_H =  2(N+1) -2 = 2N$$, break point $$k = 3, d = k-1 =2$$\n",
    "\n",
    "(b) positive or negative interval \n",
    "\n",
    "正反两个区域, 正好能将所有N个点都 shatter $$M_H = 2^N$$, no break poink, d = 无穷\n",
    "\n",
    "(c) 如同 positive interval\n",
    "\n",
    "$$m_H = 0.5 N^2 + 0.5 N + 1, k = 3, d = 2$$"
   ]
  },
  {
   "cell_type": "markdown",
   "metadata": {},
   "source": [
    "## prob 2.4 \n",
    "\n",
    "Hint 参考论坛 [Exercise problem 2.4 - LFD Book Forum](http://book.caltech.edu/bookforum/showthread.php?t=4030)\n",
    "\n",
    "证明, 参考台大机器学习基石列出的 B(N, k) 图表, 利用归纳法证明. $$B(N+1, k) \\geq B(N,k) + B(N, k-1)$$\n",
    "\n",
    "$$B(N,k) = \\sum_{i=0}^{k-1} {N \\choose i}$$"
   ]
  },
  {
   "cell_type": "markdown",
   "metadata": {},
   "source": [
    "## Prob 2.5\n",
    "\n",
    "参考论坛, 我先是直接N =1, N=2, N=... D=D来计算, 发现难以证明, 查看论坛, 发现[Problem 2.5 - Proof by induction - LFD Book Forum](http://book.caltech.edu/bookforum/showthread.php?t=4039) 不要管N, 而是从D开始\n",
    "\n",
    "> Take care of the small values of D (not just D=1) by inspection. Once you do that, the induction step will become easier. \n",
    "\n",
    "0) D = 0 , then\n",
    "\n",
    "$$\\sum_{i=0}^0 \\binom N i = {N \\choose 0} = 1 \\leq N^0 + 1 = 2$$\n",
    "\n",
    "1)  D=1, then\n",
    "\n",
    "$$\\sum_{i=0}^1 \\binom N i = {N \\choose 0} + {N \\choose 1} = 1 + N \\leq N^1 + 1$$\n",
    "\n",
    "2) 令 D = d - 1不等式成立, 则 \n",
    "\n",
    "$$\\sum_{i=0}^{d-1} \\binom N i \\leq N^{d-1} + 1$$"
   ]
  },
  {
   "cell_type": "markdown",
   "metadata": {},
   "source": [
    "3) D = d时, \n",
    "\n",
    "$$\\begin{align}\n",
    "\\sum_{i=0}^{d} \\binom N i &= \\sum_{i=0}^{d-1} \\binom N i + {N \\choose d} \\\\\n",
    "    &\\leq N^{d-1} + 1 + {N \\choose d} \n",
    "\\end{align}$$"
   ]
  },
  {
   "cell_type": "markdown",
   "metadata": {},
   "source": [
    "如果 $${N \\choose d} \\leq (N-1)N^{d-1}$$ then 得证\n",
    "\n",
    "现在就证明之. 还是使用归纳法.\n",
    "\n",
    "因为 d > 1"
   ]
  },
  {
   "cell_type": "markdown",
   "metadata": {},
   "source": [
    "(1) d = 2时,(N>1), $${N \\choose 1} = N \\leq (N-1)N$$ "
   ]
  },
  {
   "cell_type": "markdown",
   "metadata": {},
   "source": [
    "(2) d =3, $${N \\choose 3} = \\frac{N(N-1)(N-2)}{6} \\leq (N-1)N^2$$"
   ]
  },
  {
   "cell_type": "markdown",
   "metadata": {},
   "source": [
    "(3) 假设 d = m-1时成立, 则 $${N \\choose {m-1}} \\leq (N-1)N^{m-2}$$"
   ]
  },
  {
   "cell_type": "markdown",
   "metadata": {},
   "source": [
    "(4) 当 d = m 时, 有 \n",
    "\n",
    "$$\\begin{align}\n",
    "{N \\choose m} &= \\frac{N!}{m! \\cdot (N-m)!} \\\\\n",
    "        &= \\frac{N! \\cdot (N-m+1)}{m \\cdot (m-1)! \\cdot(N-m+1)!} \\\\\n",
    "        & = \\frac{N-m+1}{m} {N \\choose {m-1}}\n",
    "\\end{align}$$"
   ]
  },
  {
   "cell_type": "markdown",
   "metadata": {},
   "source": [
    "$$\\begin{align}\n",
    "\\frac{N-m+1}{m} - N &= \\frac{(1-m)(N+1)}{d} ; (m>1)  \\\\\n",
    "        &\\leq 0 \\\\\n",
    "        & \\Rightarrow \\\\\n",
    "\\frac{N-m+1}{m} \\leq N\n",
    "\\end{align}$$"
   ]
  },
  {
   "cell_type": "markdown",
   "metadata": {},
   "source": [
    "所以: $${N \\choose m} \\leq N {N \\choose {m-1}} \\leq N \\cdot (N-1)N^{m-2} \\leq (N-1)N^{m-1}$$"
   ]
  },
  {
   "cell_type": "markdown",
   "metadata": {},
   "source": [
    "现在有$${N \\choose d} \\leq (N-1)N^{d-1}$$"
   ]
  },
  {
   "cell_type": "markdown",
   "metadata": {},
   "source": [
    "回到 $$\\begin{align}\n",
    "\\sum_{i=0}^{d} \\binom N i &\\leq N^{d-1} + 1 + {N \\choose d} \\\\\n",
    "        &\\leq N^{d-1} + 1 + (N-1)N^{d-1} = N^d + 1\n",
    "\\end{align}$$\n",
    "\n",
    "得证"
   ]
  },
  {
   "cell_type": "markdown",
   "metadata": {},
   "source": [
    "## prob 2.6 \n",
    "\n",
    "数学证明, 有兴趣可证明;\n",
    "\n",
    "## prob 2.7 \n",
    "\n",
    "在2.5 和2.6 的基础上, 绘制图像\n",
    "\n",
    "d = 2, 5\n",
    "\n",
    "$$m_H \\leq N^d + 1$$\n",
    "\n",
    "$$m_H \\leq (\\frac{eN}{d})^d$$"
   ]
  },
  {
   "cell_type": "code",
   "execution_count": 22,
   "metadata": {
    "collapsed": false
   },
   "outputs": [
    {
     "data": {
      "text/plain": [
       "<matplotlib.text.Text at 0xb43d9e8>"
      ]
     },
     "execution_count": 22,
     "metadata": {},
     "output_type": "execute_result"
    },
    {
     "data": {
      "image/png": "[encoded data removed]",
      "text/plain": [
       "<matplotlib.figure.Figure at 0xb461ac8>"
      ]
     },
     "metadata": {},
     "output_type": "display_data"
    }
   ],
   "source": [
    "import numpy as np\n",
    "import matplotlib.pyplot as plt\n",
    "\n",
    "%matplotlib inline\n",
    "\n",
    "N = np.arange(0, 50)\n",
    "d = 2\n",
    "\n",
    "m1 = N**d + 1\n",
    "m2 = (np.exp(1)*N/d)**d\n",
    "\n",
    "plt.plot(N, m1, 'r', N, m2, 'y')\n",
    "plt.legend(['m_1', 'm_2'])\n",
    "plt.title('d =2, m_H')\n",
    "plt.xlabel('N')\n",
    "plt.ylabel('m')"
   ]
  },
  {
   "cell_type": "code",
   "execution_count": 23,
   "metadata": {
    "collapsed": false
   },
   "outputs": [
    {
     "data": {
      "text/plain": [
       "<matplotlib.text.Text at 0xb76c940>"
      ]
     },
     "execution_count": 23,
     "metadata": {},
     "output_type": "execute_result"
    },
    {
     "data": {
      "image/png": "[encoded data removed]",
      "text/plain": [
       "<matplotlib.figure.Figure at 0xb756a90>"
      ]
     },
     "metadata": {},
     "output_type": "display_data"
    }
   ],
   "source": [
    "d = 5\n",
    "\n",
    "m1 = N**d + 1\n",
    "m2 = (np.exp(1)*N/d)**d\n",
    "\n",
    "plt.figure(2)\n",
    "plt.plot(N, m1, 'r', N, m2, 'y')\n",
    "plt.legend(['m_1', 'm_2'])\n",
    "plt.title('d =5, m_H')\n",
    "plt.xlabel('N')\n",
    "plt.ylabel('m')"
   ]
  },
  {
   "cell_type": "markdown",
   "metadata": {},
   "source": [
    "## prob 2.8\n",
    "\n",
    "$$m_{\\cal}(N) \\leq N^d +1$$\n",
    "除了最后一个, 拆开\n",
    "\n",
    "可参考: [Problem 2.8 - LFD Book Forum](http://book.caltech.edu/bookforum/showthread.php?t=2053)"
   ]
  },
  {
   "cell_type": "markdown",
   "metadata": {},
   "source": [
    "## prob 2.9\n",
    "\n",
    "$$B(N,k) = \\sum_{i=0}^{k-1} {N \\choose i}$$\n",
    "\n",
    "$$m_{\\cal H}(N) \\leq B(N, k)$$\n",
    "\n",
    "$$m_{\\cal H} = 2 \\sum_{i=0}^d{{N-1} \\choose i}$$\n",
    "\n",
    "证: d 维 感知器算法\n",
    "\n",
    "$$d_{vc} = d+1$$"
   ]
  },
  {
   "cell_type": "markdown",
   "metadata": {},
   "source": [
    "按题直接利用结果(未证明):\n",
    "\n",
    "参考二项式系数 [Binomial coefficient - Wikipedia](https://en.wikipedia.org/wiki/Binomial_coefficient#Sums_of_the_binomial_coefficients)\n",
    "\n",
    "$$m_{\\cal H}(d+1) = 2 \\sum_{i=0}^d {d \\choose i} = 2*2^d = 2^{d+1}$$"
   ]
  },
  {
   "cell_type": "markdown",
   "metadata": {},
   "source": [
    "$$m_{\\cal H}(d+2) = 2 \\sum_{i=0}^d {d+1 \\choose i} < 2 \\sum_{i=0}^{d+1} {d+1 \\choose i} = 2*2^{d+1} = 2^{d+2}$$"
   ]
  },
  {
   "cell_type": "markdown",
   "metadata": {},
   "source": [
    "观察发现, d维感知器的 break point k=d+2, 其 VC维 $$d_{vc} = k-1 = d+1$$"
   ]
  },
  {
   "cell_type": "markdown",
   "metadata": {},
   "source": [
    "绘制图形:"
   ]
  },
  {
   "cell_type": "code",
   "execution_count": 27,
   "metadata": {
    "collapsed": true
   },
   "outputs": [],
   "source": [
    "# 二项式函数\n",
    "\n",
    "def binomial_coeff(n, k):\n",
    "    if k < 0 or k > n:\n",
    "        return 0\n",
    "    if k == 0 or k == n:\n",
    "        return 1\n",
    "    \n",
    "    k = min(k, n-k)\n",
    "    c = 1 \n",
    "    for i in range(k):\n",
    "        c = c * (n - i) / (i + 1)\n",
    "    \n",
    "    return c"
   ]
  },
  {
   "cell_type": "code",
   "execution_count": 28,
   "metadata": {
    "collapsed": false
   },
   "outputs": [
    {
     "name": "stdout",
     "output_type": "stream",
     "text": [
      "3\n"
     ]
    }
   ],
   "source": [
    "c_3_1 = binomial_coeff(3, 1)\n",
    "\n",
    "print c_3_1"
   ]
  },
  {
   "cell_type": "code",
   "execution_count": 33,
   "metadata": {
    "collapsed": true
   },
   "outputs": [],
   "source": [
    "# 增长函数 d 为感知器的增长函数\n",
    "def m_h(N, d):\n",
    "    m_sum = 0\n",
    "    for i in range(d+1):\n",
    "        m_sum += binomial_coeff(N-1, i)\n",
    "    \n",
    "    mh = 2 * m_sum\n",
    "    \n",
    "    return  mh"
   ]
  },
  {
   "cell_type": "code",
   "execution_count": 41,
   "metadata": {
    "collapsed": false
   },
   "outputs": [
    {
     "data": {
      "text/plain": [
       "8"
      ]
     },
     "execution_count": 41,
     "metadata": {},
     "output_type": "execute_result"
    }
   ],
   "source": [
    "m_h(3, 2)"
   ]
  },
  {
   "cell_type": "code",
   "execution_count": 42,
   "metadata": {
    "collapsed": false
   },
   "outputs": [
    {
     "data": {
      "text/plain": [
       "14"
      ]
     },
     "execution_count": 42,
     "metadata": {},
     "output_type": "execute_result"
    }
   ],
   "source": [
    "m_h(4, 2)"
   ]
  },
  {
   "cell_type": "markdown",
   "metadata": {},
   "source": [
    " N < = d + 1 时, d 维感知器 能 shatter 所有点 增长函数 = 2^N\n",
    " \n",
    " 当 N > d+1 时, d 维感知器 不能 shatter d_vc + 1个点, 其增长函数问题中给出的需要证明的式子? "
   ]
  },
  {
   "cell_type": "code",
   "execution_count": 48,
   "metadata": {
    "collapsed": false
   },
   "outputs": [
    {
     "data": {
      "text/plain": [
       "[<matplotlib.lines.Line2D at 0xb8f4da0>]"
      ]
     },
     "execution_count": 48,
     "metadata": {},
     "output_type": "execute_result"
    },
    {
     "data": {
      "image/png": "[encoded data removed]",
      "text/plain": [
       "<matplotlib.figure.Figure at 0xb7880b8>"
      ]
     },
     "metadata": {},
     "output_type": "display_data"
    }
   ],
   "source": [
    "# plot m/2^N\n",
    "d = 10\n",
    "d_vc = d+1\n",
    "\n",
    "N = [i for i in range(1, 41)]\n",
    "y = []\n",
    "\n",
    "for i in N:\n",
    "    m_value = m_h(i, d)/(2**i)\n",
    "    y.append(m_value)\n",
    "\n",
    "plt.figure(3)\n",
    "plt.plot(N, y)"
   ]
  },
  {
   "cell_type": "markdown",
   "metadata": {},
   "source": [
    "从上图中可以看出来, 当 N =10 < d_vc VC维数, 其增长函数值和2^N相同, \n",
    "\n",
    "当N = 20, 40 时, 其值大于 VC维数, 那么增长函数值小于 2^N, 比值接近0."
   ]
  },
  {
   "cell_type": "markdown",
   "metadata": {},
   "source": [
    "## prob 2.10\n",
    "\n",
    "参考线索: [Problem 2.10 - LFD Book Forum](http://book.caltech.edu/bookforum/showthread.php?t=4696)\n",
    "\n",
    "m = 2^N 是比较容易证明的.\n",
    "\n",
    "那么 m < 2^N 的时候呢?\n",
    "\n",
    "线索中说: 2N 可以分为 2组 N, \n",
    "\n",
    "那么第一组N的 dichotomies 为 $$m1(N)$$, \n",
    "\n",
    "第二组的dichotomies 也为 $$m2(N)$$, \n",
    "\n",
    "两组 dichotomies 结合起来, 肯定是有\n",
    "\n",
    "$$m(2N) \\leq m1(N)*m2(N) \\leq m(N)^2$$"
   ]
  },
  {
   "cell_type": "markdown",
   "metadata": {},
   "source": [
    "## prob 2.11\n",
    "\n",
    "泛化误差边界 小于等于\n",
    "\n",
    "$$ \\epsilon \\leq \\sqrt{\\frac{8}{N} \\ln{\\frac{4 \\cdot [(2N)^{d_{vc}} + 1]}{\\delta}}}$$"
   ]
  },
  {
   "cell_type": "markdown",
   "metadata": {},
   "source": [
    "$$ N = 100, d_vc = 1, \\delta = 0.1$$ \n",
    "\n",
    "$$\\epsilon \\leq 0.848$$ \n",
    "\n",
    "$$ N = 10000, d_vc = 1, \\delta = 0.1$$ \n",
    "\n",
    "$$\\epsilon \\leq 0.0848$$ "
   ]
  },
  {
   "cell_type": "markdown",
   "metadata": {},
   "source": [
    "## prob 2.12\n",
    "\n",
    "$$N \\geq \\frac{8}{\\epsilon^2} \\ln{\\frac{4 \\cdot [(2N)^{d_{vc}} + 1]}{\\delta}}$$\n",
    "\n",
    "$$d_{vc} =10, \\delta = 1- 0.95, \\epsilon = 0.05$$\n",
    "\n",
    "代入求解"
   ]
  },
  {
   "cell_type": "markdown",
   "metadata": {},
   "source": [
    "## prob 2.13\n",
    "\n",
    "参考 [Problem 2.13 - LFD Book Forum](http://book.caltech.edu/bookforum/showthread.php?t=4770)"
   ]
  },
  {
   "cell_type": "markdown",
   "metadata": {},
   "source": [
    "for a\n",
    "\n",
    "有限的M, 能 shatter d 个点, 则有:\n",
    "\n",
    "$$M \\geq 2^d_{vc} \\Rightarrow d_{vc} \\leq \\log_2 M$$"
   ]
  },
  {
   "cell_type": "markdown",
   "metadata": {},
   "source": [
    "for b\n",
    "\n",
    "K 个假设集的交集的 VC维数, \n",
    "\n",
    "最小: 0\n",
    "最大: K个假设集中 VC维数最小\n",
    "\n",
    "$$0 \\leq d_{vc} \\leq \\min {d_i}$$"
   ]
  },
  {
   "cell_type": "markdown",
   "metadata": {},
   "source": [
    "for c\n",
    "\n",
    "K 个假设集并集的 VC维数,\n",
    "\n",
    "最小: K个假设集中 VC维数最大\n",
    "最大: 所有假设集都么有交集, 则 $$d = \\sum_{i=1}^{K} d_i$$"
   ]
  },
  {
   "cell_type": "markdown",
   "metadata": {},
   "source": [
    "## prob 2.14\n",
    "\n",
    "for part a\n",
    "\n",
    "K 个假设集, 每个假设集的VC维数为 $$d_vc$$\n",
    "\n",
    "那么 他们并集的 VC维数 小于等于 所有假设集维数之和 \n",
    "\n",
    "$$d_{vc}(H) \\leq \\sum_{i=1}^{K}(d_{vc}) = Kd_{vc} \\leq K(d_{vc} +1)$$"
   ]
  },
  {
   "cell_type": "markdown",
   "metadata": {},
   "source": [
    "b, c 不解"
   ]
  },
  {
   "cell_type": "markdown",
   "metadata": {},
   "source": [
    "## prob 2.15 \n",
    "\n",
    "不解\n",
    "\n",
    "[Exercises and Problems - Page 2 - LFD Book Forum](http://book.caltech.edu/bookforum/showthread.php?t=258&page=2)"
   ]
  },
  {
   "cell_type": "markdown",
   "metadata": {},
   "source": [
    "## prob 2.16\n",
    "\n",
    "类似 D 维感知器算法 \n",
    "\n",
    "D + 1 为 VC dimension\n",
    "\n",
    "D+2 就是 break point , 无法被 假设集 shatter"
   ]
  },
  {
   "cell_type": "markdown",
   "metadata": {},
   "source": [
    "for a\n",
    "\n",
    "只要能找到 D+1 个点能被 假设集 shatter 则, $$d_{vc} \\geq D+1$$"
   ]
  },
  {
   "cell_type": "markdown",
   "metadata": {
    "collapsed": true
   },
   "source": [
    "输入空间为1维, 则有D+1个点 , $$x_1 , \\cdots, x_{D+1}$$\n",
    "\n"
   ]
  },
  {
   "cell_type": "markdown",
   "metadata": {},
   "source": [
    "不明白 假设集中 $$x^i$$ 是什么意思."
   ]
  },
  {
   "cell_type": "markdown",
   "metadata": {},
   "source": [
    "## prob 2.17\n",
    "\n",
    "在 X1 中 假设集 H 的 VC维数 为 d, 那么 假设集H 能 shatter X1中的任意d个点, 因为 X1 为X2的子集, 那么假设集 H 也能 shatter X2 中的任意 d个点, 这说明 在X2空间中, 假设集H的 VC维数 >= d\n",
    "\n",
    "得证."
   ]
  },
  {
   "cell_type": "markdown",
   "metadata": {},
   "source": [
    "利用 2.17 的结论, 回答 2.16问题."
   ]
  },
  {
   "cell_type": "markdown",
   "metadata": {},
   "source": [
    "## prob 2.18\n",
    "\n",
    "从题目来看, 假设集能shatter 所有 N个点. a 取值合适 , 只要满足 |ax| 能出现 奇数或偶数."
   ]
  },
  {
   "cell_type": "markdown",
   "metadata": {},
   "source": [
    "## prob 2.19"
   ]
  },
  {
   "cell_type": "markdown",
   "metadata": {},
   "source": [
    "## prob 2.20\n",
    "\n",
    "d_vc 带入公式, 绘制 e 与 N 的图形, 比较.\n",
    "\n",
    "a, b 公式可以直接绘制,\n",
    "\n",
    "c d, 就需要变换一下."
   ]
  },
  {
   "cell_type": "markdown",
   "metadata": {},
   "source": [
    "## prob 2.21 \n",
    "\n",
    "不解"
   ]
  },
  {
   "cell_type": "markdown",
   "metadata": {},
   "source": [
    "## prob 2.22"
   ]
  },
  {
   "cell_type": "code",
   "execution_count": null,
   "metadata": {
    "collapsed": true
   },
   "outputs": [],
   "source": []
  }
 ],
 "metadata": {
  "kernelspec": {
   "display_name": "Python 2",
   "language": "python",
   "name": "python2"
  },
  "language_info": {
   "codemirror_mode": {
    "name": "ipython",
    "version": 2
   },
   "file_extension": ".py",
   "mimetype": "text/x-python",
   "name": "python",
   "nbconvert_exporter": "python",
   "pygments_lexer": "ipython2",
   "version": "2.7.13"
  }
 },
 "nbformat": 4,
 "nbformat_minor": 2
}
