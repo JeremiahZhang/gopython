{
 "cells": [
  {
   "cell_type": "markdown",
   "metadata": {
    "collapsed": true
   },
   "source": [
    "# linear regression error\n",
    "\n",
    "Answers of questions  of [hw5](http://www.work.caltech.edu/homework/hw5.pdf)"
   ]
  },
  {
   "cell_type": "markdown",
   "metadata": {},
   "source": [
    "# q1 \n",
    "\n",
    "$$\\sigma^2 (1 - \\frac{d+1}{N}) > \\delta$$\n",
    "\n",
    "$$N > \\frac{d+1}{1 - \\frac{\\delta}{\\sigma^2}}$$"
   ]
  },
  {
   "cell_type": "markdown",
   "metadata": {},
   "source": [
    "其中 \n",
    "\n",
    "$$\\sigma = 0.1, d =8, \\delta=0.008$$\n",
    "\n",
    "有:\n",
    "\n",
    "$$N > 45$$\n",
    "\n",
    "so choose: (c):1000"
   ]
  },
  {
   "cell_type": "markdown",
   "metadata": {},
   "source": [
    "# Nonlinear transfomation"
   ]
  },
  {
   "cell_type": "markdown",
   "metadata": {},
   "source": [
    "# q2 \n",
    "\n",
    "双曲线问题.[双曲线 - 维基百科，自由的百科全书](https://zh.wikipedia.org/wiki/%E5%8F%8C%E6%9B%B2%E7%BA%BF)\n",
    "\n",
    "确定系数, 参考 $$x^2 -y^2 - 1 = 0$$\n",
    "\n",
    "$$1 - x_{1}^2 + x_{2}^2 = 0$$\n",
    "\n",
    "$$w_{1} < 0, w_{2} > 0$$\n",
    "\n",
    "选 **d** 选项"
   ]
  },
  {
   "cell_type": "markdown",
   "metadata": {},
   "source": [
    "# q3\n",
    "\n",
    "2d 线性模型的 VC dimension 为 d_vc = 3. \n",
    "\n",
    "而 4th 多形式非线性转换, 特征空间的维数变为 d = 4*(4+3)/2 = 14\n",
    "\n",
    "> What is the smallest value among the following choices that is not smaller than the VC dimension of a linear model in this transformed space?\n",
    "\n",
    "choose 5. \n",
    "\n",
    "我的问题: 变换后 特征维数个数 与 模型 VC dimension 有什么联系呢?\n",
    "\n",
    "我的答案 有问题啊. 我还没有搞明白他们的练习.  "
   ]
  },
  {
   "cell_type": "markdown",
   "metadata": {},
   "source": [
    "# Gradient Descent"
   ]
  },
  {
   "cell_type": "markdown",
   "metadata": {},
   "source": [
    "# q4 求导\n",
    "\n",
    "容易: 选 e"
   ]
  },
  {
   "cell_type": "markdown",
   "metadata": {
    "collapsed": true
   },
   "source": [
    "# q5 - 7\n",
    "\n",
    "现在是两个自变量u, v, 一个因变量E(E_in)\n",
    "\n",
    "E (u, v)\n",
    "\n",
    "也就是要用梯度法, 得到(u, v) 这一对数值, 使得 E 最小(或满足要求)\n",
    "\n",
    "- 在 q5 中到达 E < 10^-14 时的迭代次数\n",
    "- 在 q6 中求 q5 状态下(条件下), 找到的 (u, v) 值\n",
    "- q7 与 \"coordiante descent\" 比较\n",
    "    - coordiante descent 步骤\n",
    "        - 1. v固定, 现在u这个坐标上减小 Error\n",
    "        - 2. 这时候, 在上面那个 u 值基础上, 在 v 坐标上搜索, 找到减小 Error 值\n",
    "        - 其中 学习因子 都为 0.1 与 gradient descent 中的相同.\n",
    "    - 在 15次完整的迭代(总30 steps(u, v 各迭代15次)), 看看 error 值如何"
   ]
  },
  {
   "cell_type": "markdown",
   "metadata": {},
   "source": [
    "## 梯度下降伪代码\n",
    "\n",
    "```\n",
    "# Fix learning rate gradient descent algorithm\n",
    "# (batch gradient descent)\n",
    "1: Initialize at step t = 0 to w(0).\n",
    "\n",
    "2: for t = 0, 1, 2, ..., do\n",
    "3:    Compute the gradient\n",
    "              g_t = ▽E_in(w(t))\n",
    "\n",
    "4:    Move in the direction\n",
    "              v_t = - g_t\n",
    "\n",
    "5:    Update the weights:\n",
    "              w(t+1) = w(t) + η v_t\n",
    "\n",
    "6:    Iterate 'until it is time to stop'\n",
    "7: end for\n",
    "8: Return the final weights.\n",
    "```"
   ]
  },
  {
   "cell_type": "markdown",
   "metadata": {},
   "source": [
    "## 该问题解决流程\n",
    "\n",
    "### q5-q6 梯度下降法\n",
    "\n",
    "\n",
    "```\n",
    "固定 learning rate = 0.1 梯度下降\n",
    "\n",
    "0: 输入: u, v 初始化 t=0, u, v = 1, 1\n",
    "1: 开始迭代\n",
    "2: 梯度下降法, 同时更新, u,v\n",
    "3: 直到 Error 满足要求 否则 继续2-3\n",
    "4: 停止, 得到迭代步数和(u,v)\n",
    "```\n",
    "\n",
    "### 伪代码\n",
    "\n",
    "```\n",
    "\n",
    "1. Step t = 0, eta = 0.1 initialize u(0)=1, v(0)=1, 计算 E\n",
    "2: While E > 10^{14}:\n",
    "3:    computer the gradient of u and v\n",
    "4:      g_t_u = 2(u e^v - 2 v e^{-u}) * (e^v + 2 v e^{-u})\n",
    "       g_t_v = 2(u e^v - 2 v e^{-u}) * ( u e^v - 2e^{-u})\n",
    "\n",
    "5:    move in the direction\n",
    "        delta_t_u = - g_t_u\n",
    "        delta_t_v = - g_t_v\n",
    "6:    update (u, v):\n",
    "        u(t+1) = u(t) + eta * delta_t_u\n",
    "        v(t+1) = v(t) + eta * delta_t_v\n",
    "         \n",
    "7     t = t+1 \n",
    "8     calculate E = (u e^v - 2 v e^{-u})^2)\n",
    "9: output: print iterations t and (u, v)\n",
    "\n",
    "```\n",
    "\n",
    "### 实现\n",
    "\n",
    "见下面代码"
   ]
  },
  {
   "cell_type": "code",
   "execution_count": 1,
   "metadata": {},
   "outputs": [
    {
     "name": "stdout",
     "output_type": "stream",
     "text": [
      "Iterations: 10\n",
      "(u, v)= (0.04473629039778207, 0.023958714099141746)\n"
     ]
    }
   ],
   "source": [
    "# gradient descent\n",
    "\n",
    "import math\n",
    "\n",
    "# initialization\n",
    "t = 0\n",
    "eta = 0.1\n",
    "u = 1\n",
    "v = 1\n",
    "lists = [(u, v)] # Store weights of iteration\n",
    "\n",
    "E = (u * math.exp(v) - 2 * v * math.exp(-u)) ** 2\n",
    "\n",
    "while E > 1e-14:\n",
    "    gtu = 2 * (u * math.exp(v) - 2 * v * math.exp(-u)) * (math.exp(v) + 2 * v * math.exp(-u))\n",
    "    gtv = 2 * (u * math.exp(v) - 2 * v * math.exp(-u)) * (u * math.exp(v) - 2 * math.exp(-u))\n",
    "\n",
    "    delta_tu = - gtu\n",
    "    delta_tv = - gtv\n",
    "    \n",
    "    u = u + eta * delta_tu\n",
    "    v = v + eta * delta_tv\n",
    "    lists.append((u, v))\n",
    "    \n",
    "    t += 1\n",
    "    E = (u * math.exp(v) - 2 * v * math.exp(-u)) ** 2\n",
    "\n",
    "print(\"Iterations: {}\".format(t))\n",
    "print(\"(u, v)= {}\".format(lists[t]))"
   ]
  },
  {
   "cell_type": "markdown",
   "metadata": {},
   "source": [
    "## 答案\n",
    "\n",
    "- Q5 选择 d: 10\n",
    "- Q6 选择 e: (.045, .024)"
   ]
  },
  {
   "cell_type": "code",
   "execution_count": 2,
   "metadata": {},
   "outputs": [
    {
     "name": "stdout",
     "output_type": "stream",
     "text": [
      "Iterations: 10\n",
      "(u, v)= (0.04473629039778207, 0.023958714099141746)\n"
     ]
    }
   ],
   "source": [
    "# gradient descent\n",
    "\n",
    "import math\n",
    "\n",
    "# initialization\n",
    "t = 0\n",
    "eta = 0.1\n",
    "u = 1\n",
    "v = 1\n",
    "lists = [(u, v)] # Store weights of iteration\n",
    "\n",
    "E = (u * math.exp(v) - 2 * v * math.exp(-u)) ** 2\n",
    "\n",
    "while E > 1e-14:\n",
    "    gtu = 2 * (u * math.exp(v) - 2 * v * math.exp(-u)) * (math.exp(v) + 2 * v * math.exp(-u))\n",
    "    gtv = 2 * (u * math.exp(v) - 2 * v * math.exp(-u)) * (u * math.exp(v) - 2 * math.exp(-u))\n",
    "\n",
    "    delta_tu, delta_tv = -gtu, -gtv\n",
    "    \n",
    "    u, v = u + eta * delta_tu,  v + eta * delta_tv\n",
    "    lists.append((u, v))\n",
    "    \n",
    "    t += 1\n",
    "    E = (u * math.exp(v) - 2 * v * math.exp(-u)) ** 2\n",
    "\n",
    "print(\"Iterations: {}\".format(t))\n",
    "print(\"(u, v)= {}\".format(lists[t]))"
   ]
  },
  {
   "cell_type": "markdown",
   "metadata": {},
   "source": [
    "## Q 7\n",
    "\n",
    "问题类似"
   ]
  },
  {
   "cell_type": "code",
   "execution_count": 7,
   "metadata": {},
   "outputs": [
    {
     "name": "stdout",
     "output_type": "stream",
     "text": [
      "Iterations: 15\n",
      "(u, v)= (6.3542765862436505, -2.4395948141618025)\n",
      "Error: 0.139813791996\n"
     ]
    }
   ],
   "source": [
    "# coordinate descent\n",
    "\n",
    "eta = 0.1\n",
    "t = 0\n",
    "u, v = 1, 1\n",
    "\n",
    "E = (u * math.exp(v) - 2 * v * math.exp(-u)) ** 2\n",
    "\n",
    "for i in range(15):\n",
    "    gtu = 2 * (u * math.exp(v) - 2 * v * math.exp(-u)) * (math.exp(v) + 2 * v * math.exp(-u))\n",
    "    delta_tu = - gtu\n",
    "    u = u + eta * delta_tu\n",
    "    \n",
    "    gtv = 2 * (u * math.exp(v) - 2 * v * math.exp(-u)) * (u * math.exp(v) - 2 * math.exp(-u))\n",
    "    delta_tv = - gtv\n",
    "    v = v + eta * delta_tv\n",
    "    \n",
    "    t += 1\n",
    "    lists.append((u, v))\n",
    "\n",
    "E = (u * math.exp(v) - 2 * v * math.exp(-u)) ** 2\n",
    "    \n",
    "print(\"Iterations: {}\".format(t))\n",
    "print(\"(u, v)= {}\".format(lists[t]))\n",
    "print(\"Error: {0}\".format(E))"
   ]
  },
  {
   "cell_type": "markdown",
   "metadata": {},
   "source": [
    "### 问题7的答案是: a 1e-1"
   ]
  },
  {
   "cell_type": "markdown",
   "metadata": {},
   "source": [
    "# Logistic Regression\n",
    "\n",
    "## Q8-Q9\n",
    "\n",
    "- 问题分析: \n",
    "    - (1)  输入空间 X: 样本集 100个训练样本 2d 空间 [-1, 1] x [-1, 1]     \n",
    "    - (2)  目标函数 f: 随机从 输入空间 X 中 选两个点, 生成 f, 划分样本得到样本标签      \n",
    "    - (3)  final function g: 使用 Logistic Regression with Stochastic Gradient Descent to find g. E{out} 使用 cross entropy error.      \n",
    "    - (4)  100次试验.  得到不同的 g, 与 error, 取平均      \n",
    "    - (5)  每次试验有停止条件: abs(w(t-1) - w(t)) < 0.01)      \n",
    "    - (6)  测试样本数目 100     \n",
    "    - (7)  求: E{out}, 平均迭代次数.  \n",
    "- 明确要求\n",
    "    - 要我们求 Eout 与 平均迭代次数 \n",
    "    - 在上面的基础上, 我们要设计我们程序的流程\n",
    "- 设计流程\n",
    "    - 设计函数, 生成训练集 100个样本\n",
    "    - 设计函数, 得到目标函数, 并训练样本的标签\n",
    "    - 通过训练样本 Logistic Regression 得到 final function\n",
    "    - 使用测试集, 得到 Eout, 与平均迭代次数\n",
    "    - 重复上面的步骤, 直到完成100次\n",
    "    - 计算 Eout 与 迭代次数的平均值"
   ]
  },
  {
   "cell_type": "markdown",
   "metadata": {
    "collapsed": true
   },
   "source": [
    "- 伪代码简要\n",
    "\n",
    "```\n",
    "def gen_dataset(size)\n",
    "\n",
    "def target():\n",
    "\n",
    "def logistic_regression():\n",
    "    training()\n",
    "    \n",
    "def testing()\n",
    "\n",
    "def cross_entropy(): # error\n",
    "\n",
    "for i in range(number_experiment):\n",
    "   weights, iters = logistic_regression()\n",
    "   \n",
    "   iters +\n",
    "   e_out + \n",
    "\n",
    "avg_e_out\n",
    "avg_iters\n",
    "\n",
    "print(avg_e_out, avg_iters)\n",
    "```"
   ]
  },
  {
   "cell_type": "code",
   "execution_count": 1,
   "metadata": {
    "collapsed": true
   },
   "outputs": [],
   "source": [
    "# Implement\n",
    "\n",
    "import random\n",
    "\n",
    "def gen_dataset(size):\n",
    "    dataset = [[1, random.uniform(-1, 1), random.uniform(-1, 1)] for i in xrange(size)]\n",
    "    return dataset"
   ]
  },
  {
   "cell_type": "code",
   "execution_count": 2,
   "metadata": {},
   "outputs": [],
   "source": [
    "def target(feature, p1, p2):\n",
    "    x, y = feature[1], feature[2]\n",
    "    x1, y1 = p1[0], p1[1]\n",
    "    x2, y2 = p2[0], p2[1]\n",
    "    scope = (y2 - y1)/(x2 - x1)\n",
    "\n",
    "    return 1 if y > (scope * (x - x1) + y1) else -1"
   ]
  },
  {
   "cell_type": "code",
   "execution_count": 3,
   "metadata": {},
   "outputs": [],
   "source": [
    "p1 = (random.uniform(-1, 1), random.uniform(-1, 1))\n",
    "p2 = (random.uniform(-1, 1), random.uniform(-1, 1))"
   ]
  },
  {
   "cell_type": "code",
   "execution_count": 4,
   "metadata": {},
   "outputs": [],
   "source": [
    "import math\n",
    "\n",
    "def cross_entropy(feature, label, weights):\n",
    "    error =  math.log(1 + math.exp(- label * np.dot(weights, feature)))\n",
    "    return error"
   ]
  },
  {
   "cell_type": "code",
   "execution_count": 5,
   "metadata": {},
   "outputs": [
    {
     "name": "stdout",
     "output_type": "stream",
     "text": [
      "[1, 0.6091568789134454, 0.16795307696814477]\n"
     ]
    }
   ],
   "source": [
    "training_data = gen_dataset(100)\n",
    "print training_data[0]"
   ]
  },
  {
   "cell_type": "code",
   "execution_count": 6,
   "metadata": {},
   "outputs": [
    {
     "name": "stdout",
     "output_type": "stream",
     "text": [
      "-1\n"
     ]
    }
   ],
   "source": [
    "label = [target(point, p1, p2) for point in training_data]\n",
    "print label[0]"
   ]
  },
  {
   "cell_type": "code",
   "execution_count": 7,
   "metadata": {},
   "outputs": [
    {
     "data": {
      "text/plain": [
       "100"
      ]
     },
     "execution_count": 7,
     "metadata": {},
     "output_type": "execute_result"
    }
   ],
   "source": [
    "len(label)"
   ]
  },
  {
   "cell_type": "code",
   "execution_count": 8,
   "metadata": {},
   "outputs": [
    {
     "name": "stdout",
     "output_type": "stream",
     "text": [
      "<type 'list'>\n"
     ]
    }
   ],
   "source": [
    "print(type(label))"
   ]
  },
  {
   "cell_type": "code",
   "execution_count": 9,
   "metadata": {},
   "outputs": [
    {
     "name": "stdout",
     "output_type": "stream",
     "text": [
      "0.15625665262\n"
     ]
    }
   ],
   "source": [
    "import numpy as np\n",
    "\n",
    "weights = np.array([-1, -1, -1])\n",
    "feature = np.array(training_data[0])\n",
    "\n",
    "error = cross_entropy(feature, label[0], weights)\n",
    "print error"
   ]
  },
  {
   "cell_type": "code",
   "execution_count": 10,
   "metadata": {
    "collapsed": true
   },
   "outputs": [],
   "source": [
    "feature = np.array(random.choice(training_data))"
   ]
  },
  {
   "cell_type": "code",
   "execution_count": 11,
   "metadata": {},
   "outputs": [
    {
     "name": "stdout",
     "output_type": "stream",
     "text": [
      "[ 1.          0.38141127  0.37120576]\n"
     ]
    }
   ],
   "source": [
    "print feature"
   ]
  },
  {
   "cell_type": "code",
   "execution_count": 12,
   "metadata": {},
   "outputs": [
    {
     "name": "stdout",
     "output_type": "stream",
     "text": [
      "<type 'numpy.ndarray'>\n"
     ]
    }
   ],
   "source": [
    "print type(feature)"
   ]
  },
  {
   "cell_type": "code",
   "execution_count": 13,
   "metadata": {},
   "outputs": [
    {
     "ename": "ValueError",
     "evalue": "a must be 1-dimensional",
     "output_type": "error",
     "traceback": [
      "\u001b[0;31m---------------------------------------------------------------------------\u001b[0m",
      "\u001b[0;31mValueError\u001b[0m                                Traceback (most recent call last)",
      "\u001b[0;32m<ipython-input-13-d0bcc2b870bd>\u001b[0m in \u001b[0;36m<module>\u001b[0;34m()\u001b[0m\n\u001b[0;32m----> 1\u001b[0;31m \u001b[0mfeature_np\u001b[0m \u001b[0;34m=\u001b[0m \u001b[0mnp\u001b[0m\u001b[0;34m.\u001b[0m\u001b[0mrandom\u001b[0m\u001b[0;34m.\u001b[0m\u001b[0mchoice\u001b[0m\u001b[0;34m(\u001b[0m\u001b[0mtraining_data\u001b[0m\u001b[0;34m)\u001b[0m\u001b[0;34m\u001b[0m\u001b[0m\n\u001b[0m\u001b[1;32m      2\u001b[0m \u001b[0;32mprint\u001b[0m \u001b[0mfeature_np\u001b[0m\u001b[0;34m\u001b[0m\u001b[0m\n\u001b[1;32m      3\u001b[0m \u001b[0;32mprint\u001b[0m \u001b[0mtype\u001b[0m\u001b[0;34m(\u001b[0m\u001b[0mfeature_np\u001b[0m\u001b[0;34m)\u001b[0m\u001b[0;34m\u001b[0m\u001b[0m\n",
      "\u001b[0;32mmtrand.pyx\u001b[0m in \u001b[0;36mmtrand.RandomState.choice\u001b[0;34m()\u001b[0m\n",
      "\u001b[0;31mValueError\u001b[0m: a must be 1-dimensional"
     ]
    }
   ],
   "source": [
    "feature_np = np.random.choice(training_data)\n",
    "print feature_np\n",
    "print type(feature_np)"
   ]
  },
  {
   "cell_type": "code",
   "execution_count": 32,
   "metadata": {
    "collapsed": true
   },
   "outputs": [],
   "source": [
    "def cross_entropy(feature, label, weights):\n",
    "    error =  math.log(1 + math.exp(- label * np.dot(weights, feature)))\n",
    "    error_diff = np.array(-label * feature) / (1 + math.exp(label * np.dot(weights, feature)))\n",
    "    return error, error_diff"
   ]
  },
  {
   "cell_type": "code",
   "execution_count": 15,
   "metadata": {},
   "outputs": [
    {
     "name": "stdout",
     "output_type": "stream",
     "text": [
      "0.15625665262 [ 0.14466036  0.08812086  0.02429615]\n"
     ]
    }
   ],
   "source": [
    "weights = np.array([-1, -1, -1])\n",
    "feature = np.array(training_data[0])\n",
    "\n",
    "error, error_diff = cross_entropy(feature, label[0], weights)\n",
    "print error, error_diff"
   ]
  },
  {
   "cell_type": "code",
   "execution_count": 16,
   "metadata": {},
   "outputs": [
    {
     "name": "stdout",
     "output_type": "stream",
     "text": [
      "[-1 -1 -1]\n",
      "[ 1.          0.60915688  0.16795308]\n",
      "-1.77710995588\n"
     ]
    }
   ],
   "source": [
    "print weights\n",
    "print feature\n",
    "print np.dot(feature, weights)"
   ]
  },
  {
   "cell_type": "code",
   "execution_count": 17,
   "metadata": {},
   "outputs": [],
   "source": [
    "# logistic regression\n",
    "def training(size, weights, p1, p2):\n",
    "    eta = 0.01\n",
    "    \n",
    "    training_dataset = gen_dataset(size)\n",
    "    training_label = [target(point, p1, p2) for  point in training_data]\n",
    "\n",
    "    t = 0\n",
    "    all_weights = []\n",
    "    all_error = []\n",
    "    weights = weights\n",
    "\n",
    "    all_weights.append(weights)\n",
    "    dist = 1\n",
    "    \n",
    "#     if len(all_weights) == 1:\n",
    "#         idx = random.randint(0, size-1)\n",
    "#         x_feature = np.array(training_dataset[idx]) \n",
    "#         x_label = training_label[idx]\n",
    "\n",
    "    \n",
    "#         error, error_diff = cross_entropy(x_feature, x_label, weights)\n",
    "#         weights = all_weights[t] - eta * error_diff\n",
    "        \n",
    "#         all_error.append(error)\n",
    "#         all_weights.append(weights)\n",
    "#         t += 1\n",
    "    \n",
    "#     while not np.linalg.norm(all_weights[t] - all_weights[t-1]) < 0.01:\n",
    "#         idx = random.randint(0, size-1)\n",
    "#         x_feature = np.array(training_dataset[idx])\n",
    "#         x_label = training_label[idx]\n",
    "        \n",
    "#         error, error_diff = cross_entropy(x_feature, x_label, weights)\n",
    "#         weights = all_weights[t] - eta * error_diff\n",
    "\n",
    "#         all_error.append(error)\n",
    "#         all_weights.append(weights)\n",
    "#         t += 1\n",
    "    \n",
    "    while not dist < 0.01:\n",
    "        permuted_order = range(size)\n",
    "        random.shuffle(permuted_order)\n",
    "        \n",
    "        for idx in permuted_order:\n",
    "            x_feature = np.array(training_dataset[idx])\n",
    "            x_label = training_label[idx]\n",
    "            \n",
    "            error, error_diff = cross_entropy(x_feature, x_label, weights)\n",
    "            weights = all_weights[t] - eta * error_diff\n",
    "            \n",
    "            all_error.append(error)\n",
    "            all_weights.append(weights)\n",
    "            t += 1\n",
    "            dist = np.linalg.norm(all_weights[t] - all_weights[t-1])\n",
    "    \n",
    "    final_weights = all_weights[t]\n",
    "    return t, final_weights"
   ]
  },
  {
   "cell_type": "code",
   "execution_count": 18,
   "metadata": {
    "collapsed": true
   },
   "outputs": [],
   "source": [
    "def sigmod(x):\n",
    "    return 1 / (1 + math.exp(-x))"
   ]
  },
  {
   "cell_type": "code",
   "execution_count": 34,
   "metadata": {
    "collapsed": true
   },
   "outputs": [],
   "source": [
    "def testing(size, weights, p1, p2):\n",
    "    testing_set = gen_dataset(size)\n",
    "    \n",
    "    e_out = 0\n",
    "    \n",
    "    for feature in testing_set:\n",
    "        true_label = target(feature, p1, p2)\n",
    "        error, descent = cross_entropy(feature, true_label, weights)\n",
    "        e_out += error\n",
    "        \n",
    "    e_out = error / float(size)\n",
    "    \n",
    "    return e_out"
   ]
  },
  {
   "cell_type": "code",
   "execution_count": 35,
   "metadata": {},
   "outputs": [
    {
     "name": "stdout",
     "output_type": "stream",
     "text": [
      "Average iterations: 100.00\n",
      "Average_E_out: 0.01\n"
     ]
    }
   ],
   "source": [
    "# run N experiments\n",
    "\n",
    "p1 = (random.uniform(-1, 1), random.uniform(-1, 1))\n",
    "p2 = (random.uniform(-1, 1), random.uniform(-1, 1))\n",
    "\n",
    "N = 100\n",
    "training_size = 100\n",
    "testing_size = 100\n",
    "avg_iters = 0\n",
    "avg_eout = 0\n",
    "\n",
    "weights = np.array([0, 0, 0])\n",
    "\n",
    "for i in range(N):\n",
    "    # one experiment\n",
    "    # training\n",
    "    iterations, final_weights = training(training_size, weights, p1, p2)\n",
    "    avg_iters += iterations\n",
    "    \n",
    "    # testing\n",
    "    e_out = testing(testing_size, final_weights, p1, p2)\n",
    "    avg_eout += e_out\n",
    "\n",
    "avg_iters /= float(N)\n",
    "avg_eout /= float(N)\n",
    "\n",
    "print(\"Average iterations: {:.2f}\".format(avg_iters))\n",
    "print(\"Average_E_out: {:.2f}\".format(avg_eout))"
   ]
  },
  {
   "cell_type": "markdown",
   "metadata": {},
   "source": [
    "# log\n",
    "\n",
    "第一次进入循环, 不停止啊. \n",
    "\n",
    "问题:\n",
    "\n",
    "```\n",
    "        idx = random.randint(0, size-1)\n",
    "        x_feature = np.array(training_dataset[idx]) \n",
    "        x_label = training_label[idx]\n",
    "```\n",
    "\n",
    "程序有 bug 转入脚本进行调试\n",
    "\n",
    "- learning rate , eta = 0.1 搞错了 要为 0.01\n",
    "- Eout 也搞错了\n",
    "\n",
    "修正后, 正确啦.\n",
    "\n"
   ]
  },
  {
   "cell_type": "markdown",
   "metadata": {
    "collapsed": true
   },
   "source": [
    "# 答案\n",
    "\n",
    "Q8 choose a 0.025\n",
    "Q9 Choose a 350"
   ]
  }
 ],
 "metadata": {
  "kernelspec": {
   "display_name": "Python 2",
   "language": "python",
   "name": "python2"
  },
  "language_info": {
   "codemirror_mode": {
    "name": "ipython",
    "version": 2
   },
   "file_extension": ".py",
   "mimetype": "text/x-python",
   "name": "python",
   "nbconvert_exporter": "python",
   "pygments_lexer": "ipython2",
   "version": "2.7.13"
  }
 },
 "nbformat": 4,
 "nbformat_minor": 2
}
