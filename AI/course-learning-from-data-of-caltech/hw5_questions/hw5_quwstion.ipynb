{
 "cells": [
  {
   "cell_type": "markdown",
   "metadata": {
    "collapsed": true
   },
   "source": [
    "# linear regression error"
   ]
  },
  {
   "cell_type": "markdown",
   "metadata": {},
   "source": [
    "# q1 \n",
    "\n",
    "$$\\sigma^2 (1 - \\frac{d+1}{N}) > \\delta$$\n",
    "\n",
    "$$N > \\frac{d+1}{1 - \\frac{\\delta}{\\sigma^2}}$$"
   ]
  },
  {
   "cell_type": "markdown",
   "metadata": {},
   "source": [
    "其中 \n",
    "\n",
    "$$\\sigma = 0.1, d =8, \\delta=0.008$$\n",
    "\n",
    "有:\n",
    "\n",
    "$$N > 45$$\n",
    "\n",
    "so choose: (c):1000"
   ]
  },
  {
   "cell_type": "markdown",
   "metadata": {},
   "source": [
    "# Nonlinear transfomation"
   ]
  },
  {
   "cell_type": "markdown",
   "metadata": {},
   "source": [
    "# q2 \n",
    "\n",
    "双曲线问题.[双曲线 - 维基百科，自由的百科全书](https://zh.wikipedia.org/wiki/%E5%8F%8C%E6%9B%B2%E7%BA%BF)\n",
    "\n",
    "确定系数, 参考 $$x^2 -y^2 - 1 = 0$$\n",
    "\n",
    "$$1 - x_{1}^2 + x_{2}^2 = 0$$\n",
    "\n",
    "$$w_{1} < 0, w_{2} > 0$$\n",
    "\n",
    "选 **d** 选项"
   ]
  },
  {
   "cell_type": "markdown",
   "metadata": {},
   "source": [
    "# q3\n",
    "\n",
    "2d 线性模型的 VC dimension 为 d_vc = 3. \n",
    "\n",
    "而 4th 多形式非线性转换, 特征空间的维数变为 d = 4*(4+3)/2 = 14\n",
    "\n",
    "> What is the smallest value among the following choices that is not smaller than the VC dimension of a linear model in this transformed space?\n",
    "\n",
    "choose 5. \n",
    "\n",
    "我的问题: 变换后 特征维数个数 与 模型 VC dimension 有什么联系呢?\n",
    "\n",
    "我的答案 有问题啊. 我还没有搞明白他们的练习.  "
   ]
  },
  {
   "cell_type": "markdown",
   "metadata": {},
   "source": [
    "# Gradient Descent"
   ]
  },
  {
   "cell_type": "markdown",
   "metadata": {},
   "source": [
    "# q4 求导\n",
    "\n",
    "容易: 选 e"
   ]
  },
  {
   "cell_type": "markdown",
   "metadata": {
    "collapsed": true
   },
   "source": [
    "# q5 - 7\n",
    "\n",
    "现在是两个自变量u, v, 一个因变量E(E_in)\n",
    "\n",
    "E (u, v)\n",
    "\n",
    "也就是要用梯度法, 得到(u, v) 这一对数值, 使得 E 最小(或满足要求)\n",
    "\n",
    "- 在 q5 中到达 E < 10^-14 时的迭代次数\n",
    "- 在 q6 中求 q5 状态下(条件下), 找到的 (u, v) 值\n",
    "- q7 与 \"coordiante descent\" 比较\n",
    "    - coordiante descent 步骤\n",
    "        - 1. v固定, 现在u这个坐标上减小 Error\n",
    "        - 2. 这时候, 在上面那个 u 值基础上, 在 v 坐标上搜索, 找到减小 Error 值\n",
    "        - 其中 学习因子 都为 0.1 与 gradient descent 中的相同.\n",
    "    - 在 15次完整的迭代(总30 steps(u, v 各迭代15次)), 看看 error 值如何"
   ]
  },
  {
   "cell_type": "markdown",
   "metadata": {},
   "source": [
    "## 梯度下降伪代码\n",
    "\n",
    "```\n",
    "# Fix learning rate gradient descent algorithm\n",
    "# (batch gradient descent)\n",
    "1: Initialize at step t = 0 to w(0).\n",
    "\n",
    "2: for t = 0, 1, 2, ..., do\n",
    "3:    Compute the gradient\n",
    "              g_t = ▽E_in(w(t))\n",
    "\n",
    "4:    Move in the direction\n",
    "              v_t = - g_t\n",
    "\n",
    "5:    Update the weights:\n",
    "              w(t+1) = w(t) + η v_t\n",
    "\n",
    "6:    Iterate 'until it is time to stop'\n",
    "7: end for\n",
    "8: Return the final weights.\n",
    "```"
   ]
  },
  {
   "cell_type": "markdown",
   "metadata": {},
   "source": [
    "## 该问题解决流程\n",
    "\n",
    "### q5-q6 梯度下降法\n",
    "\n",
    "\n",
    "```\n",
    "固定 learning rate = 0.1 梯度下降\n",
    "\n",
    "0: 输入: u, v 初始化 t=0, u, v = 1, 1\n",
    "1: 开始迭代\n",
    "2: 梯度下降法, 同时更新, u,v\n",
    "3: 直到 Error 满足要求 否则 继续2-3\n",
    "4: 停止, 得到迭代步数和(u,v)\n",
    "```\n",
    "\n",
    "### 伪代码\n",
    "\n",
    "```\n",
    "\n",
    "1. Step t = 0, eta = 0.1 initialize u(0)=1, v(0)=1, 计算 E\n",
    "2: While E > 10^{14}:\n",
    "3:    computer the gradient of u and v\n",
    "4:      g_t_u = 2(u e^v - 2 v e^{-u}) * (e^v + 2 v e^{-u})\n",
    "       g_t_v = 2(u e^v - 2 v e^{-u}) * ( u e^v - 2e^{-u})\n",
    "\n",
    "5:    move in the direction\n",
    "        delta_t_u = - g_t_u\n",
    "        delta_t_v = - g_t_v\n",
    "6:    update (u, v):\n",
    "        u(t+1) = u(t) + eta * delta_t_u\n",
    "        v(t+1) = v(t) + eta * delta_t_v\n",
    "         \n",
    "7     t = t+1 \n",
    "8     calculate E = (u e^v - 2 v e^{-u})^2)\n",
    "9: output: print iterations t and (u, v)\n",
    "\n",
    "```\n",
    "\n",
    "### 实现\n",
    "\n",
    "见下面代码"
   ]
  },
  {
   "cell_type": "code",
   "execution_count": 1,
   "metadata": {
    "collapsed": false
   },
   "outputs": [
    {
     "name": "stdout",
     "output_type": "stream",
     "text": [
      "Iterations: 10\n",
      "(u, v)= (0.04473629039778207, 0.023958714099141746)\n"
     ]
    }
   ],
   "source": [
    "# gradient descent\n",
    "\n",
    "import math\n",
    "\n",
    "# initialization\n",
    "t = 0\n",
    "eta = 0.1\n",
    "u = 1\n",
    "v = 1\n",
    "lists = [(u, v)] # Store weights of iteration\n",
    "\n",
    "E = (u * math.exp(v) - 2 * v * math.exp(-u)) ** 2\n",
    "\n",
    "while E > 1e-14:\n",
    "    gtu = 2 * (u * math.exp(v) - 2 * v * math.exp(-u)) * (math.exp(v) + 2 * v * math.exp(-u))\n",
    "    gtv = 2 * (u * math.exp(v) - 2 * v * math.exp(-u)) * (u * math.exp(v) - 2 * math.exp(-u))\n",
    "\n",
    "    delta_tu = - gtu\n",
    "    delta_tv = - gtv\n",
    "    \n",
    "    u = u + eta * delta_tu\n",
    "    v = v + eta * delta_tv\n",
    "    lists.append((u, v))\n",
    "    \n",
    "    t += 1\n",
    "    E = (u * math.exp(v) - 2 * v * math.exp(-u)) ** 2\n",
    "\n",
    "print(\"Iterations: {}\".format(t))\n",
    "print(\"(u, v)= {}\".format(lists[t]))"
   ]
  },
  {
   "cell_type": "markdown",
   "metadata": {},
   "source": [
    "## 答案\n",
    "\n",
    "- Q5 选择 d: 10\n",
    "- Q6 选择 e: (.045, .024)"
   ]
  },
  {
   "cell_type": "code",
   "execution_count": 2,
   "metadata": {
    "collapsed": false
   },
   "outputs": [
    {
     "name": "stdout",
     "output_type": "stream",
     "text": [
      "Iterations: 10\n",
      "(u, v)= (0.04473629039778207, 0.023958714099141746)\n"
     ]
    }
   ],
   "source": [
    "# gradient descent\n",
    "\n",
    "import math\n",
    "\n",
    "# initialization\n",
    "t = 0\n",
    "eta = 0.1\n",
    "u = 1\n",
    "v = 1\n",
    "lists = [(u, v)] # Store weights of iteration\n",
    "\n",
    "E = (u * math.exp(v) - 2 * v * math.exp(-u)) ** 2\n",
    "\n",
    "while E > 1e-14:\n",
    "    gtu = 2 * (u * math.exp(v) - 2 * v * math.exp(-u)) * (math.exp(v) + 2 * v * math.exp(-u))\n",
    "    gtv = 2 * (u * math.exp(v) - 2 * v * math.exp(-u)) * (u * math.exp(v) - 2 * math.exp(-u))\n",
    "\n",
    "    delta_tu, delta_tv = -gtu, -gtv\n",
    "    \n",
    "    u, v = u + eta * delta_tu,  v + eta * delta_tv\n",
    "    lists.append((u, v))\n",
    "    \n",
    "    t += 1\n",
    "    E = (u * math.exp(v) - 2 * v * math.exp(-u)) ** 2\n",
    "\n",
    "print(\"Iterations: {}\".format(t))\n",
    "print(\"(u, v)= {}\".format(lists[t]))"
   ]
  },
  {
   "cell_type": "markdown",
   "metadata": {},
   "source": [
    "## Q 7\n",
    "\n",
    "问题类似"
   ]
  },
  {
   "cell_type": "code",
   "execution_count": 7,
   "metadata": {
    "collapsed": false
   },
   "outputs": [
    {
     "name": "stdout",
     "output_type": "stream",
     "text": [
      "Iterations: 15\n",
      "(u, v)= (6.3542765862436505, -2.4395948141618025)\n",
      "Error: 0.139813791996\n"
     ]
    }
   ],
   "source": [
    "# coordinate descent\n",
    "\n",
    "eta = 0.1\n",
    "t = 0\n",
    "u, v = 1, 1\n",
    "\n",
    "E = (u * math.exp(v) - 2 * v * math.exp(-u)) ** 2\n",
    "\n",
    "for i in range(15):\n",
    "    gtu = 2 * (u * math.exp(v) - 2 * v * math.exp(-u)) * (math.exp(v) + 2 * v * math.exp(-u))\n",
    "    delta_tu = - gtu\n",
    "    u = u + eta * delta_tu\n",
    "    \n",
    "    gtv = 2 * (u * math.exp(v) - 2 * v * math.exp(-u)) * (u * math.exp(v) - 2 * math.exp(-u))\n",
    "    delta_tv = - gtv\n",
    "    v = v + eta * delta_tv\n",
    "    \n",
    "    t += 1\n",
    "    lists.append((u, v))\n",
    "\n",
    "E = (u * math.exp(v) - 2 * v * math.exp(-u)) ** 2\n",
    "    \n",
    "print(\"Iterations: {}\".format(t))\n",
    "print(\"(u, v)= {}\".format(lists[t]))\n",
    "print(\"Error: {0}\".format(E))"
   ]
  },
  {
   "cell_type": "markdown",
   "metadata": {},
   "source": [
    "### 问题7的答案是: a 1e-1"
   ]
  },
  {
   "cell_type": "markdown",
   "metadata": {},
   "source": [
    "# Logistic Regression\n",
    "\n",
    "## Q8-Q9\n",
    "\n",
    "- 问题分析: \n",
    "\n",
    "(1)  输入空间 X: 样本集 100个训练样本 2d 空间 [-1, 1] x [-1, 1]     \n",
    "(2)  目标函数 f: 随机从 输入空间 X 中 选两个点, 生成 f, 划分样本得到样本标签      \n",
    "(3)  final function g: 使用 Logistic Regression with Stochastic Gradient Descent to find g. E{out} 使用 cross entropy error.      \n",
    "(4)  100次试验.  得到不同的 g, 与 error, 取平均      \n",
    "(5)  每次试验有停止条件: abs(w(t-1) - w(t)) < 0.01)      \n",
    "(6)  测试样本数目 100     \n",
    "(7)  求: E{out}, 平均迭代次数.  \n"
   ]
  },
  {
   "cell_type": "code",
   "execution_count": null,
   "metadata": {
    "collapsed": true
   },
   "outputs": [],
   "source": []
  }
 ],
 "metadata": {
  "kernelspec": {
   "display_name": "Python 2",
   "language": "python",
   "name": "python2"
  },
  "language_info": {
   "codemirror_mode": {
    "name": "ipython",
    "version": 2
   },
   "file_extension": ".py",
   "mimetype": "text/x-python",
   "name": "python",
   "nbconvert_exporter": "python",
   "pygments_lexer": "ipython2",
   "version": "2.7.13"
  }
 },
 "nbformat": 4,
 "nbformat_minor": 2
}
