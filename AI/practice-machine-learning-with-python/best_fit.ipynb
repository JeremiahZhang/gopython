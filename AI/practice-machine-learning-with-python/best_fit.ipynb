{
 "cells": [
  {
   "cell_type": "code",
   "execution_count": 1,
   "metadata": {
    "collapsed": false
   },
   "outputs": [],
   "source": [
    "%matplotlib inline"
   ]
  },
  {
   "cell_type": "code",
   "execution_count": 2,
   "metadata": {
    "collapsed": true
   },
   "outputs": [],
   "source": [
    "import numpy as np\n",
    "import matplotlib.pyplot as plt\n",
    "from matplotlib import style\n",
    "\n",
    "def best_fit_slope(xs, ys):\n",
    "    m = ((np.mean(xs) * np.mean(ys)) - np.mean(xs*ys)) / \\\n",
    "            (np.mean(xs)**2 - np.mean(xs*xs))\n",
    "\n",
    "    b = np.mean(ys) - m * np.mean(xs)\n",
    "    return m, b"
   ]
  },
  {
   "cell_type": "code",
   "execution_count": 3,
   "metadata": {
    "collapsed": false
   },
   "outputs": [
    {
     "name": "stdout",
     "output_type": "stream",
     "text": [
      "Best fit slope: 0.3 and constant b: 4.3\n"
     ]
    },
    {
     "data": {
      "image/png": "[encoded data removed]",
      "text/plain": [
       "<matplotlib.figure.Figure at 0x8184d68>"
      ]
     },
     "metadata": {},
     "output_type": "display_data"
    },
    {
     "name": "stdout",
     "output_type": "stream",
     "text": [
      "Prediction of x(7) is 6.4\n"
     ]
    },
    {
     "data": {
      "image/png": "[encoded data removed]",
      "text/plain": [
       "<matplotlib.figure.Figure at 0x8ec49b0>"
      ]
     },
     "metadata": {},
     "output_type": "display_data"
    }
   ],
   "source": [
    "xs = np.array([1, 2, 3, 4, 5], dtype=np.float64)\n",
    "ys = np.array([5, 4, 6, 5, 6], dtype=np.float64)\n",
    "\n",
    "m, b = best_fit_slope(xs, ys)\n",
    "print(\"Best fit slope: {} and constant b: {}\".format(m, b))\n",
    "\n",
    "# plot regression_line\n",
    "regression_line = [(m*x) + b for x in xs]\n",
    "\n",
    "plt.figure(1)\n",
    "plt.scatter(xs, ys, color=\"#003F72\")\n",
    "plt.plot(xs, regression_line)\n",
    "plt.show()\n",
    "\n",
    "# prediction\n",
    "predict_x = 7\n",
    "predict_y = (m*predict_x) + b\n",
    "print(\"Prediction of x({}) is {}\".format(predict_x, predict_y))\n",
    "\n",
    "plt.figure(2)\n",
    "plt.scatter(xs, ys, color=\"#003F72\", label=\"data\")\n",
    "plt.plot(xs, regression_line, label=\"regression line\")\n",
    "plt.scatter(predict_x, predict_y, color=\"green\", label=\"predict_data\")\n",
    "plt.legend(loc=4)\n",
    "plt.show()"
   ]
  },
  {
   "cell_type": "code",
   "execution_count": 6,
   "metadata": {
    "collapsed": true
   },
   "outputs": [],
   "source": [
    "def squared_error(origin_ys, predicted_ys):\n",
    "    return np.sum((origin_ys - predicted_ys) ** 2)"
   ]
  },
  {
   "cell_type": "code",
   "execution_count": 7,
   "metadata": {
    "collapsed": true
   },
   "outputs": [],
   "source": [
    "def r_square(origin_ys, predicted_ys):\n",
    "    ys_mean_line = [np.mean(origin_ys) for y in origin_ys]\n",
    "    squared_error_y_mean = squared_error(origin_ys, ys_mean_line)\n",
    "    squared_error_y_predict = squared_error(origin_ys, predicted_ys)\n",
    "    r2 = 1 - squared_error_y_predict/squared_error_y_mean\n",
    "    return r2"
   ]
  },
  {
   "cell_type": "code",
   "execution_count": 11,
   "metadata": {
    "collapsed": false
   },
   "outputs": [
    {
     "name": "stdout",
     "output_type": "stream",
     "text": [
      "R square(coefficient of determination): 0.321428571429\n"
     ]
    }
   ],
   "source": [
    "predicted_xs = np.array([1.1, 2.3, 4.5, 6.1, 7.3], dtype=np.float64)\n",
    "\n",
    "predicted_ys = [m*x+b for x in xs]\n",
    "predicted_ys = np.array(predicted_ys, dtype=np.float64)\n",
    "\n",
    "r2 = r_square(ys, predicted_ys)\n",
    "print(\"R square(coefficient of determination): {}\".format(r2))"
   ]
  },
  {
   "cell_type": "code",
   "execution_count": null,
   "metadata": {
    "collapsed": true
   },
   "outputs": [],
   "source": []
  }
 ],
 "metadata": {
  "kernelspec": {
   "display_name": "Python 2",
   "language": "python",
   "name": "python2"
  },
  "language_info": {
   "codemirror_mode": {
    "name": "ipython",
    "version": 2
   },
   "file_extension": ".py",
   "mimetype": "text/x-python",
   "name": "python",
   "nbconvert_exporter": "python",
   "pygments_lexer": "ipython2",
   "version": "2.7.13"
  }
 },
 "nbformat": 4,
 "nbformat_minor": 2
}
