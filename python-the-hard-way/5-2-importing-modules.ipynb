{
 "cells": [
  {
   "cell_type": "code",
   "execution_count": 1,
   "metadata": {
    "collapsed": true
   },
   "outputs": [],
   "source": [
    "import types"
   ]
  },
  {
   "cell_type": "code",
   "execution_count": 2,
   "metadata": {
    "collapsed": false
   },
   "outputs": [
    {
     "data": {
      "text/plain": [
       "function"
      ]
     },
     "execution_count": 2,
     "metadata": {},
     "output_type": "execute_result"
    }
   ],
   "source": [
    "types.FunctionType"
   ]
  },
  {
   "cell_type": "code",
   "execution_count": 3,
   "metadata": {
    "collapsed": true
   },
   "outputs": [],
   "source": [
    "from apihelper import info"
   ]
  },
  {
   "cell_type": "code",
   "execution_count": 5,
   "metadata": {
    "collapsed": false
   },
   "outputs": [
    {
     "name": "stdout",
     "output_type": "stream",
     "text": [
      "__call__   x.__call__(...) <==> x(...)\n",
      "__class__  type(object) -> the object's type type(name, bases, dict) -> a new type\n",
      "__delattr__ x.__delattr__('name') <==> del x.name\n",
      "__format__ default object formatter\n",
      "__get__    descr.__get__(obj[, type]) -> value\n",
      "__getattribute__ x.__getattribute__('name') <==> x.name\n",
      "__hash__   x.__hash__() <==> hash(x)\n",
      "__init__   x.__init__(...) initializes x; see help(type(x)) for signature\n",
      "__new__    T.__new__(S, ...) -> a new object with type S, a subtype of T\n",
      "__reduce__ helper for pickle\n",
      "__reduce_ex__ helper for pickle\n",
      "__repr__   x.__repr__() <==> repr(x)\n",
      "__setattr__ x.__setattr__('name', value) <==> x.name = value\n",
      "__sizeof__ __sizeof__() -> int size of object in memory, in bytes\n",
      "__str__    x.__str__() <==> str(x)\n",
      "__subclasshook__ Abstract classes can override this to customize issubclass(). This is invoked early on by abc.ABCMeta.__subclasscheck__(). It should return True, False or NotImplemented. If it returns NotImplemented, the normal algorithm is used. Otherwise, it overrides the normal algorithm (and the outcome is cached).\n"
     ]
    }
   ],
   "source": [
    "info(types.FunctionType)"
   ]
  },
  {
   "cell_type": "code",
   "execution_count": 6,
   "metadata": {
    "collapsed": false
   },
   "outputs": [
    {
     "ename": "NameError",
     "evalue": "name 'FunctionType' is not defined",
     "output_type": "error",
     "traceback": [
      "\u001b[0;31m---------------------------------------------------------------------------\u001b[0m",
      "\u001b[0;31mNameError\u001b[0m                                 Traceback (most recent call last)",
      "\u001b[0;32m<ipython-input-6-66c15b651254>\u001b[0m in \u001b[0;36m<module>\u001b[0;34m()\u001b[0m\n\u001b[0;32m----> 1\u001b[0;31m \u001b[0mFunctionType\u001b[0m\u001b[1;33m\u001b[0m\u001b[0m\n\u001b[0m",
      "\u001b[0;31mNameError\u001b[0m: name 'FunctionType' is not defined"
     ]
    }
   ],
   "source": [
    "FunctionType"
   ]
  },
  {
   "cell_type": "code",
   "execution_count": 7,
   "metadata": {
    "collapsed": true
   },
   "outputs": [],
   "source": [
    "from types import FunctionType"
   ]
  },
  {
   "cell_type": "code",
   "execution_count": 8,
   "metadata": {
    "collapsed": false
   },
   "outputs": [
    {
     "data": {
      "text/plain": [
       "function"
      ]
     },
     "execution_count": 8,
     "metadata": {},
     "output_type": "execute_result"
    }
   ],
   "source": [
    "FunctionType"
   ]
  },
  {
   "cell_type": "code",
   "execution_count": 9,
   "metadata": {
    "collapsed": false
   },
   "outputs": [
    {
     "name": "stdout",
     "output_type": "stream",
     "text": [
      "__call__   x.__call__(...) <==> x(...)\n",
      "__class__  type(object) -> the object's type type(name, bases, dict) -> a new type\n",
      "__delattr__ x.__delattr__('name') <==> del x.name\n",
      "__format__ default object formatter\n",
      "__get__    descr.__get__(obj[, type]) -> value\n",
      "__getattribute__ x.__getattribute__('name') <==> x.name\n",
      "__hash__   x.__hash__() <==> hash(x)\n",
      "__init__   x.__init__(...) initializes x; see help(type(x)) for signature\n",
      "__new__    T.__new__(S, ...) -> a new object with type S, a subtype of T\n",
      "__reduce__ helper for pickle\n",
      "__reduce_ex__ helper for pickle\n",
      "__repr__   x.__repr__() <==> repr(x)\n",
      "__setattr__ x.__setattr__('name', value) <==> x.name = value\n",
      "__sizeof__ __sizeof__() -> int size of object in memory, in bytes\n",
      "__str__    x.__str__() <==> str(x)\n",
      "__subclasshook__ Abstract classes can override this to customize issubclass(). This is invoked early on by abc.ABCMeta.__subclasscheck__(). It should return True, False or NotImplemented. If it returns NotImplemented, the normal algorithm is used. Otherwise, it overrides the normal algorithm (and the outcome is cached).\n"
     ]
    }
   ],
   "source": [
    "info(FunctionType)"
   ]
  },
  {
   "cell_type": "code",
   "execution_count": 10,
   "metadata": {
    "collapsed": false
   },
   "outputs": [
    {
     "name": "stdout",
     "output_type": "stream",
     "text": [
      "function(code, globals[, name[, argdefs[, closure]]])\n",
      "\n",
      "Create a function object from a code object and a dictionary.\n",
      "The optional name string overrides the name from the code object.\n",
      "The optional argdefs tuple specifies the default argument values.\n",
      "The optional closure tuple supplies the bindings for free variables.\n"
     ]
    }
   ],
   "source": [
    "print(FunctionType.__doc__)"
   ]
  },
  {
   "cell_type": "markdown",
   "metadata": {},
   "source": [
    "> When should you use from module import?\n",
    "\n",
    "    - If you will be accessing attributes and methods often and don't want to type the module name over and over, use from module import.\n",
    "    - If you want to selectively import some attributes and methods but not others, use from module import.\n",
    "    - If the module contains attributes or functions with the same name as ones in your module, you must use import module to avoid name conflicts.\n",
    "\n",
    "but warning\n",
    "\n",
    "> Use from module import * sparingly, because it makes it difficult to determine where a particular function or attribute came from, and that makes debugging and refactoring more difficult. "
   ]
  }
 ],
 "metadata": {
  "kernelspec": {
   "display_name": "Python 2",
   "language": "python",
   "name": "python2"
  },
  "language_info": {
   "codemirror_mode": {
    "name": "ipython",
    "version": 2
   },
   "file_extension": ".py",
   "mimetype": "text/x-python",
   "name": "python",
   "nbconvert_exporter": "python",
   "pygments_lexer": "ipython2",
   "version": "2.7.13"
  }
 },
 "nbformat": 4,
 "nbformat_minor": 2
}
